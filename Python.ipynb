{
  "nbformat": 4,
  "nbformat_minor": 0,
  "metadata": {
    "colab": {
      "name": "Python.ipynb",
      "provenance": [],
      "collapsed_sections": [
        "KfaqBcBxei0T",
        "z9D87uEGesE3",
        "RSURllXshtji"
      ],
      "authorship_tag": "ABX9TyP2AOSJHxYfkc5nnEr62xsi",
      "include_colab_link": true
    },
    "kernelspec": {
      "display_name": "Python 3",
      "name": "python3"
    }
  },
  "cells": [
    {
      "cell_type": "markdown",
      "metadata": {
        "id": "view-in-github",
        "colab_type": "text"
      },
      "source": [
        "<a href=\"https://colab.research.google.com/github/jota-villacis/pythonNotes/blob/main/Python.ipynb\" target=\"_parent\"><img src=\"https://colab.research.google.com/assets/colab-badge.svg\" alt=\"Open In Colab\"/></a>"
      ]
    },
    {
      "cell_type": "markdown",
      "metadata": {
        "id": "3m3plvAaAn73"
      },
      "source": [
        "#**Notas Curso Python para Todos - Udemy**\n",
        "\n",
        "Instructor: Manuel Montoya\n",
        "\n",
        "DataHack Formation"
      ]
    },
    {
      "cell_type": "markdown",
      "metadata": {
        "id": "KfaqBcBxei0T"
      },
      "source": [
        "# Tipos de Variables"
      ]
    },
    {
      "cell_type": "markdown",
      "metadata": {
        "id": "Ib1btycbBeJ_"
      },
      "source": [
        "> ..:: Variables Numericas ::.."
      ]
    },
    {
      "cell_type": "code",
      "metadata": {
        "colab": {
          "base_uri": "https://localhost:8080/"
        },
        "id": "RXxqV0kd_1pb",
        "outputId": "067c6438-aecf-48c0-8f7d-0f727ca3970c"
      },
      "source": [
        "# Tipo Entero (int)\n",
        "\n",
        "x = 20\n",
        "x"
      ],
      "execution_count": null,
      "outputs": [
        {
          "output_type": "execute_result",
          "data": {
            "text/plain": [
              "20"
            ]
          },
          "metadata": {
            "tags": []
          },
          "execution_count": 1
        }
      ]
    },
    {
      "cell_type": "code",
      "metadata": {
        "colab": {
          "base_uri": "https://localhost:8080/"
        },
        "id": "Ye99J4KACTSL",
        "outputId": "a943a0ba-77be-4d69-ff6e-9cdf2bba5b9e"
      },
      "source": [
        "# Tipo decimal / Variable de punto flotante (float)\n",
        "\n",
        "y = 10.8\n",
        "y"
      ],
      "execution_count": null,
      "outputs": [
        {
          "output_type": "execute_result",
          "data": {
            "text/plain": [
              "10.8"
            ]
          },
          "metadata": {
            "tags": []
          },
          "execution_count": 2
        }
      ]
    },
    {
      "cell_type": "code",
      "metadata": {
        "colab": {
          "base_uri": "https://localhost:8080/"
        },
        "id": "YViNYjme_7F0",
        "outputId": "ea3b180f-ffdb-4025-d40f-67344924b38b"
      },
      "source": [
        "# Obetner el tipo de variable\n",
        "\n",
        "type(y)"
      ],
      "execution_count": null,
      "outputs": [
        {
          "output_type": "execute_result",
          "data": {
            "text/plain": [
              "float"
            ]
          },
          "metadata": {
            "tags": []
          },
          "execution_count": 3
        }
      ]
    },
    {
      "cell_type": "markdown",
      "metadata": {
        "id": "HbIjH_BZDXRN"
      },
      "source": [
        "> ..:: Casteo de variables numéricas ::.."
      ]
    },
    {
      "cell_type": "code",
      "metadata": {
        "colab": {
          "base_uri": "https://localhost:8080/"
        },
        "id": "mKS7tSGCC1YV",
        "outputId": "f4cbe9d2-0e5c-4cc3-e705-0f7cd5f5cc59"
      },
      "source": [
        "x = 50.7\n",
        "y = 48.9\n",
        "\n",
        "# Casteo explícito > Le indico el tipo de variable que quiero obtener y la coloco dentro \"z = int(x+y)\"\n",
        "\n",
        "z = int(x+y)\n",
        "z"
      ],
      "execution_count": null,
      "outputs": [
        {
          "output_type": "execute_result",
          "data": {
            "text/plain": [
              "99"
            ]
          },
          "metadata": {
            "tags": []
          },
          "execution_count": 4
        }
      ]
    },
    {
      "cell_type": "code",
      "metadata": {
        "colab": {
          "base_uri": "https://localhost:8080/"
        },
        "id": "upOazQ5EEnvv",
        "outputId": "dd5021a3-b732-4f5b-c2d8-398632a8d0b2"
      },
      "source": [
        "z = int(x) + int(y)\n",
        "z\n"
      ],
      "execution_count": null,
      "outputs": [
        {
          "output_type": "execute_result",
          "data": {
            "text/plain": [
              "98"
            ]
          },
          "metadata": {
            "tags": []
          },
          "execution_count": 5
        }
      ]
    },
    {
      "cell_type": "markdown",
      "metadata": {
        "id": "GqM03wuoFLP2"
      },
      "source": [
        "> ..:: Funcion \"round\" ::.."
      ]
    },
    {
      "cell_type": "code",
      "metadata": {
        "colab": {
          "base_uri": "https://localhost:8080/"
        },
        "id": "Gm2INozeFCWP",
        "outputId": "37c51102-2aea-4688-9ed9-94a4306b53a0"
      },
      "source": [
        "# Permite obtener el número entero más cercano a el número decimal \n",
        "\n",
        "x = 37.4\n",
        "y = 22.8\n",
        "\n",
        "z = round(x) + round(y)\n",
        "z"
      ],
      "execution_count": null,
      "outputs": [
        {
          "output_type": "execute_result",
          "data": {
            "text/plain": [
              "60"
            ]
          },
          "metadata": {
            "tags": []
          },
          "execution_count": 6
        }
      ]
    },
    {
      "cell_type": "code",
      "metadata": {
        "colab": {
          "base_uri": "https://localhost:8080/"
        },
        "id": "3ME0H6a8ECPx",
        "outputId": "87634ed8-0578-4524-e282-db662fb0ffd0"
      },
      "source": [
        "# Para convertir una variable a tipo \"float\" (flotante)\n",
        "\n",
        "x = 7\n",
        "\n",
        "z = float(x)\n",
        "z"
      ],
      "execution_count": null,
      "outputs": [
        {
          "output_type": "execute_result",
          "data": {
            "text/plain": [
              "7.0"
            ]
          },
          "metadata": {
            "tags": []
          },
          "execution_count": 8
        }
      ]
    },
    {
      "cell_type": "code",
      "metadata": {
        "colab": {
          "base_uri": "https://localhost:8080/"
        },
        "id": "UulAeQdjHYKr",
        "outputId": "e2a7a2d0-32f3-46ae-88c5-106124abdab1"
      },
      "source": [
        "# Comprobamos el tipo de dato nuevamente con \"type(z)\"\n",
        "\n",
        "type(z)"
      ],
      "execution_count": null,
      "outputs": [
        {
          "output_type": "execute_result",
          "data": {
            "text/plain": [
              "float"
            ]
          },
          "metadata": {
            "tags": []
          },
          "execution_count": 9
        }
      ]
    },
    {
      "cell_type": "markdown",
      "metadata": {
        "id": "ebZxkJ5uIo7C"
      },
      "source": [
        "> ..:: Operadores de Variables Numéricas ::.."
      ]
    },
    {
      "cell_type": "code",
      "metadata": {
        "id": "VDoURwb2H_GO"
      },
      "source": [
        " a = 20\n",
        " b = 10"
      ],
      "execution_count": null,
      "outputs": []
    },
    {
      "cell_type": "code",
      "metadata": {
        "colab": {
          "base_uri": "https://localhost:8080/"
        },
        "id": "dI30jGEKJQd-",
        "outputId": "22dccf61-4d68-4a79-846f-9766ec152ffc"
      },
      "source": [
        "# Adición \n",
        "\n",
        "a + b"
      ],
      "execution_count": null,
      "outputs": [
        {
          "output_type": "execute_result",
          "data": {
            "text/plain": [
              "30"
            ]
          },
          "metadata": {
            "tags": []
          },
          "execution_count": 11
        }
      ]
    },
    {
      "cell_type": "code",
      "metadata": {
        "colab": {
          "base_uri": "https://localhost:8080/"
        },
        "id": "X_TaMfx_JT_J",
        "outputId": "9553677d-e71c-4e59-94ab-d5f8b9444639"
      },
      "source": [
        "# Sustracción\n",
        "\n",
        "a - b"
      ],
      "execution_count": null,
      "outputs": [
        {
          "output_type": "execute_result",
          "data": {
            "text/plain": [
              "10"
            ]
          },
          "metadata": {
            "tags": []
          },
          "execution_count": 12
        }
      ]
    },
    {
      "cell_type": "code",
      "metadata": {
        "colab": {
          "base_uri": "https://localhost:8080/"
        },
        "id": "IYALiNB6JX8R",
        "outputId": "f171633f-5cd8-4d76-a178-995d2452f829"
      },
      "source": [
        "# Multiplicación\n",
        "\n",
        "a * b"
      ],
      "execution_count": null,
      "outputs": [
        {
          "output_type": "execute_result",
          "data": {
            "text/plain": [
              "200"
            ]
          },
          "metadata": {
            "tags": []
          },
          "execution_count": 13
        }
      ]
    },
    {
      "cell_type": "code",
      "metadata": {
        "colab": {
          "base_uri": "https://localhost:8080/"
        },
        "id": "X8gPd1JZJaMw",
        "outputId": "b1c7ff75-00d6-4b12-8e29-3ae2ae692e4b"
      },
      "source": [
        "# División\n",
        "\n",
        "a / b"
      ],
      "execution_count": null,
      "outputs": [
        {
          "output_type": "execute_result",
          "data": {
            "text/plain": [
              "2.0"
            ]
          },
          "metadata": {
            "tags": []
          },
          "execution_count": 14
        }
      ]
    },
    {
      "cell_type": "code",
      "metadata": {
        "colab": {
          "base_uri": "https://localhost:8080/"
        },
        "id": "8CrwmmCUJb9-",
        "outputId": "61d7869d-b03a-4b16-a14d-c20f63fbafc1"
      },
      "source": [
        "# Potencia\n",
        "\n",
        "a ** b"
      ],
      "execution_count": null,
      "outputs": [
        {
          "output_type": "execute_result",
          "data": {
            "text/plain": [
              "10240000000000"
            ]
          },
          "metadata": {
            "tags": []
          },
          "execution_count": 15
        }
      ]
    },
    {
      "cell_type": "code",
      "metadata": {
        "colab": {
          "base_uri": "https://localhost:8080/"
        },
        "id": "QbzaxLjgJds4",
        "outputId": "c4278370-1f52-4941-9d73-ee14cabd7560"
      },
      "source": [
        "# Obtner el Resto\n",
        "\n",
        "a % b"
      ],
      "execution_count": null,
      "outputs": [
        {
          "output_type": "execute_result",
          "data": {
            "text/plain": [
              "0"
            ]
          },
          "metadata": {
            "tags": []
          },
          "execution_count": 16
        }
      ]
    },
    {
      "cell_type": "code",
      "metadata": {
        "colab": {
          "base_uri": "https://localhost:8080/"
        },
        "id": "ugpRiD_nKovL",
        "outputId": "e05075b6-2a21-41d9-8b21-43734a19a16e"
      },
      "source": [
        "# Raiz cuadrada -> \"elevar a 1/2\" \n",
        "\n",
        "x = 16\n",
        "y = 1/2\n",
        "\n",
        "x ** (y)"
      ],
      "execution_count": null,
      "outputs": [
        {
          "output_type": "execute_result",
          "data": {
            "text/plain": [
              "4.0"
            ]
          },
          "metadata": {
            "tags": []
          },
          "execution_count": 17
        }
      ]
    },
    {
      "cell_type": "code",
      "metadata": {
        "colab": {
          "base_uri": "https://localhost:8080/"
        },
        "id": "48tnJmTbMziN",
        "outputId": "3951d3eb-33df-465e-d494-cda0ce2994e4"
      },
      "source": [
        "# Orden de operaciones\n",
        "\n",
        "5 + 16 / 2 ** 4"
      ],
      "execution_count": null,
      "outputs": [
        {
          "output_type": "execute_result",
          "data": {
            "text/plain": [
              "6.0"
            ]
          },
          "metadata": {
            "tags": []
          },
          "execution_count": 18
        }
      ]
    },
    {
      "cell_type": "code",
      "metadata": {
        "colab": {
          "base_uri": "https://localhost:8080/"
        },
        "id": "qkV-7E3sSFoG",
        "outputId": "729e6775-e329-43c7-9190-8f23bf6c8318"
      },
      "source": [
        "5 + (16 / 2) ** 4"
      ],
      "execution_count": null,
      "outputs": [
        {
          "output_type": "execute_result",
          "data": {
            "text/plain": [
              "4101.0"
            ]
          },
          "metadata": {
            "tags": []
          },
          "execution_count": 19
        }
      ]
    },
    {
      "cell_type": "markdown",
      "metadata": {
        "id": "6SUYFP-BTBsK"
      },
      "source": [
        "> ..:: Variables Booleanas ::.."
      ]
    },
    {
      "cell_type": "code",
      "metadata": {
        "colab": {
          "base_uri": "https://localhost:8080/"
        },
        "id": "zODcDl4iSuDz",
        "outputId": "58828ce6-b5fc-4ed9-8ff9-6dfeea3616ae"
      },
      "source": [
        "4 < 5"
      ],
      "execution_count": null,
      "outputs": [
        {
          "output_type": "execute_result",
          "data": {
            "text/plain": [
              "True"
            ]
          },
          "metadata": {
            "tags": []
          },
          "execution_count": 20
        }
      ]
    },
    {
      "cell_type": "code",
      "metadata": {
        "colab": {
          "base_uri": "https://localhost:8080/"
        },
        "id": "2xg7UIV6TMtt",
        "outputId": "e5baa261-e0db-419d-929b-3b36a352d3d0"
      },
      "source": [
        "a = 4 > 5\n",
        "a"
      ],
      "execution_count": null,
      "outputs": [
        {
          "output_type": "execute_result",
          "data": {
            "text/plain": [
              "False"
            ]
          },
          "metadata": {
            "tags": []
          },
          "execution_count": 21
        }
      ]
    },
    {
      "cell_type": "code",
      "metadata": {
        "colab": {
          "base_uri": "https://localhost:8080/"
        },
        "id": "9AjV3DG9TOix",
        "outputId": "dc09d16b-e059-4174-8c6b-0f6b76859162"
      },
      "source": [
        "4 == 4"
      ],
      "execution_count": null,
      "outputs": [
        {
          "output_type": "execute_result",
          "data": {
            "text/plain": [
              "True"
            ]
          },
          "metadata": {
            "tags": []
          },
          "execution_count": 22
        }
      ]
    },
    {
      "cell_type": "code",
      "metadata": {
        "colab": {
          "base_uri": "https://localhost:8080/"
        },
        "id": "e9Icv9i2TpBq",
        "outputId": "dab75e31-200a-4fcd-8b71-2611ead7afe7"
      },
      "source": [
        "x = 4 == 6\n",
        "x"
      ],
      "execution_count": null,
      "outputs": [
        {
          "output_type": "execute_result",
          "data": {
            "text/plain": [
              "False"
            ]
          },
          "metadata": {
            "tags": []
          },
          "execution_count": 23
        }
      ]
    },
    {
      "cell_type": "code",
      "metadata": {
        "colab": {
          "base_uri": "https://localhost:8080/"
        },
        "id": "BzwUXlzTTtND",
        "outputId": "dec37143-7dce-4ee6-9dc3-ce1b62728249"
      },
      "source": [
        "x = True\n",
        "y = False\n",
        "\n",
        "type(x)"
      ],
      "execution_count": null,
      "outputs": [
        {
          "output_type": "execute_result",
          "data": {
            "text/plain": [
              "bool"
            ]
          },
          "metadata": {
            "tags": []
          },
          "execution_count": 24
        }
      ]
    },
    {
      "cell_type": "markdown",
      "metadata": {
        "id": "O3dwRfj7T85L"
      },
      "source": [
        "> ..:: Operadores de combinación de variables booleanas ::.."
      ]
    },
    {
      "cell_type": "code",
      "metadata": {
        "id": "PYVPYKDtTxjS"
      },
      "source": [
        "c = True\n",
        "d = False"
      ],
      "execution_count": null,
      "outputs": []
    },
    {
      "cell_type": "code",
      "metadata": {
        "colab": {
          "base_uri": "https://localhost:8080/"
        },
        "id": "L1HNhyjxUEX8",
        "outputId": "268acf0d-5a45-4fa2-d2ce-eb15b19ae845"
      },
      "source": [
        "# Operador \"and\" > Devuelve un valor verdadero(True) si los valores analizados son verdaderos\n",
        "\n",
        "c and c"
      ],
      "execution_count": null,
      "outputs": [
        {
          "output_type": "execute_result",
          "data": {
            "text/plain": [
              "True"
            ]
          },
          "metadata": {
            "tags": []
          },
          "execution_count": 26
        }
      ]
    },
    {
      "cell_type": "code",
      "metadata": {
        "colab": {
          "base_uri": "https://localhost:8080/"
        },
        "id": "2e5LUQVYUPpW",
        "outputId": "2e962387-ba21-4648-e1c6-08a7d23ee1fa"
      },
      "source": [
        "c and d"
      ],
      "execution_count": null,
      "outputs": [
        {
          "output_type": "execute_result",
          "data": {
            "text/plain": [
              "False"
            ]
          },
          "metadata": {
            "tags": []
          },
          "execution_count": 27
        }
      ]
    },
    {
      "cell_type": "code",
      "metadata": {
        "colab": {
          "base_uri": "https://localhost:8080/"
        },
        "id": "wtdzAtiXUQ-c",
        "outputId": "098c5399-92de-4195-ecf2-ed53137fa2c7"
      },
      "source": [
        "# Operador \"or\" > Devuelve un valor verdadero(True) siempre y cuando al menos uno de los valores analizados sea verdadero\n",
        "\n",
        "c or d"
      ],
      "execution_count": null,
      "outputs": [
        {
          "output_type": "execute_result",
          "data": {
            "text/plain": [
              "True"
            ]
          },
          "metadata": {
            "tags": []
          },
          "execution_count": 28
        }
      ]
    },
    {
      "cell_type": "code",
      "metadata": {
        "colab": {
          "base_uri": "https://localhost:8080/"
        },
        "id": "HoGCAU0XU8ys",
        "outputId": "0b6f474b-2dfe-420c-cdbb-d0a5553b5a3c"
      },
      "source": [
        "d or d"
      ],
      "execution_count": null,
      "outputs": [
        {
          "output_type": "execute_result",
          "data": {
            "text/plain": [
              "False"
            ]
          },
          "metadata": {
            "tags": []
          },
          "execution_count": 29
        }
      ]
    },
    {
      "cell_type": "code",
      "metadata": {
        "colab": {
          "base_uri": "https://localhost:8080/"
        },
        "id": "rf4rOQHXU_tw",
        "outputId": "ff9565e2-050a-41e0-bc36-d6429c965db6"
      },
      "source": [
        "(3 < 4) and (4 < 5)"
      ],
      "execution_count": null,
      "outputs": [
        {
          "output_type": "execute_result",
          "data": {
            "text/plain": [
              "True"
            ]
          },
          "metadata": {
            "tags": []
          },
          "execution_count": 30
        }
      ]
    },
    {
      "cell_type": "markdown",
      "metadata": {
        "id": "XoqeelEKWV0s"
      },
      "source": [
        "> ..:: Strings ::.. "
      ]
    },
    {
      "cell_type": "code",
      "metadata": {
        "colab": {
          "base_uri": "https://localhost:8080/",
          "height": 35
        },
        "id": "IsUA8KLfWLXc",
        "outputId": "643d0c18-dd30-4d61-b814-b035a3974514"
      },
      "source": [
        "saludo = \"Hola Mundo!\"\n",
        "saludo"
      ],
      "execution_count": null,
      "outputs": [
        {
          "output_type": "execute_result",
          "data": {
            "application/vnd.google.colaboratory.intrinsic+json": {
              "type": "string"
            },
            "text/plain": [
              "'Hola Mundo!'"
            ]
          },
          "metadata": {
            "tags": []
          },
          "execution_count": 31
        }
      ]
    },
    {
      "cell_type": "code",
      "metadata": {
        "colab": {
          "base_uri": "https://localhost:8080/"
        },
        "id": "xuDnOtopW5NQ",
        "outputId": "ba403d12-d0a7-4579-f1c3-459c76188085"
      },
      "source": [
        "type(saludo)"
      ],
      "execution_count": null,
      "outputs": [
        {
          "output_type": "execute_result",
          "data": {
            "text/plain": [
              "str"
            ]
          },
          "metadata": {
            "tags": []
          },
          "execution_count": 32
        }
      ]
    },
    {
      "cell_type": "code",
      "metadata": {
        "colab": {
          "base_uri": "https://localhost:8080/",
          "height": 35
        },
        "id": "HyqBrYZIXCPa",
        "outputId": "291bfdd7-5535-4775-da39-92a27d4fe2ea"
      },
      "source": [
        "# \"F strings\" > Permite combinar sentencias de texto con valores que tenemos en otras variable\n",
        "\n",
        "nombre = \"Thor\"\n",
        "edad = 30\n",
        "\n",
        "saludo = f\"Hola {nombre}, tu edad es {edad}\"\n",
        "saludo"
      ],
      "execution_count": null,
      "outputs": [
        {
          "output_type": "execute_result",
          "data": {
            "application/vnd.google.colaboratory.intrinsic+json": {
              "type": "string"
            },
            "text/plain": [
              "'Hola Thor, tu edad es 30'"
            ]
          },
          "metadata": {
            "tags": []
          },
          "execution_count": 33
        }
      ]
    },
    {
      "cell_type": "markdown",
      "metadata": {
        "id": "EbEkcJfUYpEb"
      },
      "source": [
        "> ..:: Operadores de strings ::.."
      ]
    },
    {
      "cell_type": "code",
      "metadata": {
        "colab": {
          "base_uri": "https://localhost:8080/",
          "height": 35
        },
        "id": "_ZcGc_DkYYeo",
        "outputId": "27f40127-9dcb-465f-e5cd-515ec90d990e"
      },
      "source": [
        "cadena = \"Thor\"\n",
        "\n",
        "cadena + \", hijo de Odin\""
      ],
      "execution_count": null,
      "outputs": [
        {
          "output_type": "execute_result",
          "data": {
            "application/vnd.google.colaboratory.intrinsic+json": {
              "type": "string"
            },
            "text/plain": [
              "'Thor, hijo de Odin'"
            ]
          },
          "metadata": {
            "tags": []
          },
          "execution_count": 34
        }
      ]
    },
    {
      "cell_type": "code",
      "metadata": {
        "colab": {
          "base_uri": "https://localhost:8080/",
          "height": 35
        },
        "id": "WyWn5RqgZNcb",
        "outputId": "346ba02c-7ec4-4d6e-8f0e-da1dbbd19fed"
      },
      "source": [
        "# Cuidado con los operadores\n",
        "\n",
        "cadena * 5"
      ],
      "execution_count": null,
      "outputs": [
        {
          "output_type": "execute_result",
          "data": {
            "application/vnd.google.colaboratory.intrinsic+json": {
              "type": "string"
            },
            "text/plain": [
              "'ThorThorThorThorThor'"
            ]
          },
          "metadata": {
            "tags": []
          },
          "execution_count": 35
        }
      ]
    },
    {
      "cell_type": "code",
      "metadata": {
        "id": "zrwkQNXMZlz9"
      },
      "source": [
        "#cadena / 5  # Para ver Error descomentar"
      ],
      "execution_count": null,
      "outputs": []
    },
    {
      "cell_type": "markdown",
      "metadata": {
        "id": "OL0QutlEZ5hZ"
      },
      "source": [
        "> ..:: Otros operadores de Strings ::.."
      ]
    },
    {
      "cell_type": "code",
      "metadata": {
        "id": "Vw4LQHmjZvMc"
      },
      "source": [
        "x = \"Real Madrid\"\n",
        "y = \"Barcelona\""
      ],
      "execution_count": null,
      "outputs": []
    },
    {
      "cell_type": "code",
      "metadata": {
        "colab": {
          "base_uri": "https://localhost:8080/"
        },
        "id": "yTTJ9FOnagMi",
        "outputId": "aeee4ace-9a5b-41a2-9dff-68819c1af4d3"
      },
      "source": [
        "x < y"
      ],
      "execution_count": null,
      "outputs": [
        {
          "output_type": "execute_result",
          "data": {
            "text/plain": [
              "False"
            ]
          },
          "metadata": {
            "tags": []
          },
          "execution_count": 38
        }
      ]
    },
    {
      "cell_type": "code",
      "metadata": {
        "colab": {
          "base_uri": "https://localhost:8080/"
        },
        "id": "VyFwYn95aiSK",
        "outputId": "f87fa922-943b-4f14-8e23-4370c6ef2698"
      },
      "source": [
        "\"a\" < \"b\""
      ],
      "execution_count": null,
      "outputs": [
        {
          "output_type": "execute_result",
          "data": {
            "text/plain": [
              "True"
            ]
          },
          "metadata": {
            "tags": []
          },
          "execution_count": 39
        }
      ]
    },
    {
      "cell_type": "code",
      "metadata": {
        "colab": {
          "base_uri": "https://localhost:8080/"
        },
        "id": "zs9GkNw6al78",
        "outputId": "82200d63-9e3f-4672-8fd7-f7a7d7750e3e"
      },
      "source": [
        "\"Brasil\" == \"brasil\""
      ],
      "execution_count": null,
      "outputs": [
        {
          "output_type": "execute_result",
          "data": {
            "text/plain": [
              "False"
            ]
          },
          "metadata": {
            "tags": []
          },
          "execution_count": 40
        }
      ]
    },
    {
      "cell_type": "code",
      "metadata": {
        "colab": {
          "base_uri": "https://localhost:8080/"
        },
        "id": "zAnqTOMWbAB4",
        "outputId": "ea9eb8c7-5da9-4d05-c53f-1e5e2d636e73"
      },
      "source": [
        "\"brasil\" == \"brasil\""
      ],
      "execution_count": null,
      "outputs": [
        {
          "output_type": "execute_result",
          "data": {
            "text/plain": [
              "True"
            ]
          },
          "metadata": {
            "tags": []
          },
          "execution_count": 41
        }
      ]
    },
    {
      "cell_type": "code",
      "metadata": {
        "colab": {
          "base_uri": "https://localhost:8080/",
          "height": 35
        },
        "id": "_12nyqV8bECL",
        "outputId": "1c4a24a5-4350-419a-99de-2a68a63e761f"
      },
      "source": [
        "# Caracteres a minúsculas > Utilizando el método \"lower()\"\n",
        "\n",
        "cadena = 'Jota Villacis'\n",
        "\n",
        "cadena.lower()"
      ],
      "execution_count": null,
      "outputs": [
        {
          "output_type": "execute_result",
          "data": {
            "application/vnd.google.colaboratory.intrinsic+json": {
              "type": "string"
            },
            "text/plain": [
              "'jimmy villacis'"
            ]
          },
          "metadata": {
            "tags": []
          },
          "execution_count": 42
        }
      ]
    },
    {
      "cell_type": "code",
      "metadata": {
        "colab": {
          "base_uri": "https://localhost:8080/",
          "height": 35
        },
        "id": "6OQ7s0ZlbQQc",
        "outputId": "f98657df-7411-4dbd-b42b-3a38425f1f3d"
      },
      "source": [
        "# Caracteres a mayúsculas > Utilizando el método \"upper()\"\n",
        "\n",
        "cadena.upper()"
      ],
      "execution_count": null,
      "outputs": [
        {
          "output_type": "execute_result",
          "data": {
            "application/vnd.google.colaboratory.intrinsic+json": {
              "type": "string"
            },
            "text/plain": [
              "'JIMMY VILLACIS'"
            ]
          },
          "metadata": {
            "tags": []
          },
          "execution_count": 43
        }
      ]
    },
    {
      "cell_type": "markdown",
      "metadata": {
        "id": "WjpJv7OOcRCH"
      },
      "source": [
        "> ..:: Ingreso de valores por el usuario ::.."
      ]
    },
    {
      "cell_type": "code",
      "metadata": {
        "id": "0rz-TtUNbgAL"
      },
      "source": [
        "# Si queremos que el usuario ingrese valores para ejecutar en el código, lo realizamo con \"input()\"\n",
        "\n",
        "# input()     #Descomentar para utilizar"
      ],
      "execution_count": null,
      "outputs": []
    },
    {
      "cell_type": "code",
      "metadata": {
        "colab": {
          "background_save": true
        },
        "id": "pkDCj3Ntcl20"
      },
      "source": [
        "nombre = input(\"Ingresa tu numbre: \")"
      ],
      "execution_count": null,
      "outputs": []
    },
    {
      "cell_type": "code",
      "metadata": {
        "colab": {
          "background_save": true
        },
        "id": "ii7jmre6cvsf"
      },
      "source": [
        "nombre"
      ],
      "execution_count": null,
      "outputs": []
    },
    {
      "cell_type": "code",
      "metadata": {
        "colab": {
          "background_save": true
        },
        "id": "9pqWYx_jdI-a"
      },
      "source": [
        "edad = input(\"Ingresa tu edad: \")"
      ],
      "execution_count": null,
      "outputs": []
    },
    {
      "cell_type": "code",
      "metadata": {
        "colab": {
          "background_save": true
        },
        "id": "iZkwR0xadP5M"
      },
      "source": [
        "type(edad)"
      ],
      "execution_count": null,
      "outputs": []
    },
    {
      "cell_type": "code",
      "metadata": {
        "colab": {
          "background_save": true
        },
        "id": "X9_Pa48RdUTq"
      },
      "source": [
        "# Se debe tener cuidado con el tratamiento de la variable ya que cuando ingresa un valor en input, se ingresa como string y si queremos utilizar un valor de input como valor numerico(int) para realizar operaciones, debemos casterlo \"edad = int(edad)\"\n",
        "\n",
        "edad = int(edad)\n",
        "type(edad)"
      ],
      "execution_count": null,
      "outputs": []
    },
    {
      "cell_type": "code",
      "metadata": {
        "colab": {
          "background_save": true
        },
        "id": "k1CeClK8dZhU"
      },
      "source": [
        "edad * 10\n"
      ],
      "execution_count": null,
      "outputs": []
    },
    {
      "cell_type": "markdown",
      "metadata": {
        "id": "z9D87uEGesE3"
      },
      "source": [
        "# Ejercicio 1: Monto por préstamo"
      ]
    },
    {
      "cell_type": "markdown",
      "metadata": {
        "id": "l7hHynWWe6jM"
      },
      "source": [
        "> ..:: Calcular el monto a pagar por un préstamo ::.."
      ]
    },
    {
      "cell_type": "markdown",
      "metadata": {
        "id": "qP1OxAQUfEyg"
      },
      "source": [
        "Las variable de entrada son:\n",
        "\n",
        "m: monto prestado\n",
        "\n",
        "n: números de meses que dura el préstamo\n",
        "\n",
        "El monto final a pagar por el préstamo se calcula multiplicando el monto prestado por uno más el interés elevado a la cantidad de meses que dura el préstamo\n",
        "\n",
        "M = m * ( 1 + i )^n\n"
      ]
    },
    {
      "cell_type": "code",
      "metadata": {
        "id": "996vLTs7fyZa"
      },
      "source": [
        "m = 1000000\n",
        "i = 0.05    #5%\n",
        "n = 12"
      ],
      "execution_count": null,
      "outputs": []
    },
    {
      "cell_type": "code",
      "metadata": {
        "colab": {
          "base_uri": "https://localhost:8080/"
        },
        "id": "nQ8RUAYnfH-M",
        "outputId": "547f27de-3d7c-4701-9586-02e4cea4b9a5"
      },
      "source": [
        "monto_pago = m * (1 + i) ** n\n",
        "monto_pago"
      ],
      "execution_count": null,
      "outputs": [
        {
          "output_type": "execute_result",
          "data": {
            "text/plain": [
              "1795856.32602213"
            ]
          },
          "metadata": {
            "tags": []
          },
          "execution_count": 148
        }
      ]
    },
    {
      "cell_type": "markdown",
      "metadata": {
        "id": "RSURllXshtji"
      },
      "source": [
        "# Ejercicio 2: Segundos por Semana"
      ]
    },
    {
      "cell_type": "markdown",
      "metadata": {
        "id": "1AgoLSeciU9F"
      },
      "source": [
        "> ..:: ¿Cuántos segundos hay en un día? ::..\n",
        "\n"
      ]
    },
    {
      "cell_type": "markdown",
      "metadata": {
        "id": "vif1Rb_Bihy6"
      },
      "source": [
        "- 1 minuto tiene 60 segundos\n",
        "- 1 hora tiene 60 minutos\n",
        "- 1 día tiene 24 horas"
      ]
    },
    {
      "cell_type": "code",
      "metadata": {
        "colab": {
          "base_uri": "https://localhost:8080/"
        },
        "id": "onKWElBgi1FN",
        "outputId": "eeb42e18-b771-4db5-a9ed-6684cd6b0b7e"
      },
      "source": [
        "segundos_por_dia = 24 * 60 * 60\n",
        "segundos_por_dia"
      ],
      "execution_count": null,
      "outputs": [
        {
          "output_type": "execute_result",
          "data": {
            "text/plain": [
              "86400"
            ]
          },
          "metadata": {
            "tags": []
          },
          "execution_count": 149
        }
      ]
    },
    {
      "cell_type": "code",
      "metadata": {
        "colab": {
          "base_uri": "https://localhost:8080/"
        },
        "id": "bbqgkJLHi8FB",
        "outputId": "fc161120-2f0d-4628-9073-eca8e15df9e9"
      },
      "source": [
        "segundos_por_semana = segundos_por_dia * 7\n",
        "segundos_por_semana"
      ],
      "execution_count": null,
      "outputs": [
        {
          "output_type": "execute_result",
          "data": {
            "text/plain": [
              "604800"
            ]
          },
          "metadata": {
            "tags": []
          },
          "execution_count": 150
        }
      ]
    },
    {
      "cell_type": "code",
      "metadata": {
        "colab": {
          "base_uri": "https://localhost:8080/"
        },
        "id": "5SakoctgjG2d",
        "outputId": "4b33d83c-9872-4ebf-f4e4-a4806edb2df4"
      },
      "source": [
        "# Considerando 1 mes de 30 días\n",
        "\n",
        "segundos_por_mes = segundos_por_semana * 30\n",
        "segundos_por_mes"
      ],
      "execution_count": null,
      "outputs": [
        {
          "output_type": "execute_result",
          "data": {
            "text/plain": [
              "18144000"
            ]
          },
          "metadata": {
            "tags": []
          },
          "execution_count": 152
        }
      ]
    },
    {
      "cell_type": "code",
      "metadata": {
        "colab": {
          "base_uri": "https://localhost:8080/"
        },
        "id": "OF8NpzMFjP9M",
        "outputId": "c16afafa-11b8-4477-d857-48356895e977"
      },
      "source": [
        "segundos_por_año = segundos_por_mes * 12\n",
        "segundos_por_año"
      ],
      "execution_count": null,
      "outputs": [
        {
          "output_type": "execute_result",
          "data": {
            "text/plain": [
              "217728000"
            ]
          },
          "metadata": {
            "tags": []
          },
          "execution_count": 153
        }
      ]
    },
    {
      "cell_type": "markdown",
      "metadata": {
        "id": "6YNWRbKIQoxA"
      },
      "source": [
        "texto en cursiva# Manejo de Listas"
      ]
    },
    {
      "cell_type": "markdown",
      "metadata": {
        "id": "oEjAXJkAIPRf"
      },
      "source": [
        "Listas > Son un tipo de variable, la cual permite contener varios valores dentro de si misma"
      ]
    },
    {
      "cell_type": "code",
      "metadata": {
        "id": "9vZRwGkoJPsR"
      },
      "source": [
        "lista = [3, 3.34,'Nombre', True]"
      ],
      "execution_count": null,
      "outputs": []
    },
    {
      "cell_type": "code",
      "metadata": {
        "colab": {
          "base_uri": "https://localhost:8080/"
        },
        "id": "GuznywGsJXlT",
        "outputId": "0edf15ac-1f88-4bf5-9ab3-c2cab1d10857"
      },
      "source": [
        "lista"
      ],
      "execution_count": null,
      "outputs": [
        {
          "output_type": "execute_result",
          "data": {
            "text/plain": [
              "[3, 3.34, 'Nombre', True]"
            ]
          },
          "metadata": {
            "tags": []
          },
          "execution_count": 2
        }
      ]
    },
    {
      "cell_type": "markdown",
      "metadata": {
        "id": "dilQdo43JsMa"
      },
      "source": [
        "> ..:: INDICES ::.."
      ]
    },
    {
      "cell_type": "markdown",
      "metadata": {
        "id": "2IJ5YRsEKB1F"
      },
      "source": [
        "A los elementos de una lista se puede acceder mediante los indices los cuales comienzan desde \"0\""
      ]
    },
    {
      "cell_type": "code",
      "metadata": {
        "colab": {
          "base_uri": "https://localhost:8080/"
        },
        "id": "uY3qx4GEJeXb",
        "outputId": "1fba716e-57a5-45af-fcd9-75d808a37644"
      },
      "source": [
        "# Accediendo al segundo elemento de la lista\n",
        "\n",
        "lista[1]"
      ],
      "execution_count": null,
      "outputs": [
        {
          "output_type": "execute_result",
          "data": {
            "text/plain": [
              "3.34"
            ]
          },
          "metadata": {
            "tags": []
          },
          "execution_count": 3
        }
      ]
    },
    {
      "cell_type": "code",
      "metadata": {
        "id": "NOaDPM7cKixU"
      },
      "source": [
        "# Si se accede a un valor fuera del rango nos indica un error \n",
        "\n",
        "# lista[5]      #Descomentar para utilizar"
      ],
      "execution_count": null,
      "outputs": []
    },
    {
      "cell_type": "code",
      "metadata": {
        "colab": {
          "base_uri": "https://localhost:8080/",
          "height": 35
        },
        "id": "olh1O_GDK4Ev",
        "outputId": "04fb37aa-9dce-4666-b2f2-7b0f3c69c016"
      },
      "source": [
        " # También puedo acceder a los elemetos desde el final (derecha a izquierda) y eso se logra utilizando índices negativos\n",
        "\n",
        "lista[-2]"
      ],
      "execution_count": null,
      "outputs": [
        {
          "output_type": "execute_result",
          "data": {
            "application/vnd.google.colaboratory.intrinsic+json": {
              "type": "string"
            },
            "text/plain": [
              "'Nombre'"
            ]
          },
          "metadata": {
            "tags": []
          },
          "execution_count": 11
        }
      ]
    },
    {
      "cell_type": "code",
      "metadata": {
        "colab": {
          "base_uri": "https://localhost:8080/",
          "height": 35
        },
        "id": "VYBO0Y9CMLvy",
        "outputId": "62a1c589-6092-47ac-a100-c797b28526b0"
      },
      "source": [
        "# Comparativa con indice positivo\n",
        "\n",
        "lista[2]"
      ],
      "execution_count": null,
      "outputs": [
        {
          "output_type": "execute_result",
          "data": {
            "application/vnd.google.colaboratory.intrinsic+json": {
              "type": "string"
            },
            "text/plain": [
              "'Nombre'"
            ]
          },
          "metadata": {
            "tags": []
          },
          "execution_count": 13
        }
      ]
    },
    {
      "cell_type": "markdown",
      "metadata": {
        "id": "YCl8xHVKNigj"
      },
      "source": [
        "Con esto podemos entener que tenemos 2 maneras de acceder con índices positivos y negativos "
      ]
    },
    {
      "cell_type": "markdown",
      "metadata": {
        "id": "14Sd5MgJOaPW"
      },
      "source": [
        "> ..:: Slicing de listas ::.."
      ]
    },
    {
      "cell_type": "code",
      "metadata": {
        "id": "iBxhvcoBMhNL"
      },
      "source": [
        "lista = [10,20,30,40,50,60,70,80,90,100]"
      ],
      "execution_count": null,
      "outputs": []
    },
    {
      "cell_type": "code",
      "metadata": {
        "colab": {
          "base_uri": "https://localhost:8080/"
        },
        "id": "1lIXPFpoPKws",
        "outputId": "d40d8176-8dfd-44ac-e984-04cac162a1e6"
      },
      "source": [
        "# utilizar un rango para acceder a una lista > Ejemplo comenzar en el índice 2 y terminar en el índice 5, esto ocasiona que se seleccionen todos los elementos desde 2 hasta 7, sin embargo esto nos devuelve todo el rango de los elementos a excepción del último  \n",
        "\n",
        "lista[2:7]"
      ],
      "execution_count": null,
      "outputs": [
        {
          "output_type": "execute_result",
          "data": {
            "text/plain": [
              "[30, 40, 50, 60, 70]"
            ]
          },
          "metadata": {
            "tags": []
          },
          "execution_count": 3
        }
      ]
    },
    {
      "cell_type": "code",
      "metadata": {
        "colab": {
          "base_uri": "https://localhost:8080/"
        },
        "id": "Xt7xGXLAP111",
        "outputId": "db1a8b8f-db7e-4d49-e950-d0c1fa334b44"
      },
      "source": [
        "# Utilizando rango con índices negativos, nuevamente vemos que no se considera el segundo indice \n",
        "\n",
        "lista[2:-2]"
      ],
      "execution_count": null,
      "outputs": [
        {
          "output_type": "execute_result",
          "data": {
            "text/plain": [
              "[30, 40, 50, 60, 70, 80]"
            ]
          },
          "metadata": {
            "tags": []
          },
          "execution_count": 20
        }
      ]
    },
    {
      "cell_type": "code",
      "metadata": {
        "colab": {
          "base_uri": "https://localhost:8080/"
        },
        "id": "ywVsWSSlbNKq",
        "outputId": "380bc915-d8d0-4f21-a497-535bee94613e"
      },
      "source": [
        "# Se debe tener en consideración que el resultado que se obtiene también es una lista, para verificarlo lo podemos asignar a una variable y verificar el tipo de esta variable\n",
        "\n",
        "variable = lista[2:-2]\n",
        "type(variable)\n"
      ],
      "execution_count": null,
      "outputs": [
        {
          "output_type": "execute_result",
          "data": {
            "text/plain": [
              "list"
            ]
          },
          "metadata": {
            "tags": []
          },
          "execution_count": 22
        }
      ]
    },
    {
      "cell_type": "markdown",
      "metadata": {
        "id": "AxuoZs-DRklj"
      },
      "source": [
        "> ..:: Operaciones con Listas ::.."
      ]
    },
    {
      "cell_type": "code",
      "metadata": {
        "id": "hdT5ZV6qRrVi"
      },
      "source": [
        "lista = [10,20,30,40,50,60,70,80,90,100]\n",
        "lista2 = [1,2,3,4,5]"
      ],
      "execution_count": null,
      "outputs": []
    },
    {
      "cell_type": "code",
      "metadata": {
        "colab": {
          "base_uri": "https://localhost:8080/"
        },
        "id": "C1ZlO7DqSOre",
        "outputId": "6325b527-b3dc-40a8-8b19-8f953fbe9f68"
      },
      "source": [
        "# Concatenar listas usando \"+\"\n",
        "\n",
        "lista + lista2"
      ],
      "execution_count": null,
      "outputs": [
        {
          "output_type": "execute_result",
          "data": {
            "text/plain": [
              "[10, 20, 30, 40, 50, 60, 70, 80, 90, 100, 1, 2, 3, 4, 5]"
            ]
          },
          "metadata": {
            "tags": []
          },
          "execution_count": 3
        }
      ]
    },
    {
      "cell_type": "code",
      "metadata": {
        "colab": {
          "base_uri": "https://localhost:8080/"
        },
        "id": "lMlUMdotSeR-",
        "outputId": "20d7df59-e22f-4752-8f91-a53ed201a1a0"
      },
      "source": [
        "# Es importante el orden en que se ingresan los datos, ya que determina el orden en que son agregados, como se demuestra a continuación inviertiendo el orden de la operación anterior\n",
        "\n",
        "lista2 + lista"
      ],
      "execution_count": null,
      "outputs": [
        {
          "output_type": "execute_result",
          "data": {
            "text/plain": [
              "[1, 2, 3, 4, 5, 10, 20, 30, 40, 50, 60, 70, 80, 90, 100]"
            ]
          },
          "metadata": {
            "tags": []
          },
          "execution_count": 4
        }
      ]
    },
    {
      "cell_type": "code",
      "metadata": {
        "colab": {
          "base_uri": "https://localhost:8080/"
        },
        "id": "jgsy1x-OS0WO",
        "outputId": "241aa691-a27b-4f9f-db19-c75b0ee1a9d9"
      },
      "source": [
        "# Al utilizar el \"*\" generamos que me multiplique el contenido de nuestra lista\n",
        "\n",
        "lista2 * 3"
      ],
      "execution_count": null,
      "outputs": [
        {
          "output_type": "execute_result",
          "data": {
            "text/plain": [
              "[1, 2, 3, 4, 5, 1, 2, 3, 4, 5, 1, 2, 3, 4, 5]"
            ]
          },
          "metadata": {
            "tags": []
          },
          "execution_count": 8
        }
      ]
    },
    {
      "cell_type": "code",
      "metadata": {
        "id": "_jcCB-5eTqge"
      },
      "source": [
        "# Se debe tener consideración con ciertos símbolos matematicos que generan error\n",
        "\n",
        "# lista2 / 5     #Descomentar para comprobar"
      ],
      "execution_count": null,
      "outputs": []
    },
    {
      "cell_type": "code",
      "metadata": {
        "id": "xxA-TXxfVNZh"
      },
      "source": [
        "# Intentar multiplicar 2 listas también nos da error ya que no esta esta soportado por python porque no está definida para los operadores\n",
        "\n",
        "# lista * lista2      #Descomentar para comprobar"
      ],
      "execution_count": null,
      "outputs": []
    },
    {
      "cell_type": "markdown",
      "metadata": {
        "id": "6xEeWRivV7Ko"
      },
      "source": [
        "> ..:: Funciones (len - append - insert) ::.."
      ]
    },
    {
      "cell_type": "code",
      "metadata": {
        "id": "VJlVZwCyWt41"
      },
      "source": [
        "lista = [10,20,30,40,50,60,70,80,90,100]"
      ],
      "execution_count": null,
      "outputs": []
    },
    {
      "cell_type": "code",
      "metadata": {
        "colab": {
          "base_uri": "https://localhost:8080/"
        },
        "id": "JObV3HSwWNFh",
        "outputId": "3bc442d9-8c6b-4114-bfad-969bb5209a7a"
      },
      "source": [
        "# Función \"len()\"(length) > Permite obtener la cantidad de elementos dentro de una lista\n",
        "\n",
        "len(lista)"
      ],
      "execution_count": null,
      "outputs": [
        {
          "output_type": "execute_result",
          "data": {
            "text/plain": [
              "10"
            ]
          },
          "metadata": {
            "tags": []
          },
          "execution_count": 5
        }
      ]
    },
    {
      "cell_type": "code",
      "metadata": {
        "colab": {
          "base_uri": "https://localhost:8080/"
        },
        "id": "Dus3EL2dXDmJ",
        "outputId": "4007a69a-a48a-4feb-fd25-8240f7c55c61"
      },
      "source": [
        "# Función \"append()\" > Permite agregar un elemento al final de una lista\n",
        "\n",
        "lista.append(110)\n",
        "\n",
        "lista"
      ],
      "execution_count": null,
      "outputs": [
        {
          "output_type": "execute_result",
          "data": {
            "text/plain": [
              "[10, 20, 30, 40, 50, 60, 70, 80, 90, 100, 110]"
            ]
          },
          "metadata": {
            "tags": []
          },
          "execution_count": 6
        }
      ]
    },
    {
      "cell_type": "code",
      "metadata": {
        "colab": {
          "base_uri": "https://localhost:8080/"
        },
        "id": "fFQDNLoyYCe1",
        "outputId": "2fdbfb33-946b-4b22-d7ef-d30d73c5bffc"
      },
      "source": [
        "# Función \"insert()\" > Permite insertar un objeto en cualquier posición de la lista, especificandole el índice\n",
        "\n",
        "lista.insert(3, 999)    #(indice,objeto)\n",
        "lista"
      ],
      "execution_count": null,
      "outputs": [
        {
          "output_type": "execute_result",
          "data": {
            "text/plain": [
              "[10, 20, 30, 999, 40, 50, 60, 70, 80, 90, 100, 110]"
            ]
          },
          "metadata": {
            "tags": []
          },
          "execution_count": 7
        }
      ]
    },
    {
      "cell_type": "code",
      "metadata": {
        "colab": {
          "base_uri": "https://localhost:8080/"
        },
        "id": "-4y5_hFC2Y7c",
        "outputId": "227d6311-6562-41f0-bb2f-32c9481a7d6d"
      },
      "source": [
        "#También es posible insertar objetos utilizando indice negativo \n",
        "\n",
        "lista.insert(-2,111)\n",
        "lista"
      ],
      "execution_count": null,
      "outputs": [
        {
          "output_type": "execute_result",
          "data": {
            "text/plain": [
              "[10, 20, 30, 999, 40, 50, 60, 70, 80, 90, 111, 111, 100, 110]"
            ]
          },
          "metadata": {
            "tags": []
          },
          "execution_count": 9
        }
      ]
    },
    {
      "cell_type": "markdown",
      "metadata": {
        "id": "f14efsKxZu3b"
      },
      "source": [
        "> ..:: Funciones (pop - remove) - Eliminar elementos ::.."
      ]
    },
    {
      "cell_type": "code",
      "metadata": {
        "colab": {
          "base_uri": "https://localhost:8080/"
        },
        "id": "ozoWQ35YZ53L",
        "outputId": "6b729097-9d7d-4163-90e4-770fadb1d490"
      },
      "source": [
        "# Función \"pop()\" > Permite eliminar un elemento con un indice específico\n",
        "\n",
        "lista.pop(0)"
      ],
      "execution_count": null,
      "outputs": [
        {
          "output_type": "execute_result",
          "data": {
            "text/plain": [
              "10"
            ]
          },
          "metadata": {
            "tags": []
          },
          "execution_count": 25
        }
      ]
    },
    {
      "cell_type": "code",
      "metadata": {
        "colab": {
          "base_uri": "https://localhost:8080/"
        },
        "id": "qz37X8rwaVWE",
        "outputId": "3774f1ed-2fa3-40ad-e4b3-bb935dbcd6f9"
      },
      "source": [
        "lista"
      ],
      "execution_count": null,
      "outputs": [
        {
          "output_type": "execute_result",
          "data": {
            "text/plain": [
              "[20, 30, 999, 40, 50, 60, 70, 80, 90, 100, 110]"
            ]
          },
          "metadata": {
            "tags": []
          },
          "execution_count": 26
        }
      ]
    },
    {
      "cell_type": "code",
      "metadata": {
        "id": "ZVg8iVXCaYJw"
      },
      "source": [
        "# Eliminar un elemento y asignarlo a una variable\n",
        "\n",
        "variable = lista.pop(2) "
      ],
      "execution_count": null,
      "outputs": []
    },
    {
      "cell_type": "code",
      "metadata": {
        "colab": {
          "base_uri": "https://localhost:8080/"
        },
        "id": "oL1GsrEeanKO",
        "outputId": "25a944f1-4374-4b9e-a5c7-dc1eab7b0f42"
      },
      "source": [
        "variable"
      ],
      "execution_count": null,
      "outputs": [
        {
          "output_type": "execute_result",
          "data": {
            "text/plain": [
              "999"
            ]
          },
          "metadata": {
            "tags": []
          },
          "execution_count": 29
        }
      ]
    },
    {
      "cell_type": "code",
      "metadata": {
        "colab": {
          "base_uri": "https://localhost:8080/"
        },
        "id": "gBpwrJIpa5eK",
        "outputId": "7941ffa8-37ad-430c-b1e3-f8f507f6671a"
      },
      "source": [
        "lista"
      ],
      "execution_count": null,
      "outputs": [
        {
          "output_type": "execute_result",
          "data": {
            "text/plain": [
              "[20, 30, 40, 50, 60, 70, 80, 90, 100, 110]"
            ]
          },
          "metadata": {
            "tags": []
          },
          "execution_count": 30
        }
      ]
    },
    {
      "cell_type": "code",
      "metadata": {
        "id": "I6fzEUy4a62a"
      },
      "source": [
        "# Eliminar un elemento, según su valor con la función \"remove()\"\n",
        "\n",
        "lista.remove(110)"
      ],
      "execution_count": null,
      "outputs": []
    },
    {
      "cell_type": "code",
      "metadata": {
        "colab": {
          "base_uri": "https://localhost:8080/"
        },
        "id": "Txr0dxxLbSWw",
        "outputId": "60b07664-a439-40a8-b4a0-aa1077233287"
      },
      "source": [
        "lista"
      ],
      "execution_count": null,
      "outputs": [
        {
          "output_type": "execute_result",
          "data": {
            "text/plain": [
              "[20, 30, 40, 50, 60, 70, 80, 90, 100]"
            ]
          },
          "metadata": {
            "tags": []
          },
          "execution_count": 32
        }
      ]
    },
    {
      "cell_type": "markdown",
      "metadata": {
        "id": "FLuZPpZiboHe"
      },
      "source": [
        "> ..:: Ordenar y remplazar elementos (sort - reverse) ::.."
      ]
    },
    {
      "cell_type": "code",
      "metadata": {
        "id": "pqwF1hu5byCC"
      },
      "source": [
        "# Modificar un elemento utilizando su índice \n",
        "\n",
        "lista[8] = 200"
      ],
      "execution_count": null,
      "outputs": []
    },
    {
      "cell_type": "code",
      "metadata": {
        "colab": {
          "base_uri": "https://localhost:8080/"
        },
        "id": "Cs8GhQGOc1Xr",
        "outputId": "7a528abc-6c13-4cc5-91b1-37bd52fb9bb2"
      },
      "source": [
        "lista"
      ],
      "execution_count": null,
      "outputs": [
        {
          "output_type": "execute_result",
          "data": {
            "text/plain": [
              "[20, 30, 40, 50, 60, 70, 80, 90, 200]"
            ]
          },
          "metadata": {
            "tags": []
          },
          "execution_count": 35
        }
      ]
    },
    {
      "cell_type": "code",
      "metadata": {
        "id": "tCfOTXthc-M2"
      },
      "source": [
        "# Ordenar los elementos de una lista de manera ascendente con el método \"sort()\"\n",
        "\n",
        "lista2 = [-10,30,55,200,150,-900]"
      ],
      "execution_count": null,
      "outputs": []
    },
    {
      "cell_type": "code",
      "metadata": {
        "id": "TuaCG7Updl9_"
      },
      "source": [
        "lista2.sort()"
      ],
      "execution_count": null,
      "outputs": []
    },
    {
      "cell_type": "code",
      "metadata": {
        "colab": {
          "base_uri": "https://localhost:8080/"
        },
        "id": "DQ-3CNajdqcs",
        "outputId": "dffdff4c-0afe-4e17-997d-37ef4e162661"
      },
      "source": [
        "lista2"
      ],
      "execution_count": null,
      "outputs": [
        {
          "output_type": "execute_result",
          "data": {
            "text/plain": [
              "[-900, -10, 30, 55, 150, 200]"
            ]
          },
          "metadata": {
            "tags": []
          },
          "execution_count": 38
        }
      ]
    },
    {
      "cell_type": "code",
      "metadata": {
        "id": "QaDT96cIdsm2"
      },
      "source": [
        "# Para ordenar una lista de manera inversa usamos el método \"reverse()\"\n",
        "\n",
        "lista2.reverse()"
      ],
      "execution_count": null,
      "outputs": []
    },
    {
      "cell_type": "code",
      "metadata": {
        "colab": {
          "base_uri": "https://localhost:8080/"
        },
        "id": "egZHR1yHeVW7",
        "outputId": "a7b9ce7e-fbff-49b4-c3d2-b71f68478ac7"
      },
      "source": [
        "lista2"
      ],
      "execution_count": null,
      "outputs": [
        {
          "output_type": "execute_result",
          "data": {
            "text/plain": [
              "[200, 150, 55, 30, -10, -900]"
            ]
          },
          "metadata": {
            "tags": []
          },
          "execution_count": 40
        }
      ]
    },
    {
      "cell_type": "code",
      "metadata": {
        "id": "xGBJd3z6eW1K"
      },
      "source": [
        "# Tener en consideración que realiza un orden según su posición no su valor\n",
        "\n",
        "lista3 = [2,5,8,11,100,-200,1000]"
      ],
      "execution_count": null,
      "outputs": []
    },
    {
      "cell_type": "code",
      "metadata": {
        "id": "hX4s3_NxfXVo"
      },
      "source": [
        "lista3.reverse()"
      ],
      "execution_count": null,
      "outputs": []
    },
    {
      "cell_type": "code",
      "metadata": {
        "colab": {
          "base_uri": "https://localhost:8080/"
        },
        "id": "kPWQrfXbfZ2m",
        "outputId": "ef5a4fbf-8906-49df-a504-3c9e3229b9ca"
      },
      "source": [
        "lista3"
      ],
      "execution_count": null,
      "outputs": [
        {
          "output_type": "execute_result",
          "data": {
            "text/plain": [
              "[1000, -200, 100, 11, 8, 5, 2]"
            ]
          },
          "metadata": {
            "tags": []
          },
          "execution_count": 44
        }
      ]
    },
    {
      "cell_type": "markdown",
      "metadata": {
        "id": "-RyKKJsNfpZm"
      },
      "source": [
        "> ..:: Operaciones (sum - min - max) ::.."
      ]
    },
    {
      "cell_type": "code",
      "metadata": {
        "id": "ImQyDdOQfpFB"
      },
      "source": [
        "# Realizar la suma de una lista con valores numericos utilizando la función \"sum()\"\n",
        "\n",
        "lista = [2,4,6,8]"
      ],
      "execution_count": null,
      "outputs": []
    },
    {
      "cell_type": "code",
      "metadata": {
        "colab": {
          "base_uri": "https://localhost:8080/"
        },
        "id": "gaz000qrfbJY",
        "outputId": "60c6bd77-e6ed-48b2-8d47-89eed8ab874f"
      },
      "source": [
        "sum(lista)"
      ],
      "execution_count": null,
      "outputs": [
        {
          "output_type": "execute_result",
          "data": {
            "text/plain": [
              "20"
            ]
          },
          "metadata": {
            "tags": []
          },
          "execution_count": 49
        }
      ]
    },
    {
      "cell_type": "code",
      "metadata": {
        "colab": {
          "base_uri": "https://localhost:8080/"
        },
        "id": "ZbF7o275gOqX",
        "outputId": "45ab956e-7d59-4d99-8ffa-64eed33762e8"
      },
      "source": [
        "# Obtener el valor máximo de una lista con la función \"max()\"\n",
        "\n",
        "max(lista)"
      ],
      "execution_count": null,
      "outputs": [
        {
          "output_type": "execute_result",
          "data": {
            "text/plain": [
              "8"
            ]
          },
          "metadata": {
            "tags": []
          },
          "execution_count": 51
        }
      ]
    },
    {
      "cell_type": "code",
      "metadata": {
        "colab": {
          "base_uri": "https://localhost:8080/"
        },
        "id": "RR_E-4FigmBv",
        "outputId": "6c91fdb0-2ee5-4e6e-8413-55dc72578615"
      },
      "source": [
        "# Obtener el valor mínimo de una lista con la función \"min()\"\n",
        "\n",
        "min(lista)"
      ],
      "execution_count": null,
      "outputs": [
        {
          "output_type": "execute_result",
          "data": {
            "text/plain": [
              "2"
            ]
          },
          "metadata": {
            "tags": []
          },
          "execution_count": 52
        }
      ]
    },
    {
      "cell_type": "markdown",
      "metadata": {
        "id": "9LPsjLPlhRAu"
      },
      "source": [
        "> ..:: Listas y Strings ::.."
      ]
    },
    {
      "cell_type": "code",
      "metadata": {
        "id": "5JUrFHwlhPUo"
      },
      "source": [
        "lista = [20,50,-10,200,-100,2]\n",
        "\n",
        "saludo = \"Hello World\""
      ],
      "execution_count": null,
      "outputs": []
    },
    {
      "cell_type": "code",
      "metadata": {
        "colab": {
          "base_uri": "https://localhost:8080/"
        },
        "id": "K0_ACwZJiATv",
        "outputId": "8ec95f7e-90ff-4f76-e66e-c886c84ac4f4"
      },
      "source": [
        "# Accediendo a un valor de la lista por su índice\n",
        "\n",
        "lista[2]"
      ],
      "execution_count": null,
      "outputs": [
        {
          "output_type": "execute_result",
          "data": {
            "text/plain": [
              "-10"
            ]
          },
          "metadata": {
            "tags": []
          },
          "execution_count": 55
        }
      ]
    },
    {
      "cell_type": "code",
      "metadata": {
        "colab": {
          "base_uri": "https://localhost:8080/",
          "height": 35
        },
        "id": "Og7e-4l7iEH3",
        "outputId": "8a6c913f-944c-4900-894b-b8c9190e8553"
      },
      "source": [
        "# Accediendo al valor de un \"string\" utilizando los índices\n",
        "\n",
        "saludo[0]"
      ],
      "execution_count": null,
      "outputs": [
        {
          "output_type": "execute_result",
          "data": {
            "application/vnd.google.colaboratory.intrinsic+json": {
              "type": "string"
            },
            "text/plain": [
              "'H'"
            ]
          },
          "metadata": {
            "tags": []
          },
          "execution_count": 56
        }
      ]
    },
    {
      "cell_type": "code",
      "metadata": {
        "colab": {
          "base_uri": "https://localhost:8080/",
          "height": 35
        },
        "id": "kp-KXTzBiH8B",
        "outputId": "a6f56d5e-ba79-4029-f249-427586cbfa40"
      },
      "source": [
        "# Accediendo a una conjunto de valores en un \"string\" utilizando un rango\n",
        "\n",
        "saludo[0:5]"
      ],
      "execution_count": null,
      "outputs": [
        {
          "output_type": "execute_result",
          "data": {
            "application/vnd.google.colaboratory.intrinsic+json": {
              "type": "string"
            },
            "text/plain": [
              "'Hello'"
            ]
          },
          "metadata": {
            "tags": []
          },
          "execution_count": 57
        }
      ]
    },
    {
      "cell_type": "markdown",
      "metadata": {
        "id": "ccw4RDf-jSzu"
      },
      "source": [
        "> ..:: Listas y Strings: Mutabilidad ::.."
      ]
    },
    {
      "cell_type": "code",
      "metadata": {
        "id": "SGsqu-p6iN1Q"
      },
      "source": [
        "lista = [20,50,-10,200,-100,2]\n",
        "\n",
        "saludo = \"Hello World\""
      ],
      "execution_count": null,
      "outputs": []
    },
    {
      "cell_type": "code",
      "metadata": {
        "id": "Ry4djkjsjt3r"
      },
      "source": [
        "# Reemplazar los elementos de una lista indicandolo el índice correspondiente por un nuevo valor\n",
        "\n",
        "lista[4] = 1234"
      ],
      "execution_count": null,
      "outputs": []
    },
    {
      "cell_type": "code",
      "metadata": {
        "colab": {
          "base_uri": "https://localhost:8080/"
        },
        "id": "_6CY3RVdj5xe",
        "outputId": "d67fff19-c817-45f3-cd58-91e103fc45b5"
      },
      "source": [
        "lista"
      ],
      "execution_count": null,
      "outputs": [
        {
          "output_type": "execute_result",
          "data": {
            "text/plain": [
              "[20, 50, -10, 200, 1234, 2]"
            ]
          },
          "metadata": {
            "tags": []
          },
          "execution_count": 61
        }
      ]
    },
    {
      "cell_type": "code",
      "metadata": {
        "id": "E9RY1gLkkBYH"
      },
      "source": [
        "# Se debe tener en consideración que tratar de realizar la misma operación con un \"string\" nos va a dar un error\n",
        "\n",
        "# saludo[4] = \"F\"    #Descomentar para comprobar"
      ],
      "execution_count": null,
      "outputs": []
    },
    {
      "cell_type": "code",
      "metadata": {
        "id": "s35lt_rekzoB"
      },
      "source": [
        "# Se debe considerar que un \"string\" nos permite acceder a sus elementos por su índice pero no permite la asignación, esto se conoce como \"inmutabilidad\""
      ],
      "execution_count": null,
      "outputs": []
    },
    {
      "cell_type": "markdown",
      "metadata": {
        "id": "BuMoTe-NuA5s"
      },
      "source": [
        "# Cuestionario\n",
        "\n",
        "**texto en negrita**"
      ]
    },
    {
      "cell_type": "markdown",
      "metadata": {
        "id": "dBNugeHzxDs4"
      },
      "source": [
        "Pregunta 1:\n",
        "\n",
        "1)Se de declarar una variable y su tipo antes de poder utilizarla?\n",
        "\n",
        "a)si\n",
        "\n",
        "b)no"
      ]
    },
    {
      "cell_type": "markdown",
      "metadata": {
        "id": "O9HH1R1qxot0"
      },
      "source": [
        "2)¿Cuál es el resultado de la siguiente operación?\n",
        "\n",
        "10//4==10/4\n",
        "\n",
        "a)true\n",
        "\n",
        "b)false"
      ]
    },
    {
      "cell_type": "markdown",
      "metadata": {
        "id": "QuOERUlv0Tsg"
      },
      "source": [
        "3)¿Cuál es el resultado de la siguiente operación?\n",
        "\n",
        "10/2*5+2**2\n",
        "\n",
        "a)5\n",
        "\n",
        "b)29\n",
        "\n",
        "c)579"
      ]
    },
    {
      "cell_type": "markdown",
      "metadata": {
        "id": "da-DNNAe1fxp"
      },
      "source": [
        "4)El siguiente programa calcula el promedio de los elementos de una lista. Completar el código faltante\n",
        "\n",
        "lista = [10,20,30,40,50,60]\n",
        "\n",
        "promedio = sum(lista)/_(lista)\n",
        "\n",
        "a)length\n",
        "\n",
        "b)len\n",
        "\n",
        "c)size"
      ]
    },
    {
      "cell_type": "markdown",
      "metadata": {
        "id": "p5pHGhjT2jG-"
      },
      "source": [
        "5) ¿Cuál es el resultado de los siguientes comandos?\n",
        "\n",
        "lista = [10, 20, 30, 40, 50, 60]\n",
        "\n",
        "lista[-4:]\n",
        "\n",
        "a)[30,40,50,60]\n",
        "\n",
        "b)30\n",
        "\n",
        "c)[30]"
      ]
    },
    {
      "cell_type": "markdown",
      "metadata": {
        "id": "DijpnpWaFseu"
      },
      "source": [
        "6)¿Cuál es el resultado de la siguiente sentencia?\n",
        "\n",
        "\"Python para todos\" == \"python para todos\"\n",
        "\n",
        "a)true\n",
        "\n",
        "b)false"
      ]
    },
    {
      "cell_type": "markdown",
      "metadata": {
        "id": "2AyWAp80HWwG"
      },
      "source": [
        "7)¿Cuáles de los siguientes comandos se pueden ejecutar para obtener como resultado la lista [10, 20, 30, 40, 50]\n",
        "\n",
        "lista = [10, 20, 30, 40]\n",
        "\n",
        "a)lista.append(50)\n",
        "\n",
        "b)lista = lista + 50\n",
        "\n",
        "c)lista[-1] = 50\n",
        "\n",
        "d)lista.append(50) y/o lista = lista + [50]"
      ]
    },
    {
      "cell_type": "markdown",
      "metadata": {
        "id": "bTg7IvOaIvPV"
      },
      "source": [
        "8)¿Cuál es el valor de \"a\" luego de ejecutar las sifuientes sentencias?\n",
        "\n",
        "lista = [10, 20, 30, 40, 50, 60]\n",
        "\n",
        "a = lista.pop(3)\n",
        "\n",
        "a)[10,20,30,50,60]\n",
        "\n",
        "b)40\n",
        "\n",
        "c)30\n",
        "\n",
        "d)[40]"
      ]
    },
    {
      "cell_type": "markdown",
      "metadata": {
        "id": "zdxZag1OLjxq"
      },
      "source": [
        "9)¿Cuál es el resultado de la siguiente sentencia?\n",
        "\n",
        "nombre = \"gaseosa\"\n",
        "\n",
        "nombre[1] == nombre[-1]\n",
        "\n",
        "a)true\n",
        "\n",
        "b)false"
      ]
    },
    {
      "cell_type": "markdown",
      "metadata": {
        "id": "udpUp6ORNLuH"
      },
      "source": [
        "10)¿Cuál es el resultado de ejecutar la siguiente sentencia?\n",
        "\n",
        "nombre = \"Renato\"\n",
        "\n",
        "print(f'Hola,{nombre})\n",
        "\n",
        "a)Error\n",
        "\n",
        "b)Hola, nombre\n",
        "\n",
        "c)Hola, Renato"
      ]
    },
    {
      "cell_type": "markdown",
      "metadata": {
        "id": "IrAVNfdgV1zF"
      },
      "source": [
        "# Manejo de Tuplas y Sets"
      ]
    },
    {
      "cell_type": "markdown",
      "metadata": {
        "id": "AKMVE7efWIjJ"
      },
      "source": [
        "> ..:: Definición ::..\n",
        "\n",
        "Las tuplas son otro tipo de objeto que también representan colecciones"
      ]
    },
    {
      "cell_type": "code",
      "metadata": {
        "id": "GXXv2xWoXDa_"
      },
      "source": [
        "lista = [1,2,3,4]"
      ],
      "execution_count": null,
      "outputs": []
    },
    {
      "cell_type": "code",
      "metadata": {
        "id": "yS1omz2dV-7q"
      },
      "source": [
        "# En el caso de las tuplas las definimos con paréntesis\n",
        "\n",
        "tupla = (10,20,30,40)"
      ],
      "execution_count": null,
      "outputs": []
    },
    {
      "cell_type": "code",
      "metadata": {
        "colab": {
          "base_uri": "https://localhost:8080/"
        },
        "id": "hbvehgnaXIIf",
        "outputId": "ec9f14a1-2a08-495a-d684-c19dffa8168b"
      },
      "source": [
        "# Para acceder a los elementos de una tupla\n",
        "\n",
        "tupla[2]"
      ],
      "execution_count": null,
      "outputs": [
        {
          "output_type": "execute_result",
          "data": {
            "text/plain": [
              "30"
            ]
          },
          "metadata": {
            "tags": []
          },
          "execution_count": 4
        }
      ]
    },
    {
      "cell_type": "code",
      "metadata": {
        "colab": {
          "base_uri": "https://localhost:8080/"
        },
        "id": "3jqUaEtdXkFl",
        "outputId": "834c4fd8-c9f9-4e37-e7a4-3cf0459f1a0c"
      },
      "source": [
        "# Ingresando a una tupla con índices negativos\n",
        "\n",
        "tupla[-1]"
      ],
      "execution_count": null,
      "outputs": [
        {
          "output_type": "execute_result",
          "data": {
            "text/plain": [
              "40"
            ]
          },
          "metadata": {
            "tags": []
          },
          "execution_count": 6
        }
      ]
    },
    {
      "cell_type": "markdown",
      "metadata": {
        "id": "2l9_6USWYJHc"
      },
      "source": [
        "> ..:: Inmutabilidad ::.."
      ]
    },
    {
      "cell_type": "markdown",
      "metadata": {
        "id": "PwTlNEU4YdSx"
      },
      "source": [
        "Tuplas y Sets"
      ]
    },
    {
      "cell_type": "code",
      "metadata": {
        "id": "ZBofsjjiZfCc"
      },
      "source": [
        "# Reemplazar un elemento de una lista\n",
        "\n",
        "lista[2] = 123"
      ],
      "execution_count": null,
      "outputs": []
    },
    {
      "cell_type": "code",
      "metadata": {
        "colab": {
          "base_uri": "https://localhost:8080/"
        },
        "id": "mEx420vXZjz-",
        "outputId": "ba6c0adb-2658-49d1-f8fb-e57f8536ad61"
      },
      "source": [
        "lista"
      ],
      "execution_count": null,
      "outputs": [
        {
          "output_type": "execute_result",
          "data": {
            "text/plain": [
              "[1, 2, 123, 4]"
            ]
          },
          "metadata": {
            "tags": []
          },
          "execution_count": 9
        }
      ]
    },
    {
      "cell_type": "code",
      "metadata": {
        "colab": {
          "base_uri": "https://localhost:8080/"
        },
        "id": "MQluzfH9XskA",
        "outputId": "43fbfacd-82fe-4d80-91cb-448aa4a5d6b1"
      },
      "source": [
        "tupla"
      ],
      "execution_count": null,
      "outputs": [
        {
          "output_type": "execute_result",
          "data": {
            "text/plain": [
              "(10, 20, 30, 40)"
            ]
          },
          "metadata": {
            "tags": []
          },
          "execution_count": 7
        }
      ]
    },
    {
      "cell_type": "code",
      "metadata": {
        "id": "5IjJFeEVZGsf"
      },
      "source": [
        "# Reemplazar un elemento en un tupla nos genera un error, ya que las tuplas son un tipo de dato inmutable\n",
        "# inmutable == no se pueden modificar los elementos dentro de la colección\n",
        "\n",
        "# tupla[2] = 123     #Descomentar para verificar"
      ],
      "execution_count": null,
      "outputs": []
    },
    {
      "cell_type": "code",
      "metadata": {
        "id": "7g2OhYbpZb4S"
      },
      "source": [
        "a = 5\n",
        "b = 6"
      ],
      "execution_count": null,
      "outputs": []
    },
    {
      "cell_type": "code",
      "metadata": {
        "id": "NoaNDWXmclzt"
      },
      "source": [
        "# Asignación de elementos\n",
        "tupla = a,b"
      ],
      "execution_count": null,
      "outputs": []
    },
    {
      "cell_type": "code",
      "metadata": {
        "colab": {
          "base_uri": "https://localhost:8080/"
        },
        "id": "0iFk_LRAcnd4",
        "outputId": "a9750e68-daab-4518-8629-0314483ebde7"
      },
      "source": [
        "tupla"
      ],
      "execution_count": null,
      "outputs": [
        {
          "output_type": "execute_result",
          "data": {
            "text/plain": [
              "(5, 6)"
            ]
          },
          "metadata": {
            "tags": []
          },
          "execution_count": 12
        }
      ]
    },
    {
      "cell_type": "code",
      "metadata": {
        "colab": {
          "base_uri": "https://localhost:8080/"
        },
        "id": "zmmM1WLTcosz",
        "outputId": "d9c01fbc-c858-4f93-86f3-09fdad7ce356"
      },
      "source": [
        "type(tupla)"
      ],
      "execution_count": null,
      "outputs": [
        {
          "output_type": "execute_result",
          "data": {
            "text/plain": [
              "tuple"
            ]
          },
          "metadata": {
            "tags": []
          },
          "execution_count": 13
        }
      ]
    },
    {
      "cell_type": "code",
      "metadata": {
        "colab": {
          "base_uri": "https://localhost:8080/"
        },
        "id": "PciKmSZjcq74",
        "outputId": "49185de5-00f2-4229-d146-df8c9e27a539"
      },
      "source": [
        "# Acceder a los elementos de la tupla con los índices\n",
        "\n",
        "tupla[0]"
      ],
      "execution_count": null,
      "outputs": [
        {
          "output_type": "execute_result",
          "data": {
            "text/plain": [
              "5"
            ]
          },
          "metadata": {
            "tags": []
          },
          "execution_count": 14
        }
      ]
    },
    {
      "cell_type": "code",
      "metadata": {
        "colab": {
          "base_uri": "https://localhost:8080/"
        },
        "id": "vubP4K6WeSa1",
        "outputId": "f6337170-da6a-4988-b882-2b4b4c71712f"
      },
      "source": [
        "tupla[1]"
      ],
      "execution_count": null,
      "outputs": [
        {
          "output_type": "execute_result",
          "data": {
            "text/plain": [
              "6"
            ]
          },
          "metadata": {
            "tags": []
          },
          "execution_count": 16
        }
      ]
    },
    {
      "cell_type": "code",
      "metadata": {
        "id": "NohBSwtweTyB"
      },
      "source": [
        "tupla = 40,50,60\n",
        "\n",
        "# Crear una lista a partir de los elementos de la tupla\n",
        "\n",
        "lista = list(tupla)"
      ],
      "execution_count": null,
      "outputs": []
    },
    {
      "cell_type": "code",
      "metadata": {
        "colab": {
          "base_uri": "https://localhost:8080/"
        },
        "id": "Deb1gIyzzSxf",
        "outputId": "c7258f9f-0c43-41d8-a0c6-0dbb23509d66"
      },
      "source": [
        "lista"
      ],
      "execution_count": null,
      "outputs": [
        {
          "output_type": "execute_result",
          "data": {
            "text/plain": [
              "[40, 50, 60]"
            ]
          },
          "metadata": {
            "tags": []
          },
          "execution_count": 2
        }
      ]
    },
    {
      "cell_type": "code",
      "metadata": {
        "id": "yd48UfgNzde3"
      },
      "source": [
        "# Al crear esta lista nos va a permitir trabajar con los elementos que estan en esta colección y de esta forma poder modidficarlos\n",
        "\n",
        "lista[1] = 123"
      ],
      "execution_count": null,
      "outputs": []
    },
    {
      "cell_type": "code",
      "metadata": {
        "colab": {
          "base_uri": "https://localhost:8080/"
        },
        "id": "9dZ1Euid0GaL",
        "outputId": "2999f7ae-eed4-422b-ece6-8c82159b4f4e"
      },
      "source": [
        "lista"
      ],
      "execution_count": null,
      "outputs": [
        {
          "output_type": "execute_result",
          "data": {
            "text/plain": [
              "[40, 123, 60]"
            ]
          },
          "metadata": {
            "tags": []
          },
          "execution_count": 4
        }
      ]
    },
    {
      "cell_type": "code",
      "metadata": {
        "colab": {
          "base_uri": "https://localhost:8080/"
        },
        "id": "YXTD0LII0IEs",
        "outputId": "2e05f7e4-ff34-48f8-8bfb-1c4140c84904"
      },
      "source": [
        "# Podemos convertir nuevamente a una tupla utilizando el casteo\n",
        "\n",
        "tuple(lista)"
      ],
      "execution_count": null,
      "outputs": [
        {
          "output_type": "execute_result",
          "data": {
            "text/plain": [
              "(40, 123, 60)"
            ]
          },
          "metadata": {
            "tags": []
          },
          "execution_count": 5
        }
      ]
    },
    {
      "cell_type": "markdown",
      "metadata": {
        "id": "nECDXrWL0c9C"
      },
      "source": [
        "> ..:: Asignación de elementos múltiple ::.."
      ]
    },
    {
      "cell_type": "markdown",
      "metadata": {
        "id": "R2dGSIpe0oRk"
      },
      "source": [
        "Tuplas y Sets"
      ]
    },
    {
      "cell_type": "code",
      "metadata": {
        "id": "mKBNX0-r2T_7"
      },
      "source": [
        "a = 5"
      ],
      "execution_count": null,
      "outputs": []
    },
    {
      "cell_type": "code",
      "metadata": {
        "id": "G8HI3inP0Su5"
      },
      "source": [
        "# Al trabajar con tuplas podemos realizar asignación con mas de un valor a la vez, aprovechando las tuplas que utiliza y como estructuras de datos"
      ],
      "execution_count": null,
      "outputs": []
    },
    {
      "cell_type": "code",
      "metadata": {
        "id": "6flfKQXY2fHh"
      },
      "source": [
        "# Asignación de valores a 3 variables\n",
        "\n",
        "a,b,c = 4,5,6"
      ],
      "execution_count": null,
      "outputs": []
    },
    {
      "cell_type": "code",
      "metadata": {
        "colab": {
          "base_uri": "https://localhost:8080/"
        },
        "id": "EwDZdgbH2m-L",
        "outputId": "467bed1e-146d-4198-ac32-15b51c881869"
      },
      "source": [
        "a"
      ],
      "execution_count": null,
      "outputs": [
        {
          "output_type": "execute_result",
          "data": {
            "text/plain": [
              "4"
            ]
          },
          "metadata": {
            "tags": []
          },
          "execution_count": 8
        }
      ]
    },
    {
      "cell_type": "code",
      "metadata": {
        "colab": {
          "base_uri": "https://localhost:8080/"
        },
        "id": "wh5it_Y82n34",
        "outputId": "6632e7fd-d157-473d-a9be-b4c9f61e5ec4"
      },
      "source": [
        "b"
      ],
      "execution_count": null,
      "outputs": [
        {
          "output_type": "execute_result",
          "data": {
            "text/plain": [
              "5"
            ]
          },
          "metadata": {
            "tags": []
          },
          "execution_count": 9
        }
      ]
    },
    {
      "cell_type": "code",
      "metadata": {
        "colab": {
          "base_uri": "https://localhost:8080/"
        },
        "id": "ry6kVWft2omS",
        "outputId": "15f00f6a-015f-4db0-b97b-19c92736b6cb"
      },
      "source": [
        "c"
      ],
      "execution_count": null,
      "outputs": [
        {
          "output_type": "execute_result",
          "data": {
            "text/plain": [
              "6"
            ]
          },
          "metadata": {
            "tags": []
          },
          "execution_count": 10
        }
      ]
    },
    {
      "cell_type": "code",
      "metadata": {
        "id": "0LPEX7hj2pNT"
      },
      "source": [
        "# Se pueden asignar distintos tipos de valores\n",
        "\n",
        "a,b = [1,2,3], True"
      ],
      "execution_count": null,
      "outputs": []
    },
    {
      "cell_type": "code",
      "metadata": {
        "colab": {
          "base_uri": "https://localhost:8080/"
        },
        "id": "tcuqBCTx29tr",
        "outputId": "3c14dbfe-7e2f-42b8-9305-91e9c9937b85"
      },
      "source": [
        "a"
      ],
      "execution_count": null,
      "outputs": [
        {
          "output_type": "execute_result",
          "data": {
            "text/plain": [
              "[1, 2, 3]"
            ]
          },
          "metadata": {
            "tags": []
          },
          "execution_count": 12
        }
      ]
    },
    {
      "cell_type": "code",
      "metadata": {
        "colab": {
          "base_uri": "https://localhost:8080/"
        },
        "id": "D5TXvfEE2-je",
        "outputId": "1f0a84dc-2d66-4d1c-abc1-d29f3e480ca2"
      },
      "source": [
        "b"
      ],
      "execution_count": null,
      "outputs": [
        {
          "output_type": "execute_result",
          "data": {
            "text/plain": [
              "True"
            ]
          },
          "metadata": {
            "tags": []
          },
          "execution_count": 13
        }
      ]
    },
    {
      "cell_type": "markdown",
      "metadata": {
        "id": "9n4BrH8N3HVs"
      },
      "source": [
        "> ..:: Sets (operaciones con conjuntos) ::.."
      ]
    },
    {
      "cell_type": "code",
      "metadata": {
        "id": "z6U2Dn2j2--X"
      },
      "source": [
        "# Definir una variable con un conjunto, los conjuntos se definen con llaves \"{}\"\n",
        "\n",
        "herramientas_ds = {\"Python\",\"R\",\"SQL\",\"Spark\",\"Tableau\",\"Python\"}"
      ],
      "execution_count": null,
      "outputs": []
    },
    {
      "cell_type": "code",
      "metadata": {
        "colab": {
          "base_uri": "https://localhost:8080/"
        },
        "id": "c7uSnmnD5e-B",
        "outputId": "e485301c-73c7-4d58-c2d9-0c2dd4773c90"
      },
      "source": [
        "# Si se repite algun dato dentro del contenido este no se muestra duplicado\n",
        "\n",
        "herramientas_ds"
      ],
      "execution_count": null,
      "outputs": [
        {
          "output_type": "execute_result",
          "data": {
            "text/plain": [
              "{'Python', 'R', 'SQL', 'Spark', 'Tableau'}"
            ]
          },
          "metadata": {
            "tags": []
          },
          "execution_count": 16
        }
      ]
    },
    {
      "cell_type": "code",
      "metadata": {
        "id": "fxkZxu185q8y"
      },
      "source": [
        "# Agregar elementos nuevos a un conjunto con el método \"add()\"\n",
        "\n",
        "herramientas_ds.add(\"Excel\")"
      ],
      "execution_count": null,
      "outputs": []
    },
    {
      "cell_type": "code",
      "metadata": {
        "colab": {
          "base_uri": "https://localhost:8080/"
        },
        "id": "wP1vm-um6YBj",
        "outputId": "707a0595-a31f-44ae-8d5c-ac8ecda5d397"
      },
      "source": [
        "herramientas_ds"
      ],
      "execution_count": null,
      "outputs": [
        {
          "output_type": "execute_result",
          "data": {
            "text/plain": [
              "{'Excel', 'Python', 'R', 'SQL', 'Spark', 'Tableau'}"
            ]
          },
          "metadata": {
            "tags": []
          },
          "execution_count": 18
        }
      ]
    },
    {
      "cell_type": "code",
      "metadata": {
        "id": "OsG6xA0S6ZcP"
      },
      "source": [
        "herramientas_de = {\"Python\",\"SQL\",\"Spark\",\"Sqoop\",\"Kafka\"}"
      ],
      "execution_count": null,
      "outputs": []
    },
    {
      "cell_type": "code",
      "metadata": {
        "id": "jtxOwNTP6_Uf"
      },
      "source": [
        "# Operaciones entre conjuntos (intersección, unión, diferencia)"
      ],
      "execution_count": null,
      "outputs": []
    },
    {
      "cell_type": "code",
      "metadata": {
        "colab": {
          "base_uri": "https://localhost:8080/"
        },
        "id": "lqDgaZsP7S5y",
        "outputId": "e61f0522-feaa-47a4-a1f7-30c3cf5e96a3"
      },
      "source": [
        "# Utilizar el método \"intersection()\" para obtener cuales son los datos que coinciden entre 2 variables\n",
        "\n",
        "herramientas_ds.intersection(herramientas_de)"
      ],
      "execution_count": null,
      "outputs": [
        {
          "output_type": "execute_result",
          "data": {
            "text/plain": [
              "{'Python', 'SQL', 'Spark'}"
            ]
          },
          "metadata": {
            "tags": []
          },
          "execution_count": 20
        }
      ]
    },
    {
      "cell_type": "code",
      "metadata": {
        "colab": {
          "base_uri": "https://localhost:8080/"
        },
        "id": "sqO_rJjb7y8S",
        "outputId": "4bb58ba1-87b5-4c5d-f72b-111a23e5ad33"
      },
      "source": [
        "# Obtener la diferencia de datos entre 2 variables utilizando en método \"difference()\"\n",
        "\n",
        "herramientas_ds.difference(herramientas_de)"
      ],
      "execution_count": null,
      "outputs": [
        {
          "output_type": "execute_result",
          "data": {
            "text/plain": [
              "{'Excel', 'R', 'Tableau'}"
            ]
          },
          "metadata": {
            "tags": []
          },
          "execution_count": 21
        }
      ]
    },
    {
      "cell_type": "code",
      "metadata": {
        "colab": {
          "base_uri": "https://localhost:8080/"
        },
        "id": "NzJ3pYvz8H36",
        "outputId": "3d88ba1e-39a8-4f6c-abb2-9188240dba6e"
      },
      "source": [
        "# Realizar la unión de 2 conjuntos con el método \"union()\"\n",
        "\n",
        "herramientas_ds.union(herramientas_de)"
      ],
      "execution_count": null,
      "outputs": [
        {
          "output_type": "execute_result",
          "data": {
            "text/plain": [
              "{'Excel', 'Kafka', 'Python', 'R', 'SQL', 'Spark', 'Sqoop', 'Tableau'}"
            ]
          },
          "metadata": {
            "tags": []
          },
          "execution_count": 22
        }
      ]
    },
    {
      "cell_type": "markdown",
      "metadata": {
        "id": "iBsMEEBA9Qgf"
      },
      "source": [
        "> ..:: Diccionarios ::..\n",
        "\n",
        "Los diccionarios son otro tipo de colecciones que permiten almacenar datos y funcionan con el sistema \"clave\" : valor"
      ]
    },
    {
      "cell_type": "code",
      "metadata": {
        "id": "Ju1k6SEq8hcn"
      },
      "source": [
        "# Crear un Diccionario\n",
        "\n",
        "facebook = {\"founder\": [\"Mark Zuckerberg\", \"Eduardo Saverin\"],\n",
        "            \"year\": 2004,\n",
        "            \"dominio\": \"www.facebook.com\"}"
      ],
      "execution_count": null,
      "outputs": []
    },
    {
      "cell_type": "code",
      "metadata": {
        "colab": {
          "base_uri": "https://localhost:8080/"
        },
        "id": "z94iirIc_JxD",
        "outputId": "aa368e26-b477-45d8-8373-143c13c3e501"
      },
      "source": [
        "facebook"
      ],
      "execution_count": null,
      "outputs": [
        {
          "output_type": "execute_result",
          "data": {
            "text/plain": [
              "{'dominio': 'www.facebook.com',\n",
              " 'founder': ['Mark Zuckerberg', 'Eduardo Saverin'],\n",
              " 'year': 2004}"
            ]
          },
          "metadata": {
            "tags": []
          },
          "execution_count": 24
        }
      ]
    },
    {
      "cell_type": "code",
      "metadata": {
        "colab": {
          "base_uri": "https://localhost:8080/"
        },
        "id": "0N7XDpQr_LAU",
        "outputId": "3c429f81-02dd-4296-e7f0-8a8afab6b9ca"
      },
      "source": [
        "type(facebook)"
      ],
      "execution_count": null,
      "outputs": [
        {
          "output_type": "execute_result",
          "data": {
            "text/plain": [
              "dict"
            ]
          },
          "metadata": {
            "tags": []
          },
          "execution_count": 25
        }
      ]
    },
    {
      "cell_type": "code",
      "metadata": {
        "colab": {
          "base_uri": "https://localhost:8080/"
        },
        "id": "miXp_iJG_TEm",
        "outputId": "911b3051-77cb-4a41-b6f7-23501035cfa0"
      },
      "source": [
        "# Para acceder a los datos dentro de un diccionario es necesario realizarlo con el valor de la \"llave\"\n",
        "\n",
        "facebook[\"founder\"]"
      ],
      "execution_count": null,
      "outputs": [
        {
          "output_type": "execute_result",
          "data": {
            "text/plain": [
              "['Mark Zuckerberg', 'Eduardo Saverin']"
            ]
          },
          "metadata": {
            "tags": []
          },
          "execution_count": 26
        }
      ]
    },
    {
      "cell_type": "markdown",
      "metadata": {
        "id": "OtYeDVC2ABrg"
      },
      "source": [
        "> ..:: Get ::.."
      ]
    },
    {
      "cell_type": "code",
      "metadata": {
        "id": "Kzobw5_b_o2Y"
      },
      "source": [
        "# Si accedemos a un valor no existente obtendremos un error\n",
        "\n",
        "# facebook[\"datoError\"]      #Descomentar para verificar"
      ],
      "execution_count": null,
      "outputs": []
    },
    {
      "cell_type": "code",
      "metadata": {
        "id": "pPl0J79jAiBS"
      },
      "source": [
        "# El método \"get()\" es otro modo de de acceder a los datos y al contrario del caso anterior si intentamos acceder a un valor que no existe no arroja un mensaje de error\n",
        "\n",
        "facebook.get(\"dataError\")"
      ],
      "execution_count": null,
      "outputs": []
    },
    {
      "cell_type": "code",
      "metadata": {
        "colab": {
          "base_uri": "https://localhost:8080/"
        },
        "id": "MOQmNomABVuj",
        "outputId": "fa63f682-0cbe-4595-899b-1512586d25f0"
      },
      "source": [
        "# Caso contrario si ingresamos una clave existente\n",
        "\n",
        "facebook.get(\"year\")"
      ],
      "execution_count": null,
      "outputs": [
        {
          "output_type": "execute_result",
          "data": {
            "text/plain": [
              "2004"
            ]
          },
          "metadata": {
            "tags": []
          },
          "execution_count": 31
        }
      ]
    },
    {
      "cell_type": "markdown",
      "metadata": {
        "id": "wqWNyuS4BoY2"
      },
      "source": [
        "> ..:: Eliminar y actualizar elementos ::.."
      ]
    },
    {
      "cell_type": "code",
      "metadata": {
        "id": "5rXpuKttBdkO"
      },
      "source": [
        "facebook = {\"founder\": [\"Mark Zuckerberg\", \"Eduardo Saverin\"],\n",
        "            \"year\": 2004,\n",
        "            \"dominio\": \"www.facebook.com\"}"
      ],
      "execution_count": null,
      "outputs": []
    },
    {
      "cell_type": "code",
      "metadata": {
        "id": "VOJ96qQvC9K3"
      },
      "source": [
        "# Agregar una nueva llave\n",
        "\n",
        "facebook[\"stock price\"] = 250"
      ],
      "execution_count": null,
      "outputs": []
    },
    {
      "cell_type": "code",
      "metadata": {
        "colab": {
          "base_uri": "https://localhost:8080/"
        },
        "id": "PHeej6G7DNIJ",
        "outputId": "94eaf476-05a1-4e69-b2d3-58afda0c0244"
      },
      "source": [
        "facebook"
      ],
      "execution_count": null,
      "outputs": [
        {
          "output_type": "execute_result",
          "data": {
            "text/plain": [
              "{'dominio': 'www.facebook.com',\n",
              " 'founder': ['Mark Zuckerberg', 'Eduardo Saverin'],\n",
              " 'stock price': 250,\n",
              " 'year': 2004}"
            ]
          },
          "metadata": {
            "tags": []
          },
          "execution_count": 34
        }
      ]
    },
    {
      "cell_type": "code",
      "metadata": {
        "colab": {
          "base_uri": "https://localhost:8080/"
        },
        "id": "eETLF7mMDO47",
        "outputId": "00908040-12ed-4fc7-ca7d-fde17b2fcd16"
      },
      "source": [
        "# Eliminar una llave con el método \"pop()\"\n",
        "\n",
        "facebook.pop(\"year\")"
      ],
      "execution_count": null,
      "outputs": [
        {
          "output_type": "execute_result",
          "data": {
            "text/plain": [
              "2004"
            ]
          },
          "metadata": {
            "tags": []
          },
          "execution_count": 35
        }
      ]
    },
    {
      "cell_type": "code",
      "metadata": {
        "colab": {
          "base_uri": "https://localhost:8080/"
        },
        "id": "zEgkkYlGDvMj",
        "outputId": "b4da9675-32a8-46de-cc86-7b02c8557c67"
      },
      "source": [
        "facebook"
      ],
      "execution_count": null,
      "outputs": [
        {
          "output_type": "execute_result",
          "data": {
            "text/plain": [
              "{'dominio': 'www.facebook.com',\n",
              " 'founder': ['Mark Zuckerberg', 'Eduardo Saverin'],\n",
              " 'stock price': 250}"
            ]
          },
          "metadata": {
            "tags": []
          },
          "execution_count": 36
        }
      ]
    },
    {
      "cell_type": "code",
      "metadata": {
        "id": "G0YqIjU-DwR-"
      },
      "source": [
        "# Actualizar los valores \n",
        "\n",
        "facebook[\"founder\"] = \"Mark Zuckerberg\""
      ],
      "execution_count": null,
      "outputs": []
    },
    {
      "cell_type": "code",
      "metadata": {
        "colab": {
          "base_uri": "https://localhost:8080/"
        },
        "id": "ZtGuiW3DED4N",
        "outputId": "81ed6871-8c6c-485b-fc37-c681fdc8602d"
      },
      "source": [
        "facebook"
      ],
      "execution_count": null,
      "outputs": [
        {
          "output_type": "execute_result",
          "data": {
            "text/plain": [
              "{'dominio': 'www.facebook.com',\n",
              " 'founder': 'Mark Zuckerberg',\n",
              " 'stock price': 250}"
            ]
          },
          "metadata": {
            "tags": []
          },
          "execution_count": 39
        }
      ]
    },
    {
      "cell_type": "markdown",
      "metadata": {
        "id": "4EPTUr6iFB3t"
      },
      "source": [
        "> ..:: Keys - Values - Items ::.."
      ]
    },
    {
      "cell_type": "code",
      "metadata": {
        "id": "09teo3-OFHZd"
      },
      "source": [
        "facebook = {\"stock price\" : 250,\n",
        "            \"founder\": [\"Mark Zuckerberg\", \"Eduardo Saverin\"],\n",
        "            \"year\": 2004,\n",
        "            \"dominio\": \"www.facebook.com\"}"
      ],
      "execution_count": null,
      "outputs": []
    },
    {
      "cell_type": "code",
      "metadata": {
        "colab": {
          "base_uri": "https://localhost:8080/"
        },
        "id": "PYbvHo82HVMc",
        "outputId": "bb5c269d-d3e4-497a-bee8-bba73f6efff3"
      },
      "source": [
        "# El método \"keys(), nos entrella las llaves del diccionario con el que trabajamos\"\n",
        "\n",
        "#facebook.keys()"
      ],
      "execution_count": null,
      "outputs": [
        {
          "output_type": "execute_result",
          "data": {
            "text/plain": [
              "dict_keys(['stock price', 'founder', 'year', 'dominio'])"
            ]
          },
          "metadata": {
            "tags": []
          },
          "execution_count": 32
        }
      ]
    },
    {
      "cell_type": "code",
      "metadata": {
        "id": "H6wPPf58HWhs"
      },
      "source": [
        "#Para trabajar con esa lista se debe castear \n",
        "\n",
        "keys = list(facebook.keys())"
      ],
      "execution_count": null,
      "outputs": []
    },
    {
      "cell_type": "code",
      "metadata": {
        "colab": {
          "base_uri": "https://localhost:8080/"
        },
        "id": "oZEOe0gsIiDJ",
        "outputId": "a8ed9bd6-b3ef-4f39-f58c-468cf9c70e96"
      },
      "source": [
        "keys"
      ],
      "execution_count": null,
      "outputs": [
        {
          "output_type": "execute_result",
          "data": {
            "text/plain": [
              "['stock price', 'founder', 'year', 'dominio']"
            ]
          },
          "metadata": {
            "tags": []
          },
          "execution_count": 35
        }
      ]
    },
    {
      "cell_type": "code",
      "metadata": {
        "colab": {
          "base_uri": "https://localhost:8080/"
        },
        "id": "CvEcaOzWJWFt",
        "outputId": "678ba914-0ac8-45d3-c371-ea3ebd07aaec"
      },
      "source": [
        "# Acceder a los valores dentro del diccionario con el método \"values()\"\n",
        "\n",
        "values = facebook.values()\n",
        "\n",
        "values"
      ],
      "execution_count": null,
      "outputs": [
        {
          "output_type": "execute_result",
          "data": {
            "text/plain": [
              "dict_values([250, ['Mark Zuckerberg', 'Eduardo Saverin'], 2004, 'www.facebook.com'])"
            ]
          },
          "metadata": {
            "tags": []
          },
          "execution_count": 39
        }
      ]
    },
    {
      "cell_type": "code",
      "metadata": {
        "colab": {
          "base_uri": "https://localhost:8080/"
        },
        "id": "-CHpTwE6K4ky",
        "outputId": "50a1f1bf-11e4-428f-8416-ac0a876f2822"
      },
      "source": [
        "# Aplicar casteo para acceder con indices\n",
        "\n",
        "values = list(facebook.values())\n",
        "\n",
        "values[0]"
      ],
      "execution_count": null,
      "outputs": [
        {
          "output_type": "execute_result",
          "data": {
            "text/plain": [
              "250"
            ]
          },
          "metadata": {
            "tags": []
          },
          "execution_count": 44
        }
      ]
    },
    {
      "cell_type": "code",
      "metadata": {
        "colab": {
          "base_uri": "https://localhost:8080/"
        },
        "id": "-7bLdmytJspZ",
        "outputId": "541c092a-4962-4610-d872-b7f28438aaaa"
      },
      "source": [
        "# Acceder a los valores con el nombre de la \"key\"\n",
        "\n",
        "facebook[\"year\"]"
      ],
      "execution_count": null,
      "outputs": [
        {
          "output_type": "execute_result",
          "data": {
            "text/plain": [
              "2004"
            ]
          },
          "metadata": {
            "tags": []
          },
          "execution_count": 40
        }
      ]
    },
    {
      "cell_type": "code",
      "metadata": {
        "colab": {
          "base_uri": "https://localhost:8080/"
        },
        "id": "CjqNoNlYKbFh",
        "outputId": "5cd9b8ff-b7b9-4395-bfad-49dddd30f943"
      },
      "source": [
        "# Acceder mediante el método \"items()\", utilizando casteo, obtendremos conjuntos de tuplas\n",
        "\n",
        "items = list(facebook.items())\n",
        "\n",
        "items"
      ],
      "execution_count": null,
      "outputs": [
        {
          "output_type": "execute_result",
          "data": {
            "text/plain": [
              "[('stock price', 250),\n",
              " ('founder', ['Mark Zuckerberg', 'Eduardo Saverin']),\n",
              " ('year', 2004),\n",
              " ('dominio', 'www.facebook.com')]"
            ]
          },
          "metadata": {
            "tags": []
          },
          "execution_count": 47
        }
      ]
    },
    {
      "cell_type": "code",
      "metadata": {
        "colab": {
          "base_uri": "https://localhost:8080/"
        },
        "id": "zj5U6EcxLYz_",
        "outputId": "c782e3cd-ddc9-4f19-871e-4488a5ab90e2"
      },
      "source": [
        "items[2]"
      ],
      "execution_count": null,
      "outputs": [
        {
          "output_type": "execute_result",
          "data": {
            "text/plain": [
              "('year', 2004)"
            ]
          },
          "metadata": {
            "tags": []
          },
          "execution_count": 49
        }
      ]
    },
    {
      "cell_type": "markdown",
      "metadata": {
        "id": "8Cn_VjHUMA91"
      },
      "source": [
        "> ..:: Update ::..\n"
      ]
    },
    {
      "cell_type": "code",
      "metadata": {
        "colab": {
          "base_uri": "https://localhost:8080/"
        },
        "id": "qzG-xM2fOuoN",
        "outputId": "6f47a53e-d4b6-4679-96f5-ef7b5a34239c"
      },
      "source": [
        "facebook"
      ],
      "execution_count": null,
      "outputs": [
        {
          "output_type": "execute_result",
          "data": {
            "text/plain": [
              "{'dominio': 'www.facebook.com',\n",
              " 'founder': ['Mark Zuckerberg', 'Eduardo Saverin'],\n",
              " 'location': 'Palo Alto',\n",
              " 'stock price': 250,\n",
              " 'users': '2.5 billion',\n",
              " 'year': 2004}"
            ]
          },
          "metadata": {
            "tags": []
          },
          "execution_count": 58
        }
      ]
    },
    {
      "cell_type": "code",
      "metadata": {
        "id": "SW2H3CNaOesp"
      },
      "source": [
        "# Actulizar un diccionario utilizando en método \"update()\"\n",
        "\n",
        "facebook_extra = {'location': 'Palo Alto',\n",
        "               'users' : '2.5 billion'}"
      ],
      "execution_count": null,
      "outputs": []
    },
    {
      "cell_type": "code",
      "metadata": {
        "colab": {
          "base_uri": "https://localhost:8080/"
        },
        "id": "doy7on5OL5kx",
        "outputId": "615b99e7-56eb-44da-e678-5a2c5620971a"
      },
      "source": [
        "facebook.update(facebook_extra)\n",
        "\n",
        "facebook"
      ],
      "execution_count": null,
      "outputs": [
        {
          "output_type": "execute_result",
          "data": {
            "text/plain": [
              "{'dominio': 'www.facebook.com',\n",
              " 'founder': ['Mark Zuckerberg', 'Eduardo Saverin'],\n",
              " 'location': 'Palo Alto',\n",
              " 'stock price': 250,\n",
              " 'users': '2.5 billion',\n",
              " 'year': 2004}"
            ]
          },
          "metadata": {
            "tags": []
          },
          "execution_count": 60
        }
      ]
    },
    {
      "cell_type": "code",
      "metadata": {
        "id": "RpkkqmeUPVem"
      },
      "source": [
        "# En caso de repetirse una key, esta se reemplaza\n",
        "\n",
        "facebook_extra = {'founder': 'Mark Zuckerberg',\n",
        "                    'mobile' : ['android','ios']}"
      ],
      "execution_count": null,
      "outputs": []
    },
    {
      "cell_type": "code",
      "metadata": {
        "id": "fmdvF_vTQci7"
      },
      "source": [
        "facebook.update(facebook_extra)\n"
      ],
      "execution_count": null,
      "outputs": []
    },
    {
      "cell_type": "code",
      "metadata": {
        "colab": {
          "base_uri": "https://localhost:8080/"
        },
        "id": "FgtNPHVMQQkE",
        "outputId": "3ba8ad81-d0aa-416e-80f9-9668784d8bc2"
      },
      "source": [
        "facebook"
      ],
      "execution_count": null,
      "outputs": [
        {
          "output_type": "execute_result",
          "data": {
            "text/plain": [
              "{'dominio': 'www.facebook.com',\n",
              " 'founder': 'Mark Zuckerberg',\n",
              " 'location': 'Palo Alto',\n",
              " 'mobile': ['android', 'ios'],\n",
              " 'stock price': 250,\n",
              " 'users': '2.5 billion',\n",
              " 'year': 2004}"
            ]
          },
          "metadata": {
            "tags": []
          },
          "execution_count": 63
        }
      ]
    },
    {
      "cell_type": "markdown",
      "metadata": {
        "id": "Ditx9-qNQxHL"
      },
      "source": [
        "> ..:: Control de Flujo ::..\n",
        "\n",
        "Estas estructuras permiten ciertos bloques de código si se cumplen ciertas condiciones\n"
      ]
    },
    {
      "cell_type": "markdown",
      "metadata": {
        "id": "rorMF2KmRmMy"
      },
      "source": [
        "Estructura de Control \"IF\"\n",
        "\n",
        "La sentencia \"if\" permite ejecutar un bloque de código en base a cierta condición"
      ]
    },
    {
      "cell_type": "code",
      "metadata": {
        "id": "L8JUVq5NQz4O"
      },
      "source": [
        "if condicion:\n",
        "  #bloque que se ejecuta si se cumple la condición"
      ],
      "execution_count": null,
      "outputs": []
    },
    {
      "cell_type": "code",
      "metadata": {
        "colab": {
          "base_uri": "https://localhost:8080/"
        },
        "id": "5URdf99ySY4I",
        "outputId": "53b9f8fc-bece-4dfe-ee09-7bf36da880bd"
      },
      "source": [
        "# Programa que indica un mensaje en caso de que el nº sea par\n",
        "\n",
        "numero = 16\n",
        "\n",
        "if (numero % 2 == 0):\n",
        "  print(f\"El nº {numero} es par\")"
      ],
      "execution_count": null,
      "outputs": [
        {
          "output_type": "stream",
          "text": [
            "El nº 16 es par\n"
          ],
          "name": "stdout"
        }
      ]
    },
    {
      "cell_type": "markdown",
      "metadata": {
        "id": "n69nWLDdTMnA"
      },
      "source": [
        "> ..:: Estructura de Control \"IF, ELSE\""
      ]
    },
    {
      "cell_type": "code",
      "metadata": {
        "id": "2RLFWfAuTSok"
      },
      "source": [
        "# \"else\" nos permite realizar una acción en caso de que no se cumpla una condición \n",
        "\n",
        "if condicion:\n",
        "  #bloque si se cumple la condición\n",
        "else:\n",
        "  #bloque si no se cumple la condición"
      ],
      "execution_count": null,
      "outputs": []
    },
    {
      "cell_type": "code",
      "metadata": {
        "id": "C2hkwS9DU8UO"
      },
      "source": [
        "numero = 17"
      ],
      "execution_count": null,
      "outputs": []
    },
    {
      "cell_type": "code",
      "metadata": {
        "colab": {
          "base_uri": "https://localhost:8080/"
        },
        "id": "Xz9LFvR8UO6A",
        "outputId": "29b65060-4162-4a75-f400-a7594fa9e596"
      },
      "source": [
        "if (numero % 2 == 0):\n",
        "  print(f\"El nº {numero} es par\")\n",
        "else:\n",
        "  print(f\"El nº {numero} es impar\")"
      ],
      "execution_count": null,
      "outputs": [
        {
          "output_type": "stream",
          "text": [
            "El nº 17 es impar\n"
          ],
          "name": "stdout"
        }
      ]
    },
    {
      "cell_type": "markdown",
      "metadata": {
        "id": "ulmAmFXwVSg4"
      },
      "source": [
        "> ..:: Estructura de Control \"IF, ELIF, ELSE\" ::.. "
      ]
    },
    {
      "cell_type": "code",
      "metadata": {
        "id": "f487YxfVVeUq"
      },
      "source": [
        "# Cuando trabajamos con más de 2 condiciones, utilizamos la sentencia \"if .. elif .. else\"\n",
        "\n",
        "if condicion1:\n",
        "  #bloque si se cumple la condición 1\n",
        "elif condicion2:\n",
        "  #bloque si se cumple la condición 2\n",
        "elif condicion3:\n",
        "  #bloque si se cumple la condición 3\n",
        "else:\n",
        " # bloque si no se cumple ninguna condición"
      ],
      "execution_count": null,
      "outputs": []
    },
    {
      "cell_type": "markdown",
      "metadata": {
        "id": "So4GERxpW_tN"
      },
      "source": [
        "Ejemplos \"IF, ELIF, ELSE\""
      ]
    },
    {
      "cell_type": "markdown",
      "metadata": {
        "id": "vqrD6fdqXYPs"
      },
      "source": [
        "1) Elegir un pokemon en base a la elección de la de un rival"
      ]
    },
    {
      "cell_type": "code",
      "metadata": {
        "colab": {
          "base_uri": "https://localhost:8080/"
        },
        "id": "yC7tWoFFWp6n",
        "outputId": "edb69ba0-abbc-4f5f-8a6d-be407622a2e5"
      },
      "source": [
        "pk_rival = \"Bulbasaur\"\n",
        "\n",
        "if pk_rival == \"Charmander\":\n",
        "  pk_nuestro = \"Squirtle\"\n",
        "elif pk_rival == \"Squirtle\":\n",
        "  pk_nuestro = \"Bulbasaur\"\n",
        "else:\n",
        "  pk_nuestro = \"Charmander\"\n",
        "\n",
        "print(f\"{pk_nuestro} yo te elijo!\")"
      ],
      "execution_count": null,
      "outputs": [
        {
          "output_type": "stream",
          "text": [
            "Charmander yo te elijo!\n"
          ],
          "name": "stdout"
        }
      ]
    },
    {
      "cell_type": "markdown",
      "metadata": {
        "id": "tIXe5HvIZeS3"
      },
      "source": [
        "2) Escribir un programa que indique la generación correspondiente para un año de nacimiento indicado\n",
        "\n",
        "Generación Silenciosa (1920-1940)\n",
        "\n",
        "Baby Boomer (1946-1964)\n",
        "\n",
        "Generación X (1965-1979)\n",
        "\n",
        "Generación Y (1980-2000)\n",
        "\n",
        "Generación Z (2001 -2010)"
      ]
    },
    {
      "cell_type": "code",
      "metadata": {
        "id": "TdCNVuo-Zd1_"
      },
      "source": [
        "year = 1970\n",
        "\n",
        "if year >= 1920 and year <= 1940:\n",
        "  generacion = \"Generacion Silenciosa\"\n",
        "\n",
        "elif year >= 1946 and year <= 1964:\n",
        "  generacion = \"Generacion Boomer\"\n",
        "\n",
        "elif year >= 1965 and year <= 1979:\n",
        "  generacion = \"Generacion X\"\n",
        "\n",
        "elif year >= 1980 and year <= 2000:\n",
        "  generacion = \"Generacion Y\"\n",
        "\n",
        "elif year >= 2001 and year <= 2010:\n",
        "  generacion = \"Generacion Z\"\n",
        "  \n",
        "else:\n",
        "  generacion = \"No clasificada\""
      ],
      "execution_count": null,
      "outputs": []
    },
    {
      "cell_type": "code",
      "metadata": {
        "colab": {
          "base_uri": "https://localhost:8080/"
        },
        "id": "5QW_aHVRheeH",
        "outputId": "82aeff59-3445-425b-b25b-fdedc062a7a7"
      },
      "source": [
        " print(f\"Tu generacion es {generacion}\")"
      ],
      "execution_count": null,
      "outputs": [
        {
          "output_type": "stream",
          "text": [
            "Tu generacion es Generacion X\n"
          ],
          "name": "stdout"
        }
      ]
    },
    {
      "cell_type": "markdown",
      "metadata": {
        "id": "8UVAO2QMh1R2"
      },
      "source": [
        "> ..:: IF, ELSE anidados ::..\n"
      ]
    },
    {
      "cell_type": "code",
      "metadata": {
        "id": "kGlv8ka8h1AD"
      },
      "source": [
        "if condicionExterior:\n",
        "\n",
        "  if condicionIneterior:\n",
        "    #bloque si se cumple la condicion\n",
        "  else:\n",
        "    #bloque si no se cumple la condicion\n",
        "    \n",
        "else:\n",
        "  #bloque si no se cumple la condicion"
      ],
      "execution_count": null,
      "outputs": []
    },
    {
      "cell_type": "markdown",
      "metadata": {
        "id": "PdNPWBiY1YrT"
      },
      "source": [
        "> ..:: Ejemplo IF, ELSE anidados ::.."
      ]
    },
    {
      "cell_type": "markdown",
      "metadata": {
        "id": "83dvTeQe1iUS"
      },
      "source": [
        "1)Determinar si se va a entregar un crédito a un cliente de un banco\n",
        "\n",
        "Para aprobar un crédito, el cliente debe ser mayor de edad.\n",
        "\n",
        "Además, debe tener una antiguedad en el sistema financiero de como mínimo 3 años y un ingreso mayor a 2500 soles.\n",
        "\n",
        "En caso de que no tenga la antiguedad suficiente, su ingreso mensual debe ser como mínimo 4000 soles.\n",
        "\n",
        "\n",
        "Si no cumple ninguna de las condiciones, no se aprueba el crédito\n",
        "\n"
      ]
    },
    {
      "cell_type": "code",
      "metadata": {
        "colab": {
          "base_uri": "https://localhost:8080/"
        },
        "id": "n-igEmrFh09H",
        "outputId": "a85005b3-ff77-428a-910c-b13a9abc5c4c"
      },
      "source": [
        "cli_edad = 18\n",
        "cli_antiguedad = 3\n",
        "cli_ingreso = 5000\n",
        "\n",
        "if cli_edad >= 18:\n",
        "\n",
        "  if cli_antiguedad >= 3 and cli_ingreso >= 2500:\n",
        "      print(\"Aprobado\")\n",
        "  elif cli_ingreso >= 4000:\n",
        "      print(\"Aprobado\")\n",
        "  else:\n",
        "    print(\"No aprobado\")\n",
        "\n",
        "else:\n",
        "  print(\"No aprobado\")"
      ],
      "execution_count": null,
      "outputs": [
        {
          "output_type": "stream",
          "text": [
            "Aprobado\n"
          ],
          "name": "stdout"
        }
      ]
    },
    {
      "cell_type": "markdown",
      "metadata": {
        "id": "IObNpinh4Ffu"
      },
      "source": [
        "2)Caso Bisiesto\n",
        "\n",
        "Escribir un programa que indique si un año es bisiesto o no. Las reglas para determinar que un año es bisiesto son:\n",
        "\n",
        "Los años bisiestos son los divisibles entre 4 (ej: 2004, 2008)\n",
        "\n",
        "Excepto si es divisible  entre 100, entonces no es bisiesto (ej: 2100, 2200)\n",
        "\n",
        "Excepto si es divisible entre 400, entonces si lo es (ej: 2000,2400)"
      ]
    },
    {
      "cell_type": "code",
      "metadata": {
        "colab": {
          "base_uri": "https://localhost:8080/"
        },
        "id": "ie1Ihw5u5OyY",
        "outputId": "c20f0b07-7831-4b0f-cfd2-5810e7636303"
      },
      "source": [
        "agno = 2400\n",
        "\n",
        "if agno % 4 == 0:\n",
        "\n",
        "  if agno % 100 == 0:\n",
        "    print()\n",
        "\n",
        "    if agno % 400 == 0:\n",
        "      print(f\"El año {agno} es bisiesto\")\n",
        "    else:\n",
        "      print(f\"El año {agno} no es bisiesto\")\n",
        "\n",
        "  else:\n",
        "    print(f\"El año {agno} es bisiesto\")\n",
        "\n",
        "else:\n",
        "  print(f\"El año {agno} no es bisiesto\")\n"
      ],
      "execution_count": null,
      "outputs": [
        {
          "output_type": "stream",
          "text": [
            "\n",
            "El año 2400 es bisiesto\n"
          ],
          "name": "stdout"
        }
      ]
    },
    {
      "cell_type": "markdown",
      "metadata": {
        "id": "k82RO96U-ya-"
      },
      "source": [
        "3)Escribir un programa que reciba una palabra e imprima si la palabra es palíndroma\n"
      ]
    },
    {
      "cell_type": "code",
      "metadata": {
        "colab": {
          "base_uri": "https://localhost:8080/"
        },
        "id": "hEKeVkZn-_aJ",
        "outputId": "13d92b38-7a5f-4507-9fb5-ad45f9c0471c"
      },
      "source": [
        "palabra = input(\"Ingrese una palabra: \")\n",
        "\n",
        "if palabra == palabra[::-1]:\n",
        "  print(\"Es palíndroma\")\n",
        "else:\n",
        "  print(\"No es palíndroma\")"
      ],
      "execution_count": null,
      "outputs": [
        {
          "output_type": "stream",
          "text": [
            "Ingrese una palabra: anitalavalatina\n",
            "Es palíndroma\n"
          ],
          "name": "stdout"
        }
      ]
    },
    {
      "cell_type": "code",
      "metadata": {
        "colab": {
          "base_uri": "https://localhost:8080/"
        },
        "id": "YbDRpBaRA2Wu",
        "outputId": "301b9a39-edcb-45d5-abdd-f26446c64366"
      },
      "source": [
        "list(set([1,2,2,2,2,2,1]))\n"
      ],
      "execution_count": null,
      "outputs": [
        {
          "output_type": "execute_result",
          "data": {
            "text/plain": [
              "[1, 2]"
            ]
          },
          "metadata": {
            "tags": []
          },
          "execution_count": 102
        }
      ]
    },
    {
      "cell_type": "markdown",
      "metadata": {
        "id": "iwH05fZtnljW"
      },
      "source": [
        "# ..:: Bucles ::.. "
      ]
    },
    {
      "cell_type": "markdown",
      "metadata": {
        "id": "4pse5Os7o43S"
      },
      "source": [
        "Estructuras iterativas, ejecutamos un bloque de codigo de forma repetida, si se cumple cierta condicion "
      ]
    },
    {
      "cell_type": "code",
      "metadata": {
        "id": "5-2OdiaXq6KL"
      },
      "source": [
        "# While\n",
        "\n",
        "while condicion:\n",
        "  #bloque de codigo a repetir\n",
        "\n"
      ],
      "execution_count": null,
      "outputs": []
    },
    {
      "cell_type": "markdown",
      "metadata": {
        "id": "N1qxrx7WqABx"
      },
      "source": [
        "While permite ejecutar un bloque de código, mientras la condición sea verdadera\n",
        "\n"
      ]
    },
    {
      "cell_type": "code",
      "metadata": {
        "colab": {
          "base_uri": "https://localhost:8080/"
        },
        "id": "HEVNzAPFn_4S",
        "outputId": "4d29b26f-4c81-432b-e7fa-5bb7e3913228"
      },
      "source": [
        "# Imprimir los números enteros menores a 10\n",
        "\n",
        "numero = 1\n",
        "\n",
        "while numero < 10:\n",
        "  print(numero)\n",
        "  numero = numero + 1"
      ],
      "execution_count": 9,
      "outputs": [
        {
          "output_type": "stream",
          "text": [
            "1\n",
            "2\n",
            "3\n",
            "4\n",
            "5\n",
            "6\n",
            "7\n",
            "8\n",
            "9\n"
          ],
          "name": "stdout"
        }
      ]
    },
    {
      "cell_type": "markdown",
      "metadata": {
        "id": "1L12bITLrR6U"
      },
      "source": [
        "..:: Bucles infinitos ::..\n",
        "\n",
        "Son bucles que nunca dejan de cumplir la condición y se ejecutan de forma constante"
      ]
    },
    {
      "cell_type": "code",
      "metadata": {
        "id": "NhJHQwYbrQoe"
      },
      "source": [
        "# Ejemplo de bucle infinito ya que 'numero = 1' siempre va a ser menor a '10'\n",
        "\n",
        "numero = 1\n",
        "\n",
        "while numero < 10:\n",
        "  print(numero)"
      ],
      "execution_count": null,
      "outputs": []
    },
    {
      "cell_type": "markdown",
      "metadata": {
        "id": "7e-4OJfpsdXb"
      },
      "source": [
        "Calcular la suma de una cantidad de números enteros ingresados por el usuario"
      ]
    },
    {
      "cell_type": "code",
      "metadata": {
        "id": "WrnxcYo9sY6f"
      },
      "source": [
        "suma = 0\n",
        "\n",
        "while True:\n",
        "  input_usuario = int(input(\"Ingresar un número: \"))\n",
        "  suma = suma + input_usuario\n",
        "  print(f\"La suma es {suma}\")"
      ],
      "execution_count": null,
      "outputs": []
    },
    {
      "cell_type": "code",
      "metadata": {
        "id": "fg8qi_2Ptmvu",
        "outputId": "7f8be9d7-7e49-4f92-fced-41e1b27e967e",
        "colab": {
          "base_uri": "https://localhost:8080/"
        }
      },
      "source": [
        "# Valor 'centinela', se utiliza para terminar un proceso \n",
        "\n",
        "suma = 0\n",
        "continuar = True\n",
        "\n",
        "while continuar:\n",
        "  input_usuario = input(\"Ingresar un número:  (para terminar escribir 'exit')\")\n",
        "  \n",
        "  if input_usuario == 'exit':\n",
        "    continuar = False\n",
        "  else:\n",
        "    numero = int(input_usuario)\n",
        "    suma = suma + numero\n",
        "    print(f\"La suma es {suma}\")\n",
        "  \n",
        "print(f\"La suma final es {suma}\")\n",
        "  "
      ],
      "execution_count": 15,
      "outputs": [
        {
          "output_type": "stream",
          "text": [
            "Ingresar un número:  (para terminar escribir 'exit')12\n",
            "La suma es 12\n",
            "Ingresar un número:  (para terminar escribir 'exit')12\n",
            "La suma es 24\n",
            "Ingresar un número:  (para terminar escribir 'exit')12\n",
            "La suma es 36\n",
            "Ingresar un número:  (para terminar escribir 'exit')exit\n",
            "La suma final es 36\n"
          ],
          "name": "stdout"
        }
      ]
    },
    {
      "cell_type": "markdown",
      "metadata": {
        "id": "SMC-PK_Jv0Lr"
      },
      "source": [
        "..:: While break ::.."
      ]
    },
    {
      "cell_type": "code",
      "metadata": {
        "id": "aywciprrtmYb",
        "outputId": "0a8fcb0c-94d6-4927-8927-855f230bc510",
        "colab": {
          "base_uri": "https://localhost:8080/"
        }
      },
      "source": [
        "# La sentencia 'break' permite salir de un bucle, desde cualquier lugar donde sea ejecutado\n",
        "\n",
        "numero = 1\n",
        "\n",
        "while numero < 10:\n",
        "\n",
        "  if numero == 5:\n",
        "    break\n",
        "\n",
        "  print(numero)\n",
        "  numero = numero + 1"
      ],
      "execution_count": 16,
      "outputs": [
        {
          "output_type": "stream",
          "text": [
            "1\n",
            "2\n",
            "3\n",
            "4\n"
          ],
          "name": "stdout"
        }
      ]
    },
    {
      "cell_type": "markdown",
      "metadata": {
        "id": "_d6xSTwAxBbo"
      },
      "source": [
        "..:: While continue ::.."
      ]
    },
    {
      "cell_type": "code",
      "metadata": {
        "id": "la0HgkXDxG0g",
        "outputId": "49b4f9ad-e43b-453e-d7f0-0383d6787079",
        "colab": {
          "base_uri": "https://localhost:8080/"
        }
      },
      "source": [
        "# En una iteración si el código se encuentra con 'continue', dej de ejecutar ese bloque de código y pasa a la siguiente iteración\n",
        "\n",
        "numero = 0\n",
        "\n",
        "while numero < 10:\n",
        "  numero = numero + 1\n",
        "\n",
        "  if numero % 2 == 0:\n",
        "    print(\"continue cuando es par\")\n",
        "    continue\n",
        "\n",
        "  print(numero)"
      ],
      "execution_count": 19,
      "outputs": [
        {
          "output_type": "stream",
          "text": [
            "1\n",
            "continue cuando es par\n",
            "3\n",
            "continue cuando es par\n",
            "5\n",
            "continue cuando es par\n",
            "7\n",
            "continue cuando es par\n",
            "9\n",
            "continue cuando es par\n"
          ],
          "name": "stdout"
        }
      ]
    },
    {
      "cell_type": "markdown",
      "metadata": {
        "id": "OqjoGf0Lyra2"
      },
      "source": [
        "Break y Continue, nos permiten modificar el comportamiento de los bucles en base al cumplimiento de ciertas condiciones"
      ]
    },
    {
      "cell_type": "markdown",
      "metadata": {
        "id": "tnN8ZwDSzFHE"
      },
      "source": [
        "..:: Ejercicio Blackjack ::..\n",
        "\n",
        "El jugardor obtiene una carta y va sumandolas hasta obtener el número 21 o el más cercano posible"
      ]
    },
    {
      "cell_type": "code",
      "metadata": {
        "id": "KLaO5v_tzCTH",
        "outputId": "3008bf76-c927-4466-fdcc-4102d5761e8c",
        "colab": {
          "base_uri": "https://localhost:8080/"
        }
      },
      "source": [
        "# El paquete random nos permite obtener valores aleatorios\n",
        "\n",
        "import random\n",
        "random.randint(1,13)  #Con esto damos un rango para la obtencion de los valores\n"
      ],
      "execution_count": 21,
      "outputs": [
        {
          "output_type": "execute_result",
          "data": {
            "text/plain": [
              "8"
            ]
          },
          "metadata": {
            "tags": []
          },
          "execution_count": 21
        }
      ]
    },
    {
      "cell_type": "code",
      "metadata": {
        "id": "S2UM13rRyqU6",
        "outputId": "0c684354-d98b-43b3-fb17-d653940d8bf9",
        "colab": {
          "base_uri": "https://localhost:8080/"
        }
      },
      "source": [
        "suma = 0\n",
        "\n",
        "while suma <= 21:\n",
        "  carta = random.randint(1,13)\n",
        "  suma = suma + carta\n",
        "  \n",
        "  print(f\"La carta obtenida es: {carta}\")\n",
        "  print(f\"La suma de cartas es: {suma}\")\n",
        "\n",
        "  if suma == 21:\n",
        "    print(\"BLACKJACK!\")\n",
        "    break\n",
        "  \n",
        "  elif suma > 21:\n",
        "    print(\"Perdiste ='(, sigue intentando!\")\n",
        "    break\n",
        "\n",
        "  else:\n",
        "    decision = input(\"Desea obetner otra carta (S/N): \")\n",
        "    if decision == 'N':\n",
        "      print(f\"La suma final de cartas es {suma}\")\n",
        "      break\n"
      ],
      "execution_count": 29,
      "outputs": [
        {
          "output_type": "stream",
          "text": [
            "La carta obtenida es: 10\n",
            "La suma de cartas es: 10\n",
            "Desea obetner otra carta (S/N): S\n",
            "La carta obtenida es: 11\n",
            "La suma de cartas es: 21\n",
            "BLACKJACK!\n"
          ],
          "name": "stdout"
        }
      ]
    },
    {
      "cell_type": "markdown",
      "metadata": {
        "id": "GJzJsgJw6h6z"
      },
      "source": [
        "..:: Bucle for ::..\n",
        "\n",
        "Nos permite recorrer una lista"
      ]
    },
    {
      "cell_type": "code",
      "metadata": {
        "id": "OIChgSfb69pS"
      },
      "source": [
        "# For\n",
        "\n",
        "for valor in 'lista de valores':\n",
        "  #bloque de codigo para cada valor"
      ],
      "execution_count": null,
      "outputs": []
    },
    {
      "cell_type": "code",
      "metadata": {
        "id": "oXF5hch669DR",
        "outputId": "da1a2aeb-cc01-4f85-d35e-80216ddbfeba",
        "colab": {
          "base_uri": "https://localhost:8080/"
        }
      },
      "source": [
        "# Escribir la canción Me gusta de Manu Chao\n",
        "\n",
        "gustos_manuchao = [\"los aviones\", \"viajar\", \"la mañana\", \"el viento\", \"soñar\", \"la mar\"]\n",
        "\n",
        "for gusto in gustos_manuchao:\n",
        "  print(f\"Me gusta {gusto}, me gustas tú\")"
      ],
      "execution_count": 30,
      "outputs": [
        {
          "output_type": "stream",
          "text": [
            "Me gusta los aviones, me gustas tú\n",
            "Me gusta viajar, me gustas tú\n",
            "Me gusta la mañana, me gustas tú\n",
            "Me gusta el viento, me gustas tú\n",
            "Me gusta soñar, me gustas tú\n",
            "Me gusta la mar, me gustas tú\n"
          ],
          "name": "stdout"
        }
      ]
    },
    {
      "cell_type": "markdown",
      "metadata": {
        "id": "QC9KIbzOEN66"
      },
      "source": [
        "..:: For Zip ::..\n"
      ]
    },
    {
      "cell_type": "code",
      "metadata": {
        "id": "wRo0k8aAEyV7"
      },
      "source": [
        "# La función 'zip' nos permite recorrer una list\n",
        "\n",
        "nombres = [\"Mark Zuckerberg\", \"Jack Dorsey\", \"Steve Jobs\", \"Bill Gates\"]\n",
        "empresas = [\"Facebook\", \"Twitter\", \"Apple\", \"Microsoft\"]\n",
        "precio_accion = [24.7, 293.6, 499.2, 228.2]"
      ],
      "execution_count": 39,
      "outputs": []
    },
    {
      "cell_type": "code",
      "metadata": {
        "id": "Z5FX_gj6FaAn",
        "outputId": "340e8ce8-447f-410b-fadc-853d9dbb6719",
        "colab": {
          "base_uri": "https://localhost:8080/"
        }
      },
      "source": [
        "for nombre in nombres:\n",
        "  print(nombre)"
      ],
      "execution_count": 40,
      "outputs": [
        {
          "output_type": "stream",
          "text": [
            "Mark Zuckerberg\n",
            "Jack Dorsey\n",
            "Steve Jobs\n",
            "Bill Gates\n"
          ],
          "name": "stdout"
        }
      ]
    },
    {
      "cell_type": "code",
      "metadata": {
        "id": "_W75gwbiFiGj",
        "outputId": "8cb6c23b-b90d-4d00-845f-9c1a48217662",
        "colab": {
          "base_uri": "https://localhost:8080/"
        }
      },
      "source": [
        "for nombre, empresa, valor in zip(nombres, empresas, precio_accion):\n",
        "  print(nombre,empresa,valor)"
      ],
      "execution_count": 41,
      "outputs": [
        {
          "output_type": "stream",
          "text": [
            "Mark Zuckerberg Facebook 24.7\n",
            "Jack Dorsey Twitter 293.6\n",
            "Steve Jobs Apple 499.2\n",
            "Bill Gates Microsoft 228.2\n"
          ],
          "name": "stdout"
        }
      ]
    },
    {
      "cell_type": "code",
      "metadata": {
        "id": "g5Hdm674Fhn-",
        "outputId": "94d0bae0-d1a0-4298-d564-5bcfae849173",
        "colab": {
          "base_uri": "https://localhost:8080/"
        }
      },
      "source": [
        "for nombre, empresa, valor in zip(nombres, empresas, precio_accion):\n",
        "  print(f\"{nombre} fundó {empresa} y su accion tiene un precio de ${valor}\")"
      ],
      "execution_count": 44,
      "outputs": [
        {
          "output_type": "stream",
          "text": [
            "Mark Zuckerberg fundó Facebook y su accion tiene un precio de $24.7\n",
            "Jack Dorsey fundó Twitter y su accion tiene un precio de $293.6\n",
            "Steve Jobs fundó Apple y su accion tiene un precio de $499.2\n",
            "Bill Gates fundó Microsoft y su accion tiene un precio de $228.2\n"
          ],
          "name": "stdout"
        }
      ]
    },
    {
      "cell_type": "markdown",
      "metadata": {
        "id": "NHbhssC8IKat"
      },
      "source": [
        "..:: For Range ::.."
      ]
    },
    {
      "cell_type": "code",
      "metadata": {
        "id": "8FeGALDHIQro",
        "outputId": "bc28c2c8-8430-4004-be27-87521a5e07a4",
        "colab": {
          "base_uri": "https://localhost:8080/"
        }
      },
      "source": [
        "# La función 'range' permite obtener un rango numérico con límites especificados\n",
        "\n",
        "range(1, 10)"
      ],
      "execution_count": 45,
      "outputs": [
        {
          "output_type": "execute_result",
          "data": {
            "text/plain": [
              "range(1, 10)"
            ]
          },
          "metadata": {
            "tags": []
          },
          "execution_count": 45
        }
      ]
    },
    {
      "cell_type": "code",
      "metadata": {
        "id": "EtnMdWqCIPYi",
        "outputId": "d2b685a7-1612-410f-ea8a-349cdefd6845",
        "colab": {
          "base_uri": "https://localhost:8080/"
        }
      },
      "source": [
        "list(range(1,10))"
      ],
      "execution_count": 46,
      "outputs": [
        {
          "output_type": "execute_result",
          "data": {
            "text/plain": [
              "[1, 2, 3, 4, 5, 6, 7, 8, 9]"
            ]
          },
          "metadata": {
            "tags": []
          },
          "execution_count": 46
        }
      ]
    },
    {
      "cell_type": "code",
      "metadata": {
        "id": "makfiHycIzGl",
        "outputId": "c3d3d742-4be3-456b-817e-4fc301a22d66",
        "colab": {
          "base_uri": "https://localhost:8080/"
        }
      },
      "source": [
        "# También se puede especificar una condición para el rango, por ejemplo que incremente de 2 en 2\n",
        "\n",
        "list(range(1,10,2))"
      ],
      "execution_count": 47,
      "outputs": [
        {
          "output_type": "execute_result",
          "data": {
            "text/plain": [
              "[1, 3, 5, 7, 9]"
            ]
          },
          "metadata": {
            "tags": []
          },
          "execution_count": 47
        }
      ]
    },
    {
      "cell_type": "code",
      "metadata": {
        "id": "IbSI5RXBJuQ0",
        "outputId": "399b2084-c790-406d-e480-657ee0244183",
        "colab": {
          "base_uri": "https://localhost:8080/"
        }
      },
      "source": [
        "for numero in range(1,20,3):\n",
        "  print(numero)"
      ],
      "execution_count": 48,
      "outputs": [
        {
          "output_type": "stream",
          "text": [
            "1\n",
            "4\n",
            "7\n",
            "10\n",
            "13\n",
            "16\n",
            "19\n"
          ],
          "name": "stdout"
        }
      ]
    },
    {
      "cell_type": "code",
      "metadata": {
        "id": "wUhLLPxkJd59",
        "outputId": "d2e1b52c-1aa6-454f-924b-237b27cc7cb8",
        "colab": {
          "base_uri": "https://localhost:8080/"
        }
      },
      "source": [
        "# Obtener una lista de cuadrados\n",
        "cuadrados = []\n",
        "\n",
        "for numero in range(1,20,3):\n",
        "  cuadrados.append(numero ** 2)\n",
        "\n",
        "cuadrados"
      ],
      "execution_count": 49,
      "outputs": [
        {
          "output_type": "execute_result",
          "data": {
            "text/plain": [
              "[1, 16, 49, 100, 169, 256, 361]"
            ]
          },
          "metadata": {
            "tags": []
          },
          "execution_count": 49
        }
      ]
    },
    {
      "cell_type": "code",
      "metadata": {
        "id": "_7aOrMxAKhjh",
        "outputId": "32b63c24-2bfd-4eb3-9df1-effe15c18609",
        "colab": {
          "base_uri": "https://localhost:8080/"
        }
      },
      "source": [
        "# Obtener una lista en orden descendente\n",
        "\n",
        "list(range(100,50,-5))"
      ],
      "execution_count": 50,
      "outputs": [
        {
          "output_type": "execute_result",
          "data": {
            "text/plain": [
              "[100, 95, 90, 85, 80, 75, 70, 65, 60, 55]"
            ]
          },
          "metadata": {
            "tags": []
          },
          "execution_count": 50
        }
      ]
    },
    {
      "cell_type": "markdown",
      "metadata": {
        "id": "5soQX9ugLBWT"
      },
      "source": [
        "..:: For Compresion ::.."
      ]
    },
    {
      "cell_type": "code",
      "metadata": {
        "id": "PbWSWirDLDMn",
        "outputId": "6f96a037-1a8d-467d-d69c-2769fc42a2bf",
        "colab": {
          "base_uri": "https://localhost:8080/"
        }
      },
      "source": [
        "cuadrados = []\n",
        "\n",
        "for numero in range(1,14):\n",
        "  cuadrados.append(numero ** 2)\n",
        "\n",
        "cuadrados"
      ],
      "execution_count": 53,
      "outputs": [
        {
          "output_type": "execute_result",
          "data": {
            "text/plain": [
              "[1, 4, 9, 16, 25, 36, 49, 64, 81, 100, 121, 144, 169]"
            ]
          },
          "metadata": {
            "tags": []
          },
          "execution_count": 53
        }
      ]
    },
    {
      "cell_type": "code",
      "metadata": {
        "id": "s_gMsfBYLlfb",
        "outputId": "b979e888-7a06-4087-97b9-eb7447ae3355",
        "colab": {
          "base_uri": "https://localhost:8080/"
        }
      },
      "source": [
        "# Esta es la forma más compacta y eficiente y se obtiene el mismo resultado que el código anterior \n",
        "cuadrados = [numero ** 2 for numero in range(1,14)]\n",
        "cuadrados"
      ],
      "execution_count": 58,
      "outputs": [
        {
          "output_type": "execute_result",
          "data": {
            "text/plain": [
              "[1, 4, 9, 16, 25, 36, 49, 64, 81, 100, 121, 144, 169]"
            ]
          },
          "metadata": {
            "tags": []
          },
          "execution_count": 58
        }
      ]
    },
    {
      "cell_type": "code",
      "metadata": {
        "id": "Z0QZ2XNqMNiU",
        "outputId": "cc7cec82-6d42-4787-9452-6cf3977806c6",
        "colab": {
          "base_uri": "https://localhost:8080/"
        }
      },
      "source": [
        "# Generar los resultados o valores numéricos para los números pares\n",
        "\n",
        "cuadrados = []\n",
        "\n",
        "for numero in range(1,14):\n",
        "\n",
        "  if numero % 2 == 0:\n",
        "    cuadrados.append(numero ** 2)\n",
        "  \n",
        "cuadrados"
      ],
      "execution_count": 59,
      "outputs": [
        {
          "output_type": "execute_result",
          "data": {
            "text/plain": [
              "[4, 16, 36, 64, 100, 144]"
            ]
          },
          "metadata": {
            "tags": []
          },
          "execution_count": 59
        }
      ]
    },
    {
      "cell_type": "code",
      "metadata": {
        "id": "X1vdJTSDNnyF",
        "outputId": "74c73603-74ba-46ad-b86f-0d8c46bb46f0",
        "colab": {
          "base_uri": "https://localhost:8080/"
        }
      },
      "source": [
        "# En su forma compacta quedaría de la siguiente manera\n",
        "\n",
        "cuadrados = [numero ** 2 for numero in range(1,14) if numero % 2 == 0]\n",
        "cuadrados"
      ],
      "execution_count": 61,
      "outputs": [
        {
          "output_type": "execute_result",
          "data": {
            "text/plain": [
              "[4, 16, 36, 64, 100, 144]"
            ]
          },
          "metadata": {
            "tags": []
          },
          "execution_count": 61
        }
      ]
    },
    {
      "cell_type": "markdown",
      "metadata": {
        "id": "5jYPqKH0WXGo"
      },
      "source": [
        "..:: For Comprensión Diccionarios ::..\n",
        "\n",
        "\n",
        "Crear un diccionario en que las llaves sean las empresas y los valores los precios de las acciones"
      ]
    },
    {
      "cell_type": "code",
      "metadata": {
        "id": "btYHaeICWv6_"
      },
      "source": [
        "empresas = [\"Facebook\", \"Twitter\", \"Apple\", \"Microsoft\"]\n",
        "precio_accion = [24.7, 293.6, 499.2, 228.2]"
      ],
      "execution_count": 62,
      "outputs": []
    },
    {
      "cell_type": "code",
      "metadata": {
        "id": "D_NxvCGgWvYg",
        "outputId": "7c6944e0-c5f3-4a64-8d45-9b330b252092",
        "colab": {
          "base_uri": "https://localhost:8080/"
        }
      },
      "source": [
        "dict_acciones = {}\n",
        "\n",
        "for empresa, precio in zip(empresas, precio_accion):\n",
        "  dict_acciones[empresa] = precio\n",
        "\n",
        "dict_acciones"
      ],
      "execution_count": 65,
      "outputs": [
        {
          "output_type": "execute_result",
          "data": {
            "text/plain": [
              "{'Apple': 499.2, 'Facebook': 24.7, 'Microsoft': 228.2, 'Twitter': 293.6}"
            ]
          },
          "metadata": {
            "tags": []
          },
          "execution_count": 65
        }
      ]
    },
    {
      "cell_type": "code",
      "metadata": {
        "id": "31YadQ9EXla_",
        "outputId": "3e9469f6-177c-4418-f940-e68ded0b24c5",
        "colab": {
          "base_uri": "https://localhost:8080/"
        }
      },
      "source": [
        "dict_acciones_compacta = {empresa: precio for empresa, precio in zip(empresas, precio_accion)}\n",
        "dict_acciones_compacta"
      ],
      "execution_count": 64,
      "outputs": [
        {
          "output_type": "execute_result",
          "data": {
            "text/plain": [
              "{'Apple': 499.2, 'Facebook': 24.7, 'Microsoft': 228.2, 'Twitter': 293.6}"
            ]
          },
          "metadata": {
            "tags": []
          },
          "execution_count": 64
        }
      ]
    },
    {
      "cell_type": "code",
      "metadata": {
        "id": "r-d-y9-aYvK_",
        "outputId": "99c69bdd-8af3-457c-d9dd-6f89cdfeab9f",
        "colab": {
          "base_uri": "https://localhost:8080/"
        }
      },
      "source": [
        "dict_acciones"
      ],
      "execution_count": 67,
      "outputs": [
        {
          "output_type": "execute_result",
          "data": {
            "text/plain": [
              "{'Apple': 499.2, 'Facebook': 24.7, 'Microsoft': 228.2, 'Twitter': 293.6}"
            ]
          },
          "metadata": {
            "tags": []
          },
          "execution_count": 67
        }
      ]
    },
    {
      "cell_type": "code",
      "metadata": {
        "id": "pCWKRwpKXkxh",
        "outputId": "6669124e-c1ae-4870-9629-453feb608eb4",
        "colab": {
          "base_uri": "https://localhost:8080/"
        }
      },
      "source": [
        "# Filtrado de diccionario\n",
        "\n",
        "dict_filtrado = {}\n",
        "\n",
        "for empresa, precio in dict_acciones.items():\n",
        "  print(empresa, precio)"
      ],
      "execution_count": 69,
      "outputs": [
        {
          "output_type": "stream",
          "text": [
            "Facebook 24.7\n",
            "Twitter 293.6\n",
            "Apple 499.2\n",
            "Microsoft 228.2\n"
          ],
          "name": "stdout"
        }
      ]
    },
    {
      "cell_type": "code",
      "metadata": {
        "id": "E-I1OydOZGsY",
        "outputId": "fd22a613-4838-40fc-cc29-45c5c1cb3965",
        "colab": {
          "base_uri": "https://localhost:8080/"
        }
      },
      "source": [
        "# En este ejemplo se utiliza un filtro para obtener las empresas en las cuales el precio sea mayor a $250\n",
        "\n",
        "dict_filtrado = {}\n",
        "\n",
        "for empresa, precio in dict_acciones.items():\n",
        "  if precio > 250:\n",
        "    dict_filtrado[empresa] = precio\n",
        "\n",
        "dict_filtrado"
      ],
      "execution_count": 70,
      "outputs": [
        {
          "output_type": "execute_result",
          "data": {
            "text/plain": [
              "{'Apple': 499.2, 'Twitter': 293.6}"
            ]
          },
          "metadata": {
            "tags": []
          },
          "execution_count": 70
        }
      ]
    },
    {
      "cell_type": "code",
      "metadata": {
        "id": "cOD90FMXZrEP",
        "outputId": "a5ccdfaa-db7a-46fb-9f1d-b96895554122",
        "colab": {
          "base_uri": "https://localhost:8080/"
        }
      },
      "source": [
        "# En su forma compacta seria de la siguiente manera\n",
        "\n",
        "dict_filtrado_compacto = {empresa:precio for empresa, precio in dict_acciones.items() if precio > 250}\n",
        "\n",
        "dict_filtrado_compacto"
      ],
      "execution_count": 72,
      "outputs": [
        {
          "output_type": "execute_result",
          "data": {
            "text/plain": [
              "{'Apple': 499.2, 'Twitter': 293.6}"
            ]
          },
          "metadata": {
            "tags": []
          },
          "execution_count": 72
        }
      ]
    },
    {
      "cell_type": "markdown",
      "metadata": {
        "id": "yYLkAYSxaXG-"
      },
      "source": [
        "..:: For Enumerate ::.."
      ]
    },
    {
      "cell_type": "code",
      "metadata": {
        "id": "lDiaqWiwadmK",
        "outputId": "246fa50b-4e34-4250-a969-ef580200e7d6",
        "colab": {
          "base_uri": "https://localhost:8080/"
        }
      },
      "source": [
        "lista_compras = [\"piñas\", \"mangos\", \"uvas\", \"platanos\"]\n",
        "\n",
        "for fruta in lista_compras:\n",
        "  print(fruta)"
      ],
      "execution_count": 73,
      "outputs": [
        {
          "output_type": "stream",
          "text": [
            "piñas\n",
            "mangos\n",
            "uvas\n",
            "platanos\n"
          ],
          "name": "stdout"
        }
      ]
    },
    {
      "cell_type": "code",
      "metadata": {
        "id": "8dAVNGSgac5v",
        "outputId": "1ce1557d-f929-4de2-941f-3408d2b45877",
        "colab": {
          "base_uri": "https://localhost:8080/"
        }
      },
      "source": [
        "#La función \"enumerate()\", permite colocar índices a los elementos de una lista \n",
        "\n",
        "for variable in enumerate(lista_compras):\n",
        "  print(variable)"
      ],
      "execution_count": 75,
      "outputs": [
        {
          "output_type": "stream",
          "text": [
            "(0, 'piñas')\n",
            "(1, 'mangos')\n",
            "(2, 'uvas')\n",
            "(3, 'platanos')\n"
          ],
          "name": "stdout"
        }
      ]
    },
    {
      "cell_type": "code",
      "metadata": {
        "id": "rBM-mcsTacNn",
        "outputId": "b3f2a9ec-5a15-4e32-c7e0-f80bdd442162",
        "colab": {
          "base_uri": "https://localhost:8080/"
        }
      },
      "source": [
        "for numero, fruta in enumerate(lista_compras, 1):  #con el \"1\" indicamos desde donde comienza nuestro índice\n",
        "  print(f\"{numero}. {fruta}\")"
      ],
      "execution_count": 76,
      "outputs": [
        {
          "output_type": "stream",
          "text": [
            "1. piñas\n",
            "2. mangos\n",
            "3. uvas\n",
            "4. platanos\n"
          ],
          "name": "stdout"
        }
      ]
    },
    {
      "cell_type": "markdown",
      "metadata": {
        "id": "FJa6da66cSbv"
      },
      "source": [
        "> ..:: Ejercicio 1 ::.. \n",
        "\n",
        "Escribir un programa que reciba un número de un usuario e imprima los cubos de los números menores"
      ]
    },
    {
      "cell_type": "code",
      "metadata": {
        "colab": {
          "base_uri": "https://localhost:8080/"
        },
        "id": "R9-Qf3xsciKw",
        "outputId": "38b73855-0fa8-45d8-d69b-24b2bf532c55"
      },
      "source": [
        "numLimite = int(input(\"Ingrese un número entero: \"))\n",
        "\n",
        "cubos = [numero ** 3 for numero in range(1, numLimite)]\n",
        "print(cubos)"
      ],
      "execution_count": null,
      "outputs": [
        {
          "output_type": "stream",
          "text": [
            "Ingrese un número entero: 5\n",
            "[1, 8, 27, 64]\n"
          ],
          "name": "stdout"
        }
      ]
    },
    {
      "cell_type": "markdown",
      "metadata": {
        "id": "iFo6de1LfW7q"
      },
      "source": [
        "> ..:: Ejercicio 2 ::..\n",
        "\n",
        "Escribir un programa que reciba un número de un usuario e imprima si el número es primo o no"
      ]
    },
    {
      "cell_type": "code",
      "metadata": {
        "id": "Py3mQI4lfjvt",
        "colab": {
          "base_uri": "https://localhost:8080/"
        },
        "outputId": "c04a5f7f-5b98-4fee-af02-2bead51c1068"
      },
      "source": [
        "numero = int(input(\"Ingrese un número: \"))\n",
        "primo = True\n",
        "\n",
        "if numero % 2 == 0 and numero != 2:\n",
        "  primo = False\n",
        "\n",
        "else:\n",
        "  for divisor in range(1, numero, 2):\n",
        "    if numero % divisor == 0:\n",
        "      primo = False\n",
        "      break\n",
        "\n",
        "if primo:\n",
        "  print(f\"{numero} es primo\")\n",
        "else:\n",
        "  print(f\"{numero} No es primo. Es divisible entre {divisor} y {numero//divisor}\")\n"
      ],
      "execution_count": 92,
      "outputs": [
        {
          "output_type": "stream",
          "text": [
            "Ingrese un número: 75\n",
            "75 No es primo. Es divisible entre 1 y 75\n"
          ],
          "name": "stdout"
        }
      ]
    },
    {
      "cell_type": "markdown",
      "metadata": {
        "id": "mB8tJ5GNiZZG"
      },
      "source": [
        "..:: Ejercicio 3 ::..\n",
        "\n",
        "Escribir un programa que calcule el factorial de un número"
      ]
    },
    {
      "cell_type": "code",
      "metadata": {
        "id": "n01Y6eT_gKC8",
        "outputId": "61f9b3ab-4c30-4590-da70-26886362091e",
        "colab": {
          "base_uri": "https://localhost:8080/"
        }
      },
      "source": [
        "numero = 10\n",
        "\n",
        "producto = 1\n",
        "\n",
        "for n in range(1, numero +1):\n",
        "  producto = producto * n\n",
        "\n",
        "print(f\"El factorial de {numero} es {producto}\")"
      ],
      "execution_count": 94,
      "outputs": [
        {
          "output_type": "stream",
          "text": [
            "El factorial de 10 es 3628800\n"
          ],
          "name": "stdout"
        }
      ]
    },
    {
      "cell_type": "code",
      "metadata": {
        "id": "phBupwarjLgQ"
      },
      "source": [
        ""
      ],
      "execution_count": null,
      "outputs": []
    }
  ]
}