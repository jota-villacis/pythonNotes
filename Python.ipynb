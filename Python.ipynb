{
  "nbformat": 4,
  "nbformat_minor": 0,
  "metadata": {
    "colab": {
      "name": "Python.ipynb",
      "provenance": [],
      "collapsed_sections": [
        "KfaqBcBxei0T",
        "z9D87uEGesE3",
        "RSURllXshtji"
      ],
      "toc_visible": true,
      "authorship_tag": "ABX9TyOacTYmjVsoF/lck2m0w+mx",
      "include_colab_link": true
    },
    "kernelspec": {
      "name": "python3",
      "display_name": "Python 3"
    }
  },
  "cells": [
    {
      "cell_type": "markdown",
      "metadata": {
        "id": "view-in-github",
        "colab_type": "text"
      },
      "source": [
        "<a href=\"https://colab.research.google.com/github/jota-villacis/pythonNotes/blob/main/Python.ipynb\" target=\"_parent\"><img src=\"https://colab.research.google.com/assets/colab-badge.svg\" alt=\"Open In Colab\"/></a>"
      ]
    },
    {
      "cell_type": "markdown",
      "metadata": {
        "id": "3m3plvAaAn73"
      },
      "source": [
        "#**Notas Curso Python para Todos - Udemy**\n",
        "\n",
        "DataHack Formation"
      ]
    },
    {
      "cell_type": "markdown",
      "metadata": {
        "id": "KfaqBcBxei0T"
      },
      "source": [
        "# Tipos de Variables"
      ]
    },
    {
      "cell_type": "markdown",
      "metadata": {
        "id": "Ib1btycbBeJ_"
      },
      "source": [
        "> ..:: Variables Numericas ::.."
      ]
    },
    {
      "cell_type": "code",
      "metadata": {
        "colab": {
          "base_uri": "https://localhost:8080/"
        },
        "id": "RXxqV0kd_1pb",
        "outputId": "076a82db-99da-4249-efa0-69c37094505e"
      },
      "source": [
        "# Tipo Entero (int)\n",
        "\n",
        "x = 20\n",
        "x"
      ],
      "execution_count": null,
      "outputs": [
        {
          "output_type": "execute_result",
          "data": {
            "text/plain": [
              "20"
            ]
          },
          "metadata": {
            "tags": []
          },
          "execution_count": 90
        }
      ]
    },
    {
      "cell_type": "code",
      "metadata": {
        "colab": {
          "base_uri": "https://localhost:8080/"
        },
        "id": "Ye99J4KACTSL",
        "outputId": "63eb7cdd-89f3-48d3-e11c-159a154f3148"
      },
      "source": [
        "# Tipo decimal / Variable de punto flotante (float)\n",
        "\n",
        "y = 10.8\n",
        "y"
      ],
      "execution_count": null,
      "outputs": [
        {
          "output_type": "execute_result",
          "data": {
            "text/plain": [
              "10.8"
            ]
          },
          "metadata": {
            "tags": []
          },
          "execution_count": 91
        }
      ]
    },
    {
      "cell_type": "code",
      "metadata": {
        "colab": {
          "base_uri": "https://localhost:8080/"
        },
        "id": "YViNYjme_7F0",
        "outputId": "0fb6ef5c-7d00-485d-fbab-0178bd17c2de"
      },
      "source": [
        "# Obetner el tipo de variable\n",
        "\n",
        "type(y)"
      ],
      "execution_count": null,
      "outputs": [
        {
          "output_type": "execute_result",
          "data": {
            "text/plain": [
              "float"
            ]
          },
          "metadata": {
            "tags": []
          },
          "execution_count": 92
        }
      ]
    },
    {
      "cell_type": "markdown",
      "metadata": {
        "id": "HbIjH_BZDXRN"
      },
      "source": [
        "> ..:: Casteo de variables numéricas ::.."
      ]
    },
    {
      "cell_type": "code",
      "metadata": {
        "colab": {
          "base_uri": "https://localhost:8080/"
        },
        "id": "mKS7tSGCC1YV",
        "outputId": "96528e8b-ca5b-4df8-91ee-8898656d8313"
      },
      "source": [
        "x = 50.7\n",
        "y = 48.9\n",
        "\n",
        "# Casteo explícito > Le indico el tipo de variable que quiero obtener y la coloco dentro \"z = int(x+y)\"\n",
        "\n",
        "z = int(x+y)\n",
        "z"
      ],
      "execution_count": null,
      "outputs": [
        {
          "output_type": "execute_result",
          "data": {
            "text/plain": [
              "99"
            ]
          },
          "metadata": {
            "tags": []
          },
          "execution_count": 93
        }
      ]
    },
    {
      "cell_type": "code",
      "metadata": {
        "colab": {
          "base_uri": "https://localhost:8080/"
        },
        "id": "upOazQ5EEnvv",
        "outputId": "dd67c33e-9164-4bd8-b5d0-5d8c73e1e397"
      },
      "source": [
        "z = int(x) + int(y)\n",
        "z\n"
      ],
      "execution_count": null,
      "outputs": [
        {
          "output_type": "execute_result",
          "data": {
            "text/plain": [
              "98"
            ]
          },
          "metadata": {
            "tags": []
          },
          "execution_count": 94
        }
      ]
    },
    {
      "cell_type": "markdown",
      "metadata": {
        "id": "GqM03wuoFLP2"
      },
      "source": [
        "> ..:: Funcion \"round\" ::.."
      ]
    },
    {
      "cell_type": "code",
      "metadata": {
        "colab": {
          "base_uri": "https://localhost:8080/"
        },
        "id": "Gm2INozeFCWP",
        "outputId": "176cc5ef-6961-4855-ff76-46faa87e233f"
      },
      "source": [
        "# Permite obtener el número entero más cercano a el número decimal \n",
        "\n",
        "x = 37.4\n",
        "y = 22.8\n",
        "\n",
        "z = round(x) + round(y)\n",
        "z"
      ],
      "execution_count": null,
      "outputs": [
        {
          "output_type": "execute_result",
          "data": {
            "text/plain": [
              "60"
            ]
          },
          "metadata": {
            "tags": []
          },
          "execution_count": 95
        }
      ]
    },
    {
      "cell_type": "code",
      "metadata": {
        "colab": {
          "base_uri": "https://localhost:8080/"
        },
        "id": "3ME0H6a8ECPx",
        "outputId": "a60e3779-0edd-49dd-e3fd-5912380ec06e"
      },
      "source": [
        "# Para convertir una variable a tipo \"float\" (flotante)\n",
        "\n",
        "x = 7\n",
        "\n",
        "z = float(x)\n",
        "z"
      ],
      "execution_count": null,
      "outputs": [
        {
          "output_type": "execute_result",
          "data": {
            "text/plain": [
              "7.0"
            ]
          },
          "metadata": {
            "tags": []
          },
          "execution_count": 96
        }
      ]
    },
    {
      "cell_type": "code",
      "metadata": {
        "colab": {
          "base_uri": "https://localhost:8080/"
        },
        "id": "UulAeQdjHYKr",
        "outputId": "68e3239e-8c62-4d89-9cfb-beecb39f79d8"
      },
      "source": [
        "# Comprobamos el tipo de dato nuevamente con \"type(z)\"\n",
        "\n",
        "type(z)"
      ],
      "execution_count": null,
      "outputs": [
        {
          "output_type": "execute_result",
          "data": {
            "text/plain": [
              "float"
            ]
          },
          "metadata": {
            "tags": []
          },
          "execution_count": 97
        }
      ]
    },
    {
      "cell_type": "markdown",
      "metadata": {
        "id": "ebZxkJ5uIo7C"
      },
      "source": [
        "> ..:: Operadores de Variables Numéricas ::.."
      ]
    },
    {
      "cell_type": "code",
      "metadata": {
        "id": "VDoURwb2H_GO"
      },
      "source": [
        " a = 20\n",
        " b = 10"
      ],
      "execution_count": null,
      "outputs": []
    },
    {
      "cell_type": "code",
      "metadata": {
        "colab": {
          "base_uri": "https://localhost:8080/"
        },
        "id": "dI30jGEKJQd-",
        "outputId": "5557ad15-33df-4cbf-d3d2-a0fd5e044d2d"
      },
      "source": [
        "# Suma\n",
        "\n",
        "a + b"
      ],
      "execution_count": null,
      "outputs": [
        {
          "output_type": "execute_result",
          "data": {
            "text/plain": [
              "30"
            ]
          },
          "metadata": {
            "tags": []
          },
          "execution_count": 99
        }
      ]
    },
    {
      "cell_type": "code",
      "metadata": {
        "colab": {
          "base_uri": "https://localhost:8080/"
        },
        "id": "X_TaMfx_JT_J",
        "outputId": "e41941f7-92bc-488f-af25-8f3e9f1f5fd7"
      },
      "source": [
        "# Resta\n",
        "\n",
        "a - b"
      ],
      "execution_count": null,
      "outputs": [
        {
          "output_type": "execute_result",
          "data": {
            "text/plain": [
              "10"
            ]
          },
          "metadata": {
            "tags": []
          },
          "execution_count": 100
        }
      ]
    },
    {
      "cell_type": "code",
      "metadata": {
        "colab": {
          "base_uri": "https://localhost:8080/"
        },
        "id": "IYALiNB6JX8R",
        "outputId": "5caedf2d-8952-4518-9af6-aa4eb4d5e1fd"
      },
      "source": [
        "# Multiplicación\n",
        "\n",
        "a * b"
      ],
      "execution_count": null,
      "outputs": [
        {
          "output_type": "execute_result",
          "data": {
            "text/plain": [
              "200"
            ]
          },
          "metadata": {
            "tags": []
          },
          "execution_count": 101
        }
      ]
    },
    {
      "cell_type": "code",
      "metadata": {
        "colab": {
          "base_uri": "https://localhost:8080/"
        },
        "id": "X8gPd1JZJaMw",
        "outputId": "5c2cfba8-a43c-42fe-8aac-14b038058123"
      },
      "source": [
        "# División\n",
        "\n",
        "a / b"
      ],
      "execution_count": null,
      "outputs": [
        {
          "output_type": "execute_result",
          "data": {
            "text/plain": [
              "2.0"
            ]
          },
          "metadata": {
            "tags": []
          },
          "execution_count": 102
        }
      ]
    },
    {
      "cell_type": "code",
      "metadata": {
        "colab": {
          "base_uri": "https://localhost:8080/"
        },
        "id": "8CrwmmCUJb9-",
        "outputId": "ae39b0bb-f09f-4e67-95ad-88de5575bf40"
      },
      "source": [
        "# Potencia\n",
        "\n",
        "a ** b"
      ],
      "execution_count": null,
      "outputs": [
        {
          "output_type": "execute_result",
          "data": {
            "text/plain": [
              "10240000000000"
            ]
          },
          "metadata": {
            "tags": []
          },
          "execution_count": 103
        }
      ]
    },
    {
      "cell_type": "code",
      "metadata": {
        "colab": {
          "base_uri": "https://localhost:8080/"
        },
        "id": "QbzaxLjgJds4",
        "outputId": "d98316a5-6933-441b-b046-22b545c1d8ae"
      },
      "source": [
        "# Obtner el Resto\n",
        "\n",
        "a % b"
      ],
      "execution_count": null,
      "outputs": [
        {
          "output_type": "execute_result",
          "data": {
            "text/plain": [
              "0"
            ]
          },
          "metadata": {
            "tags": []
          },
          "execution_count": 104
        }
      ]
    },
    {
      "cell_type": "code",
      "metadata": {
        "colab": {
          "base_uri": "https://localhost:8080/"
        },
        "id": "ugpRiD_nKovL",
        "outputId": "db50439d-e87d-449d-fbdb-2f65804f0685"
      },
      "source": [
        "# Raiz cuadrada > \"elevar a 1/2\" \n",
        "\n",
        "x = 16\n",
        "y = 1/2\n",
        "\n",
        "x ** (y)"
      ],
      "execution_count": null,
      "outputs": [
        {
          "output_type": "execute_result",
          "data": {
            "text/plain": [
              "4.0"
            ]
          },
          "metadata": {
            "tags": []
          },
          "execution_count": 105
        }
      ]
    },
    {
      "cell_type": "code",
      "metadata": {
        "colab": {
          "base_uri": "https://localhost:8080/"
        },
        "id": "48tnJmTbMziN",
        "outputId": "bdbf663f-b83f-424c-8b8e-27fe8d29fe81"
      },
      "source": [
        "# Orden de operaciones\n",
        "\n",
        "5 + 16 / 2 ** 4"
      ],
      "execution_count": null,
      "outputs": [
        {
          "output_type": "execute_result",
          "data": {
            "text/plain": [
              "6.0"
            ]
          },
          "metadata": {
            "tags": []
          },
          "execution_count": 106
        }
      ]
    },
    {
      "cell_type": "code",
      "metadata": {
        "colab": {
          "base_uri": "https://localhost:8080/"
        },
        "id": "qkV-7E3sSFoG",
        "outputId": "14095482-fd69-44c3-8621-f6d7c5446cdd"
      },
      "source": [
        "5 + (16 / 2) ** 4"
      ],
      "execution_count": null,
      "outputs": [
        {
          "output_type": "execute_result",
          "data": {
            "text/plain": [
              "4101.0"
            ]
          },
          "metadata": {
            "tags": []
          },
          "execution_count": 107
        }
      ]
    },
    {
      "cell_type": "markdown",
      "metadata": {
        "id": "6SUYFP-BTBsK"
      },
      "source": [
        "> ..:: Variables Booleanas ::.."
      ]
    },
    {
      "cell_type": "code",
      "metadata": {
        "colab": {
          "base_uri": "https://localhost:8080/"
        },
        "id": "zODcDl4iSuDz",
        "outputId": "815ed134-5df0-404c-b642-8f3e99f5b18e"
      },
      "source": [
        "4 < 5"
      ],
      "execution_count": null,
      "outputs": [
        {
          "output_type": "execute_result",
          "data": {
            "text/plain": [
              "True"
            ]
          },
          "metadata": {
            "tags": []
          },
          "execution_count": 108
        }
      ]
    },
    {
      "cell_type": "code",
      "metadata": {
        "colab": {
          "base_uri": "https://localhost:8080/"
        },
        "id": "2xg7UIV6TMtt",
        "outputId": "bb1330e9-a70d-48c4-9af5-47463ef47221"
      },
      "source": [
        "a = 4 > 5\n",
        "a"
      ],
      "execution_count": null,
      "outputs": [
        {
          "output_type": "execute_result",
          "data": {
            "text/plain": [
              "False"
            ]
          },
          "metadata": {
            "tags": []
          },
          "execution_count": 109
        }
      ]
    },
    {
      "cell_type": "code",
      "metadata": {
        "colab": {
          "base_uri": "https://localhost:8080/"
        },
        "id": "9AjV3DG9TOix",
        "outputId": "54bd219a-e6e0-41bc-ed30-7b14d039fa39"
      },
      "source": [
        "4 == 4"
      ],
      "execution_count": null,
      "outputs": [
        {
          "output_type": "execute_result",
          "data": {
            "text/plain": [
              "True"
            ]
          },
          "metadata": {
            "tags": []
          },
          "execution_count": 110
        }
      ]
    },
    {
      "cell_type": "code",
      "metadata": {
        "colab": {
          "base_uri": "https://localhost:8080/"
        },
        "id": "e9Icv9i2TpBq",
        "outputId": "ff444404-0a85-49d4-bb03-9cdeb634f91a"
      },
      "source": [
        "x = 4 == 6\n",
        "x"
      ],
      "execution_count": null,
      "outputs": [
        {
          "output_type": "execute_result",
          "data": {
            "text/plain": [
              "False"
            ]
          },
          "metadata": {
            "tags": []
          },
          "execution_count": 111
        }
      ]
    },
    {
      "cell_type": "code",
      "metadata": {
        "colab": {
          "base_uri": "https://localhost:8080/"
        },
        "id": "BzwUXlzTTtND",
        "outputId": "15b13c51-6505-4401-c307-37aeef81b202"
      },
      "source": [
        "x = True\n",
        "y = False\n",
        "\n",
        "type(x)"
      ],
      "execution_count": null,
      "outputs": [
        {
          "output_type": "execute_result",
          "data": {
            "text/plain": [
              "bool"
            ]
          },
          "metadata": {
            "tags": []
          },
          "execution_count": 112
        }
      ]
    },
    {
      "cell_type": "markdown",
      "metadata": {
        "id": "O3dwRfj7T85L"
      },
      "source": [
        "> ..:: Operadores de combinación de variables booleanas ::.."
      ]
    },
    {
      "cell_type": "code",
      "metadata": {
        "id": "PYVPYKDtTxjS"
      },
      "source": [
        "c = True\n",
        "d = False"
      ],
      "execution_count": null,
      "outputs": []
    },
    {
      "cell_type": "code",
      "metadata": {
        "colab": {
          "base_uri": "https://localhost:8080/"
        },
        "id": "L1HNhyjxUEX8",
        "outputId": "1707d352-4c3f-4e94-f9d1-11e083832eba"
      },
      "source": [
        "# Operador \"and\" > Devuelve un valor verdadero(True) si los valores analizados son verdaderos\n",
        "\n",
        "c and c"
      ],
      "execution_count": null,
      "outputs": [
        {
          "output_type": "execute_result",
          "data": {
            "text/plain": [
              "True"
            ]
          },
          "metadata": {
            "tags": []
          },
          "execution_count": 114
        }
      ]
    },
    {
      "cell_type": "code",
      "metadata": {
        "colab": {
          "base_uri": "https://localhost:8080/"
        },
        "id": "2e5LUQVYUPpW",
        "outputId": "ec7b3218-e9ab-48f0-865e-dc9373a69c81"
      },
      "source": [
        "c and d"
      ],
      "execution_count": null,
      "outputs": [
        {
          "output_type": "execute_result",
          "data": {
            "text/plain": [
              "False"
            ]
          },
          "metadata": {
            "tags": []
          },
          "execution_count": 115
        }
      ]
    },
    {
      "cell_type": "code",
      "metadata": {
        "colab": {
          "base_uri": "https://localhost:8080/"
        },
        "id": "wtdzAtiXUQ-c",
        "outputId": "ab20dc4c-57ce-434a-f848-ffcc2f5de27a"
      },
      "source": [
        "# Operador \"or\" > Devuelve un valor verdadero(True) siempre y cuando al menos uno de los valores analizados sea verdadero\n",
        "\n",
        "c or d"
      ],
      "execution_count": null,
      "outputs": [
        {
          "output_type": "execute_result",
          "data": {
            "text/plain": [
              "True"
            ]
          },
          "metadata": {
            "tags": []
          },
          "execution_count": 116
        }
      ]
    },
    {
      "cell_type": "code",
      "metadata": {
        "colab": {
          "base_uri": "https://localhost:8080/"
        },
        "id": "HoGCAU0XU8ys",
        "outputId": "c892a93e-5cf1-459f-fc8f-40201edb0fde"
      },
      "source": [
        "d or d"
      ],
      "execution_count": null,
      "outputs": [
        {
          "output_type": "execute_result",
          "data": {
            "text/plain": [
              "False"
            ]
          },
          "metadata": {
            "tags": []
          },
          "execution_count": 117
        }
      ]
    },
    {
      "cell_type": "code",
      "metadata": {
        "colab": {
          "base_uri": "https://localhost:8080/"
        },
        "id": "rf4rOQHXU_tw",
        "outputId": "ef36ae00-d7ce-4c6f-dc93-59f3064118d9"
      },
      "source": [
        "(3 < 4) and (4 < 5)"
      ],
      "execution_count": null,
      "outputs": [
        {
          "output_type": "execute_result",
          "data": {
            "text/plain": [
              "True"
            ]
          },
          "metadata": {
            "tags": []
          },
          "execution_count": 118
        }
      ]
    },
    {
      "cell_type": "markdown",
      "metadata": {
        "id": "XoqeelEKWV0s"
      },
      "source": [
        "> ..:: Strings ::.. "
      ]
    },
    {
      "cell_type": "code",
      "metadata": {
        "colab": {
          "base_uri": "https://localhost:8080/",
          "height": 35
        },
        "id": "IsUA8KLfWLXc",
        "outputId": "8503108e-527c-4110-a97b-b4a520dcb5ea"
      },
      "source": [
        "saludo = \"Hola Mundo!\"\n",
        "saludo"
      ],
      "execution_count": null,
      "outputs": [
        {
          "output_type": "execute_result",
          "data": {
            "application/vnd.google.colaboratory.intrinsic+json": {
              "type": "string"
            },
            "text/plain": [
              "'Hola Mundo!'"
            ]
          },
          "metadata": {
            "tags": []
          },
          "execution_count": 119
        }
      ]
    },
    {
      "cell_type": "code",
      "metadata": {
        "colab": {
          "base_uri": "https://localhost:8080/"
        },
        "id": "xuDnOtopW5NQ",
        "outputId": "2ec8819d-b756-49d1-eedf-d14acd43c233"
      },
      "source": [
        "type(saludo)"
      ],
      "execution_count": null,
      "outputs": [
        {
          "output_type": "execute_result",
          "data": {
            "text/plain": [
              "str"
            ]
          },
          "metadata": {
            "tags": []
          },
          "execution_count": 120
        }
      ]
    },
    {
      "cell_type": "code",
      "metadata": {
        "colab": {
          "base_uri": "https://localhost:8080/",
          "height": 35
        },
        "id": "HyqBrYZIXCPa",
        "outputId": "bdc905e3-7caf-4717-a266-06fa046c1a01"
      },
      "source": [
        "# \"F strings\" > Permite combinar sentencias de texto con valores que tenemos en otras variable\n",
        "\n",
        "nombre = \"Thor\"\n",
        "edad = 30\n",
        "\n",
        "saludo = f\"Hola {nombre}, tu edad es {edad}\"\n",
        "saludo"
      ],
      "execution_count": null,
      "outputs": [
        {
          "output_type": "execute_result",
          "data": {
            "application/vnd.google.colaboratory.intrinsic+json": {
              "type": "string"
            },
            "text/plain": [
              "'Hola Thor, tu edad es 30'"
            ]
          },
          "metadata": {
            "tags": []
          },
          "execution_count": 122
        }
      ]
    },
    {
      "cell_type": "markdown",
      "metadata": {
        "id": "EbEkcJfUYpEb"
      },
      "source": [
        "> ..:: Operadores de strings ::.."
      ]
    },
    {
      "cell_type": "code",
      "metadata": {
        "colab": {
          "base_uri": "https://localhost:8080/",
          "height": 35
        },
        "id": "_ZcGc_DkYYeo",
        "outputId": "c19471eb-4409-4709-c398-84cde7708f37"
      },
      "source": [
        "cadena = \"Thor\"\n",
        "\n",
        "cadena + \", hijo de Odin\""
      ],
      "execution_count": null,
      "outputs": [
        {
          "output_type": "execute_result",
          "data": {
            "application/vnd.google.colaboratory.intrinsic+json": {
              "type": "string"
            },
            "text/plain": [
              "'Thor, hijo de Odin'"
            ]
          },
          "metadata": {
            "tags": []
          },
          "execution_count": 124
        }
      ]
    },
    {
      "cell_type": "code",
      "metadata": {
        "colab": {
          "base_uri": "https://localhost:8080/",
          "height": 35
        },
        "id": "WyWn5RqgZNcb",
        "outputId": "1d87d7e0-27f4-425b-8022-eef388f0b395"
      },
      "source": [
        "# Cuidado con los operadores\n",
        "\n",
        "cadena * 5"
      ],
      "execution_count": null,
      "outputs": [
        {
          "output_type": "execute_result",
          "data": {
            "application/vnd.google.colaboratory.intrinsic+json": {
              "type": "string"
            },
            "text/plain": [
              "'ThorThorThorThorThor'"
            ]
          },
          "metadata": {
            "tags": []
          },
          "execution_count": 126
        }
      ]
    },
    {
      "cell_type": "code",
      "metadata": {
        "id": "zrwkQNXMZlz9"
      },
      "source": [
        "#cadena / 5  # Para ver Error descomentar"
      ],
      "execution_count": null,
      "outputs": []
    },
    {
      "cell_type": "markdown",
      "metadata": {
        "id": "OL0QutlEZ5hZ"
      },
      "source": [
        "> ..:: Otros operadores de Strings ::.."
      ]
    },
    {
      "cell_type": "code",
      "metadata": {
        "id": "Vw4LQHmjZvMc"
      },
      "source": [
        "x = \"Real Madrid\"\n",
        "y = \"Barcelona\""
      ],
      "execution_count": null,
      "outputs": []
    },
    {
      "cell_type": "code",
      "metadata": {
        "colab": {
          "base_uri": "https://localhost:8080/"
        },
        "id": "yTTJ9FOnagMi",
        "outputId": "996e1565-7c35-4ba6-e663-c373a0df6899"
      },
      "source": [
        "x < y"
      ],
      "execution_count": null,
      "outputs": [
        {
          "output_type": "execute_result",
          "data": {
            "text/plain": [
              "False"
            ]
          },
          "metadata": {
            "tags": []
          },
          "execution_count": 128
        }
      ]
    },
    {
      "cell_type": "code",
      "metadata": {
        "colab": {
          "base_uri": "https://localhost:8080/"
        },
        "id": "VyFwYn95aiSK",
        "outputId": "53c6cf02-9c66-4ec6-c1d4-af0e4a6be3ea"
      },
      "source": [
        "\"a\" < \"b\""
      ],
      "execution_count": null,
      "outputs": [
        {
          "output_type": "execute_result",
          "data": {
            "text/plain": [
              "True"
            ]
          },
          "metadata": {
            "tags": []
          },
          "execution_count": 129
        }
      ]
    },
    {
      "cell_type": "code",
      "metadata": {
        "colab": {
          "base_uri": "https://localhost:8080/"
        },
        "id": "zs9GkNw6al78",
        "outputId": "8563e874-27dd-41c8-ffa0-d17af8f47523"
      },
      "source": [
        "\"Brasil\" == \"brasil\""
      ],
      "execution_count": null,
      "outputs": [
        {
          "output_type": "execute_result",
          "data": {
            "text/plain": [
              "False"
            ]
          },
          "metadata": {
            "tags": []
          },
          "execution_count": 130
        }
      ]
    },
    {
      "cell_type": "code",
      "metadata": {
        "colab": {
          "base_uri": "https://localhost:8080/"
        },
        "id": "zAnqTOMWbAB4",
        "outputId": "a890046f-2650-4de1-ec06-ad3064bd8913"
      },
      "source": [
        "\"brasil\" == \"brasil\""
      ],
      "execution_count": null,
      "outputs": [
        {
          "output_type": "execute_result",
          "data": {
            "text/plain": [
              "True"
            ]
          },
          "metadata": {
            "tags": []
          },
          "execution_count": 131
        }
      ]
    },
    {
      "cell_type": "code",
      "metadata": {
        "colab": {
          "base_uri": "https://localhost:8080/",
          "height": 35
        },
        "id": "_12nyqV8bECL",
        "outputId": "fd36483f-cb74-443e-d27c-b2e3c75d31a2"
      },
      "source": [
        "# Caracteres a minúsculas > Utilizando el método \"lower()\"\n",
        "\n",
        "cadena = 'Jimmy Villacis'\n",
        "\n",
        "cadena.lower()"
      ],
      "execution_count": null,
      "outputs": [
        {
          "output_type": "execute_result",
          "data": {
            "application/vnd.google.colaboratory.intrinsic+json": {
              "type": "string"
            },
            "text/plain": [
              "'jimmy villacis'"
            ]
          },
          "metadata": {
            "tags": []
          },
          "execution_count": 135
        }
      ]
    },
    {
      "cell_type": "code",
      "metadata": {
        "colab": {
          "base_uri": "https://localhost:8080/",
          "height": 35
        },
        "id": "6OQ7s0ZlbQQc",
        "outputId": "da6959b9-c535-4bd9-9fe8-dd58f5be7574"
      },
      "source": [
        "# Caracteres a mayúsculas > Utilizando el método \"upper()\"\n",
        "\n",
        "cadena.upper()"
      ],
      "execution_count": null,
      "outputs": [
        {
          "output_type": "execute_result",
          "data": {
            "application/vnd.google.colaboratory.intrinsic+json": {
              "type": "string"
            },
            "text/plain": [
              "'JIMMY VILLACIS'"
            ]
          },
          "metadata": {
            "tags": []
          },
          "execution_count": 136
        }
      ]
    },
    {
      "cell_type": "markdown",
      "metadata": {
        "id": "WjpJv7OOcRCH"
      },
      "source": [
        "> ..:: Ingreso de valores por el usuario ::.."
      ]
    },
    {
      "cell_type": "code",
      "metadata": {
        "colab": {
          "base_uri": "https://localhost:8080/",
          "height": 52
        },
        "id": "0rz-TtUNbgAL",
        "outputId": "a4f98e33-07c6-4435-f8e7-b4da1b892e7d"
      },
      "source": [
        "# Si queremos que el usuario ingrese valores para ejecutar en el código, lo realizamo con \"input()\"\n",
        "\n",
        "input()"
      ],
      "execution_count": null,
      "outputs": [
        {
          "output_type": "stream",
          "text": [
            "Bueeeeeeeeeeena!\n"
          ],
          "name": "stdout"
        },
        {
          "output_type": "execute_result",
          "data": {
            "application/vnd.google.colaboratory.intrinsic+json": {
              "type": "string"
            },
            "text/plain": [
              "'Bueeeeeeeeeeena!'"
            ]
          },
          "metadata": {
            "tags": []
          },
          "execution_count": 137
        }
      ]
    },
    {
      "cell_type": "code",
      "metadata": {
        "colab": {
          "base_uri": "https://localhost:8080/"
        },
        "id": "pkDCj3Ntcl20",
        "outputId": "fd1de61e-5686-4f79-9bb8-dc539d9bb18e"
      },
      "source": [
        "nombre = input(\"Ingresa tu numbre: \")"
      ],
      "execution_count": null,
      "outputs": [
        {
          "output_type": "stream",
          "text": [
            "Ingresa tu numbre: Jimmy\n"
          ],
          "name": "stdout"
        }
      ]
    },
    {
      "cell_type": "code",
      "metadata": {
        "colab": {
          "base_uri": "https://localhost:8080/",
          "height": 35
        },
        "id": "ii7jmre6cvsf",
        "outputId": "b9e92c54-9bc2-46f7-ca8e-7ea9fddbb575"
      },
      "source": [
        "nombre"
      ],
      "execution_count": null,
      "outputs": [
        {
          "output_type": "execute_result",
          "data": {
            "application/vnd.google.colaboratory.intrinsic+json": {
              "type": "string"
            },
            "text/plain": [
              "'Jimmy'"
            ]
          },
          "metadata": {
            "tags": []
          },
          "execution_count": 139
        }
      ]
    },
    {
      "cell_type": "code",
      "metadata": {
        "colab": {
          "base_uri": "https://localhost:8080/"
        },
        "id": "9pqWYx_jdI-a",
        "outputId": "bb8607b8-ba83-42fc-e226-c3f5948e5ba1"
      },
      "source": [
        "edad = input(\"Ingresa tu edad: \")"
      ],
      "execution_count": null,
      "outputs": [
        {
          "output_type": "stream",
          "text": [
            "Ingresa tu edad: 30\n"
          ],
          "name": "stdout"
        }
      ]
    },
    {
      "cell_type": "code",
      "metadata": {
        "colab": {
          "base_uri": "https://localhost:8080/"
        },
        "id": "iZkwR0xadP5M",
        "outputId": "52a7f1cf-1f99-49ad-c39c-b099c137ac36"
      },
      "source": [
        "type(edad)"
      ],
      "execution_count": null,
      "outputs": [
        {
          "output_type": "execute_result",
          "data": {
            "text/plain": [
              "str"
            ]
          },
          "metadata": {
            "tags": []
          },
          "execution_count": 141
        }
      ]
    },
    {
      "cell_type": "code",
      "metadata": {
        "colab": {
          "base_uri": "https://localhost:8080/"
        },
        "id": "X9_Pa48RdUTq",
        "outputId": "ec3f4ccd-4aef-4b0e-c487-4ba29f58d101"
      },
      "source": [
        "# Se debe tener cuidado con el tratamiento de la variable ya que cuando ingresa un valor en input, se ingresa como string y si queremos utilizar un valor de input como valor numerico(int) para realizar operaciones, debemos casterlo \"edad = int(edad)\"\n",
        "\n",
        "edad = int(edad)\n",
        "type(edad)"
      ],
      "execution_count": null,
      "outputs": [
        {
          "output_type": "execute_result",
          "data": {
            "text/plain": [
              "int"
            ]
          },
          "metadata": {
            "tags": []
          },
          "execution_count": 143
        }
      ]
    },
    {
      "cell_type": "code",
      "metadata": {
        "colab": {
          "base_uri": "https://localhost:8080/"
        },
        "id": "k1CeClK8dZhU",
        "outputId": "2d40453a-b10a-4c3a-9ec5-2110bec6caab"
      },
      "source": [
        "edad * 10\n"
      ],
      "execution_count": null,
      "outputs": [
        {
          "output_type": "execute_result",
          "data": {
            "text/plain": [
              "300"
            ]
          },
          "metadata": {
            "tags": []
          },
          "execution_count": 144
        }
      ]
    },
    {
      "cell_type": "markdown",
      "metadata": {
        "id": "z9D87uEGesE3"
      },
      "source": [
        "# Ejercicio 1: Monto por préstamo"
      ]
    },
    {
      "cell_type": "markdown",
      "metadata": {
        "id": "l7hHynWWe6jM"
      },
      "source": [
        "> ..:: Calcular el monto a pagar por un préstamo ::.."
      ]
    },
    {
      "cell_type": "markdown",
      "metadata": {
        "id": "qP1OxAQUfEyg"
      },
      "source": [
        "Las variable de entrada son:\n",
        "\n",
        "m: monto prestado\n",
        "\n",
        "n: números de meses que dura el préstamo\n",
        "\n",
        "El monto final a pagar por el préstamo se calcula multiplicando el monto prestado por uno más el interés elevado a la cantidad de meses que dura el préstamo\n",
        "\n",
        "M = m * ( 1 + i )^n\n"
      ]
    },
    {
      "cell_type": "code",
      "metadata": {
        "id": "996vLTs7fyZa"
      },
      "source": [
        "m = 1000000\n",
        "i = 0.05    #5%\n",
        "n = 12"
      ],
      "execution_count": null,
      "outputs": []
    },
    {
      "cell_type": "code",
      "metadata": {
        "colab": {
          "base_uri": "https://localhost:8080/"
        },
        "id": "nQ8RUAYnfH-M",
        "outputId": "547f27de-3d7c-4701-9586-02e4cea4b9a5"
      },
      "source": [
        "monto_pago = m * (1 + i) ** n\n",
        "monto_pago"
      ],
      "execution_count": null,
      "outputs": [
        {
          "output_type": "execute_result",
          "data": {
            "text/plain": [
              "1795856.32602213"
            ]
          },
          "metadata": {
            "tags": []
          },
          "execution_count": 148
        }
      ]
    },
    {
      "cell_type": "markdown",
      "metadata": {
        "id": "RSURllXshtji"
      },
      "source": [
        "# Ejercicio 2: Segundo por Semana"
      ]
    },
    {
      "cell_type": "markdown",
      "metadata": {
        "id": "1AgoLSeciU9F"
      },
      "source": [
        "> ..:: ¿Cuántos segundos hay en un día? ::..\n",
        "\n"
      ]
    },
    {
      "cell_type": "markdown",
      "metadata": {
        "id": "vif1Rb_Bihy6"
      },
      "source": [
        "- 1 minuto tiene 60 segundos\n",
        "- 1 hora tiene 60 minutos\n",
        "- 1 día tiene 24 horas"
      ]
    },
    {
      "cell_type": "code",
      "metadata": {
        "colab": {
          "base_uri": "https://localhost:8080/"
        },
        "id": "onKWElBgi1FN",
        "outputId": "eeb42e18-b771-4db5-a9ed-6684cd6b0b7e"
      },
      "source": [
        "segundos_por_dia = 24 * 60 * 60\n",
        "segundos_por_dia"
      ],
      "execution_count": null,
      "outputs": [
        {
          "output_type": "execute_result",
          "data": {
            "text/plain": [
              "86400"
            ]
          },
          "metadata": {
            "tags": []
          },
          "execution_count": 149
        }
      ]
    },
    {
      "cell_type": "code",
      "metadata": {
        "colab": {
          "base_uri": "https://localhost:8080/"
        },
        "id": "bbqgkJLHi8FB",
        "outputId": "fc161120-2f0d-4628-9073-eca8e15df9e9"
      },
      "source": [
        "segundos_por_semana = segundos_por_dia * 7\n",
        "segundos_por_semana"
      ],
      "execution_count": null,
      "outputs": [
        {
          "output_type": "execute_result",
          "data": {
            "text/plain": [
              "604800"
            ]
          },
          "metadata": {
            "tags": []
          },
          "execution_count": 150
        }
      ]
    },
    {
      "cell_type": "code",
      "metadata": {
        "colab": {
          "base_uri": "https://localhost:8080/"
        },
        "id": "5SakoctgjG2d",
        "outputId": "4b33d83c-9872-4ebf-f4e4-a4806edb2df4"
      },
      "source": [
        "# Considerando 1 mes de 30 días\n",
        "\n",
        "segundos_por_mes = segundos_por_semana * 30\n",
        "segundos_por_mes"
      ],
      "execution_count": null,
      "outputs": [
        {
          "output_type": "execute_result",
          "data": {
            "text/plain": [
              "18144000"
            ]
          },
          "metadata": {
            "tags": []
          },
          "execution_count": 152
        }
      ]
    },
    {
      "cell_type": "code",
      "metadata": {
        "colab": {
          "base_uri": "https://localhost:8080/"
        },
        "id": "OF8NpzMFjP9M",
        "outputId": "c16afafa-11b8-4477-d857-48356895e977"
      },
      "source": [
        "segundos_por_año = segundos_por_mes * 12\n",
        "segundos_por_año"
      ],
      "execution_count": null,
      "outputs": [
        {
          "output_type": "execute_result",
          "data": {
            "text/plain": [
              "217728000"
            ]
          },
          "metadata": {
            "tags": []
          },
          "execution_count": 153
        }
      ]
    },
    {
      "cell_type": "code",
      "metadata": {
        "id": "Mt4fEYDfjlTi"
      },
      "source": [
        ""
      ],
      "execution_count": null,
      "outputs": []
    }
  ]
}