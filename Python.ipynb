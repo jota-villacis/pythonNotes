{
  "nbformat": 4,
  "nbformat_minor": 0,
  "metadata": {
    "colab": {
      "name": "Python.ipynb",
      "provenance": [],
      "collapsed_sections": [
        "KfaqBcBxei0T",
        "z9D87uEGesE3",
        "RSURllXshtji"
      ],
      "authorship_tag": "ABX9TyOHXc/wXqdlnu3nFxCLjqGj",
      "include_colab_link": true
    },
    "kernelspec": {
      "display_name": "Python 3",
      "name": "python3"
    }
  },
  "cells": [
    {
      "cell_type": "markdown",
      "metadata": {
        "id": "view-in-github",
        "colab_type": "text"
      },
      "source": [
        "<a href=\"https://colab.research.google.com/github/jota-villacis/pythonNotes/blob/main/Python.ipynb\" target=\"_parent\"><img src=\"https://colab.research.google.com/assets/colab-badge.svg\" alt=\"Open In Colab\"/></a>"
      ]
    },
    {
      "cell_type": "markdown",
      "metadata": {
        "id": "3m3plvAaAn73"
      },
      "source": [
        "#**Notas Curso Python para Todos - Udemy**\n",
        "\n",
        "Instructor: Manuel Montoya\n",
        "\n",
        "DataHack Formation"
      ]
    },
    {
      "cell_type": "markdown",
      "metadata": {
        "id": "KfaqBcBxei0T"
      },
      "source": [
        "# Tipos de Variables"
      ]
    },
    {
      "cell_type": "markdown",
      "metadata": {
        "id": "Ib1btycbBeJ_"
      },
      "source": [
        "> ..:: Variables Numericas ::.."
      ]
    },
    {
      "cell_type": "code",
      "metadata": {
        "colab": {
          "base_uri": "https://localhost:8080/"
        },
        "id": "RXxqV0kd_1pb",
        "outputId": "3cf7bfd9-4ebe-417c-b31f-3f74fdc9cde6"
      },
      "source": [
        "# Tipo Entero (int)\n",
        "\n",
        "x = 20\n",
        "x"
      ],
      "execution_count": null,
      "outputs": [
        {
          "output_type": "execute_result",
          "data": {
            "text/plain": [
              "20"
            ]
          },
          "metadata": {
            "tags": []
          },
          "execution_count": 2
        }
      ]
    },
    {
      "cell_type": "code",
      "metadata": {
        "colab": {
          "base_uri": "https://localhost:8080/"
        },
        "id": "Ye99J4KACTSL",
        "outputId": "cbfb4000-6f67-4ffe-a51e-db713e7dfdf0"
      },
      "source": [
        "# Tipo decimal / Variable de punto flotante (float)\n",
        "\n",
        "y = 10.8\n",
        "y"
      ],
      "execution_count": null,
      "outputs": [
        {
          "output_type": "execute_result",
          "data": {
            "text/plain": [
              "10.8"
            ]
          },
          "metadata": {
            "tags": []
          },
          "execution_count": 3
        }
      ]
    },
    {
      "cell_type": "code",
      "metadata": {
        "colab": {
          "base_uri": "https://localhost:8080/"
        },
        "id": "YViNYjme_7F0",
        "outputId": "3d91a17d-ff94-4e06-df75-d8ab24904ef8"
      },
      "source": [
        "# Obetner el tipo de variable\n",
        "\n",
        "type(y)"
      ],
      "execution_count": null,
      "outputs": [
        {
          "output_type": "execute_result",
          "data": {
            "text/plain": [
              "float"
            ]
          },
          "metadata": {
            "tags": []
          },
          "execution_count": 4
        }
      ]
    },
    {
      "cell_type": "markdown",
      "metadata": {
        "id": "HbIjH_BZDXRN"
      },
      "source": [
        "> ..:: Casteo de variables numéricas ::.."
      ]
    },
    {
      "cell_type": "code",
      "metadata": {
        "colab": {
          "base_uri": "https://localhost:8080/"
        },
        "id": "mKS7tSGCC1YV",
        "outputId": "8dccba65-a842-4310-f5aa-a8c3fcab81f0"
      },
      "source": [
        "x = 50.7\n",
        "y = 48.9\n",
        "\n",
        "# Casteo explícito > Le indico el tipo de variable que quiero obtener y la coloco dentro \"z = int(x+y)\"\n",
        "\n",
        "z = int(x+y)\n",
        "z"
      ],
      "execution_count": null,
      "outputs": [
        {
          "output_type": "execute_result",
          "data": {
            "text/plain": [
              "99"
            ]
          },
          "metadata": {
            "tags": []
          },
          "execution_count": 5
        }
      ]
    },
    {
      "cell_type": "code",
      "metadata": {
        "colab": {
          "base_uri": "https://localhost:8080/"
        },
        "id": "upOazQ5EEnvv",
        "outputId": "7fad61ad-9c55-4ce8-d338-f5333186e64c"
      },
      "source": [
        "z = int(x) + int(y)\n",
        "z\n"
      ],
      "execution_count": null,
      "outputs": [
        {
          "output_type": "execute_result",
          "data": {
            "text/plain": [
              "98"
            ]
          },
          "metadata": {
            "tags": []
          },
          "execution_count": 6
        }
      ]
    },
    {
      "cell_type": "markdown",
      "metadata": {
        "id": "GqM03wuoFLP2"
      },
      "source": [
        "> ..:: Funcion \"round\" ::.."
      ]
    },
    {
      "cell_type": "code",
      "metadata": {
        "colab": {
          "base_uri": "https://localhost:8080/"
        },
        "id": "Gm2INozeFCWP",
        "outputId": "aee69a47-29d4-418b-8a5f-d97d4d8cadef"
      },
      "source": [
        "# Permite obtener el número entero más cercano a el número decimal \n",
        "\n",
        "x = 37.4\n",
        "y = 22.8\n",
        "\n",
        "z = round(x) + round(y)\n",
        "z"
      ],
      "execution_count": null,
      "outputs": [
        {
          "output_type": "execute_result",
          "data": {
            "text/plain": [
              "60"
            ]
          },
          "metadata": {
            "tags": []
          },
          "execution_count": 7
        }
      ]
    },
    {
      "cell_type": "code",
      "metadata": {
        "colab": {
          "base_uri": "https://localhost:8080/"
        },
        "id": "3ME0H6a8ECPx",
        "outputId": "87634ed8-0578-4524-e282-db662fb0ffd0"
      },
      "source": [
        "# Para convertir una variable a tipo \"float\" (flotante)\n",
        "\n",
        "x = 7\n",
        "\n",
        "z = float(x)\n",
        "z"
      ],
      "execution_count": null,
      "outputs": [
        {
          "output_type": "execute_result",
          "data": {
            "text/plain": [
              "7.0"
            ]
          },
          "metadata": {
            "tags": []
          },
          "execution_count": 8
        }
      ]
    },
    {
      "cell_type": "code",
      "metadata": {
        "colab": {
          "base_uri": "https://localhost:8080/"
        },
        "id": "UulAeQdjHYKr",
        "outputId": "e2a7a2d0-32f3-46ae-88c5-106124abdab1"
      },
      "source": [
        "# Comprobamos el tipo de dato nuevamente con \"type(z)\"\n",
        "\n",
        "type(z)"
      ],
      "execution_count": null,
      "outputs": [
        {
          "output_type": "execute_result",
          "data": {
            "text/plain": [
              "float"
            ]
          },
          "metadata": {
            "tags": []
          },
          "execution_count": 9
        }
      ]
    },
    {
      "cell_type": "markdown",
      "metadata": {
        "id": "ebZxkJ5uIo7C"
      },
      "source": [
        "> ..:: Operadores de Variables Numéricas ::.."
      ]
    },
    {
      "cell_type": "code",
      "metadata": {
        "id": "VDoURwb2H_GO"
      },
      "source": [
        " a = 20\n",
        " b = 10"
      ],
      "execution_count": null,
      "outputs": []
    },
    {
      "cell_type": "code",
      "metadata": {
        "colab": {
          "base_uri": "https://localhost:8080/"
        },
        "id": "dI30jGEKJQd-",
        "outputId": "22dccf61-4d68-4a79-846f-9766ec152ffc"
      },
      "source": [
        "# Suma\n",
        "\n",
        "a + b"
      ],
      "execution_count": null,
      "outputs": [
        {
          "output_type": "execute_result",
          "data": {
            "text/plain": [
              "30"
            ]
          },
          "metadata": {
            "tags": []
          },
          "execution_count": 11
        }
      ]
    },
    {
      "cell_type": "code",
      "metadata": {
        "colab": {
          "base_uri": "https://localhost:8080/"
        },
        "id": "X_TaMfx_JT_J",
        "outputId": "9553677d-e71c-4e59-94ab-d5f8b9444639"
      },
      "source": [
        "# Resta\n",
        "\n",
        "a - b"
      ],
      "execution_count": null,
      "outputs": [
        {
          "output_type": "execute_result",
          "data": {
            "text/plain": [
              "10"
            ]
          },
          "metadata": {
            "tags": []
          },
          "execution_count": 12
        }
      ]
    },
    {
      "cell_type": "code",
      "metadata": {
        "colab": {
          "base_uri": "https://localhost:8080/"
        },
        "id": "IYALiNB6JX8R",
        "outputId": "f171633f-5cd8-4d76-a178-995d2452f829"
      },
      "source": [
        "# Multiplicación\n",
        "\n",
        "a * b"
      ],
      "execution_count": null,
      "outputs": [
        {
          "output_type": "execute_result",
          "data": {
            "text/plain": [
              "200"
            ]
          },
          "metadata": {
            "tags": []
          },
          "execution_count": 13
        }
      ]
    },
    {
      "cell_type": "code",
      "metadata": {
        "colab": {
          "base_uri": "https://localhost:8080/"
        },
        "id": "X8gPd1JZJaMw",
        "outputId": "b1c7ff75-00d6-4b12-8e29-3ae2ae692e4b"
      },
      "source": [
        "# División\n",
        "\n",
        "a / b"
      ],
      "execution_count": null,
      "outputs": [
        {
          "output_type": "execute_result",
          "data": {
            "text/plain": [
              "2.0"
            ]
          },
          "metadata": {
            "tags": []
          },
          "execution_count": 14
        }
      ]
    },
    {
      "cell_type": "code",
      "metadata": {
        "colab": {
          "base_uri": "https://localhost:8080/"
        },
        "id": "8CrwmmCUJb9-",
        "outputId": "61d7869d-b03a-4b16-a14d-c20f63fbafc1"
      },
      "source": [
        "# Potencia\n",
        "\n",
        "a ** b"
      ],
      "execution_count": null,
      "outputs": [
        {
          "output_type": "execute_result",
          "data": {
            "text/plain": [
              "10240000000000"
            ]
          },
          "metadata": {
            "tags": []
          },
          "execution_count": 15
        }
      ]
    },
    {
      "cell_type": "code",
      "metadata": {
        "colab": {
          "base_uri": "https://localhost:8080/"
        },
        "id": "QbzaxLjgJds4",
        "outputId": "c4278370-1f52-4941-9d73-ee14cabd7560"
      },
      "source": [
        "# Obtner el Resto\n",
        "\n",
        "a % b"
      ],
      "execution_count": null,
      "outputs": [
        {
          "output_type": "execute_result",
          "data": {
            "text/plain": [
              "0"
            ]
          },
          "metadata": {
            "tags": []
          },
          "execution_count": 16
        }
      ]
    },
    {
      "cell_type": "code",
      "metadata": {
        "colab": {
          "base_uri": "https://localhost:8080/"
        },
        "id": "ugpRiD_nKovL",
        "outputId": "e05075b6-2a21-41d9-8b21-43734a19a16e"
      },
      "source": [
        "# Raiz cuadrada > \"elevar a 1/2\" \n",
        "\n",
        "x = 16\n",
        "y = 1/2\n",
        "\n",
        "x ** (y)"
      ],
      "execution_count": null,
      "outputs": [
        {
          "output_type": "execute_result",
          "data": {
            "text/plain": [
              "4.0"
            ]
          },
          "metadata": {
            "tags": []
          },
          "execution_count": 17
        }
      ]
    },
    {
      "cell_type": "code",
      "metadata": {
        "colab": {
          "base_uri": "https://localhost:8080/"
        },
        "id": "48tnJmTbMziN",
        "outputId": "3951d3eb-33df-465e-d494-cda0ce2994e4"
      },
      "source": [
        "# Orden de operaciones\n",
        "\n",
        "5 + 16 / 2 ** 4"
      ],
      "execution_count": null,
      "outputs": [
        {
          "output_type": "execute_result",
          "data": {
            "text/plain": [
              "6.0"
            ]
          },
          "metadata": {
            "tags": []
          },
          "execution_count": 18
        }
      ]
    },
    {
      "cell_type": "code",
      "metadata": {
        "colab": {
          "base_uri": "https://localhost:8080/"
        },
        "id": "qkV-7E3sSFoG",
        "outputId": "729e6775-e329-43c7-9190-8f23bf6c8318"
      },
      "source": [
        "5 + (16 / 2) ** 4"
      ],
      "execution_count": null,
      "outputs": [
        {
          "output_type": "execute_result",
          "data": {
            "text/plain": [
              "4101.0"
            ]
          },
          "metadata": {
            "tags": []
          },
          "execution_count": 19
        }
      ]
    },
    {
      "cell_type": "markdown",
      "metadata": {
        "id": "6SUYFP-BTBsK"
      },
      "source": [
        "> ..:: Variables Booleanas ::.."
      ]
    },
    {
      "cell_type": "code",
      "metadata": {
        "colab": {
          "base_uri": "https://localhost:8080/"
        },
        "id": "zODcDl4iSuDz",
        "outputId": "58828ce6-b5fc-4ed9-8ff9-6dfeea3616ae"
      },
      "source": [
        "4 < 5"
      ],
      "execution_count": null,
      "outputs": [
        {
          "output_type": "execute_result",
          "data": {
            "text/plain": [
              "True"
            ]
          },
          "metadata": {
            "tags": []
          },
          "execution_count": 20
        }
      ]
    },
    {
      "cell_type": "code",
      "metadata": {
        "colab": {
          "base_uri": "https://localhost:8080/"
        },
        "id": "2xg7UIV6TMtt",
        "outputId": "e5baa261-e0db-419d-929b-3b36a352d3d0"
      },
      "source": [
        "a = 4 > 5\n",
        "a"
      ],
      "execution_count": null,
      "outputs": [
        {
          "output_type": "execute_result",
          "data": {
            "text/plain": [
              "False"
            ]
          },
          "metadata": {
            "tags": []
          },
          "execution_count": 21
        }
      ]
    },
    {
      "cell_type": "code",
      "metadata": {
        "colab": {
          "base_uri": "https://localhost:8080/"
        },
        "id": "9AjV3DG9TOix",
        "outputId": "dc09d16b-e059-4174-8c6b-0f6b76859162"
      },
      "source": [
        "4 == 4"
      ],
      "execution_count": null,
      "outputs": [
        {
          "output_type": "execute_result",
          "data": {
            "text/plain": [
              "True"
            ]
          },
          "metadata": {
            "tags": []
          },
          "execution_count": 22
        }
      ]
    },
    {
      "cell_type": "code",
      "metadata": {
        "colab": {
          "base_uri": "https://localhost:8080/"
        },
        "id": "e9Icv9i2TpBq",
        "outputId": "dab75e31-200a-4fcd-8b71-2611ead7afe7"
      },
      "source": [
        "x = 4 == 6\n",
        "x"
      ],
      "execution_count": null,
      "outputs": [
        {
          "output_type": "execute_result",
          "data": {
            "text/plain": [
              "False"
            ]
          },
          "metadata": {
            "tags": []
          },
          "execution_count": 23
        }
      ]
    },
    {
      "cell_type": "code",
      "metadata": {
        "colab": {
          "base_uri": "https://localhost:8080/"
        },
        "id": "BzwUXlzTTtND",
        "outputId": "dec37143-7dce-4ee6-9dc3-ce1b62728249"
      },
      "source": [
        "x = True\n",
        "y = False\n",
        "\n",
        "type(x)"
      ],
      "execution_count": null,
      "outputs": [
        {
          "output_type": "execute_result",
          "data": {
            "text/plain": [
              "bool"
            ]
          },
          "metadata": {
            "tags": []
          },
          "execution_count": 24
        }
      ]
    },
    {
      "cell_type": "markdown",
      "metadata": {
        "id": "O3dwRfj7T85L"
      },
      "source": [
        "> ..:: Operadores de combinación de variables booleanas ::.."
      ]
    },
    {
      "cell_type": "code",
      "metadata": {
        "id": "PYVPYKDtTxjS"
      },
      "source": [
        "c = True\n",
        "d = False"
      ],
      "execution_count": null,
      "outputs": []
    },
    {
      "cell_type": "code",
      "metadata": {
        "colab": {
          "base_uri": "https://localhost:8080/"
        },
        "id": "L1HNhyjxUEX8",
        "outputId": "268acf0d-5a45-4fa2-d2ce-eb15b19ae845"
      },
      "source": [
        "# Operador \"and\" > Devuelve un valor verdadero(True) si los valores analizados son verdaderos\n",
        "\n",
        "c and c"
      ],
      "execution_count": null,
      "outputs": [
        {
          "output_type": "execute_result",
          "data": {
            "text/plain": [
              "True"
            ]
          },
          "metadata": {
            "tags": []
          },
          "execution_count": 26
        }
      ]
    },
    {
      "cell_type": "code",
      "metadata": {
        "colab": {
          "base_uri": "https://localhost:8080/"
        },
        "id": "2e5LUQVYUPpW",
        "outputId": "2e962387-ba21-4648-e1c6-08a7d23ee1fa"
      },
      "source": [
        "c and d"
      ],
      "execution_count": null,
      "outputs": [
        {
          "output_type": "execute_result",
          "data": {
            "text/plain": [
              "False"
            ]
          },
          "metadata": {
            "tags": []
          },
          "execution_count": 27
        }
      ]
    },
    {
      "cell_type": "code",
      "metadata": {
        "colab": {
          "base_uri": "https://localhost:8080/"
        },
        "id": "wtdzAtiXUQ-c",
        "outputId": "098c5399-92de-4195-ecf2-ed53137fa2c7"
      },
      "source": [
        "# Operador \"or\" > Devuelve un valor verdadero(True) siempre y cuando al menos uno de los valores analizados sea verdadero\n",
        "\n",
        "c or d"
      ],
      "execution_count": null,
      "outputs": [
        {
          "output_type": "execute_result",
          "data": {
            "text/plain": [
              "True"
            ]
          },
          "metadata": {
            "tags": []
          },
          "execution_count": 28
        }
      ]
    },
    {
      "cell_type": "code",
      "metadata": {
        "colab": {
          "base_uri": "https://localhost:8080/"
        },
        "id": "HoGCAU0XU8ys",
        "outputId": "0b6f474b-2dfe-420c-cdbb-d0a5553b5a3c"
      },
      "source": [
        "d or d"
      ],
      "execution_count": null,
      "outputs": [
        {
          "output_type": "execute_result",
          "data": {
            "text/plain": [
              "False"
            ]
          },
          "metadata": {
            "tags": []
          },
          "execution_count": 29
        }
      ]
    },
    {
      "cell_type": "code",
      "metadata": {
        "colab": {
          "base_uri": "https://localhost:8080/"
        },
        "id": "rf4rOQHXU_tw",
        "outputId": "ff9565e2-050a-41e0-bc36-d6429c965db6"
      },
      "source": [
        "(3 < 4) and (4 < 5)"
      ],
      "execution_count": null,
      "outputs": [
        {
          "output_type": "execute_result",
          "data": {
            "text/plain": [
              "True"
            ]
          },
          "metadata": {
            "tags": []
          },
          "execution_count": 30
        }
      ]
    },
    {
      "cell_type": "markdown",
      "metadata": {
        "id": "XoqeelEKWV0s"
      },
      "source": [
        "> ..:: Strings ::.. "
      ]
    },
    {
      "cell_type": "code",
      "metadata": {
        "colab": {
          "base_uri": "https://localhost:8080/",
          "height": 35
        },
        "id": "IsUA8KLfWLXc",
        "outputId": "643d0c18-dd30-4d61-b814-b035a3974514"
      },
      "source": [
        "saludo = \"Hola Mundo!\"\n",
        "saludo"
      ],
      "execution_count": null,
      "outputs": [
        {
          "output_type": "execute_result",
          "data": {
            "application/vnd.google.colaboratory.intrinsic+json": {
              "type": "string"
            },
            "text/plain": [
              "'Hola Mundo!'"
            ]
          },
          "metadata": {
            "tags": []
          },
          "execution_count": 31
        }
      ]
    },
    {
      "cell_type": "code",
      "metadata": {
        "colab": {
          "base_uri": "https://localhost:8080/"
        },
        "id": "xuDnOtopW5NQ",
        "outputId": "ba403d12-d0a7-4579-f1c3-459c76188085"
      },
      "source": [
        "type(saludo)"
      ],
      "execution_count": null,
      "outputs": [
        {
          "output_type": "execute_result",
          "data": {
            "text/plain": [
              "str"
            ]
          },
          "metadata": {
            "tags": []
          },
          "execution_count": 32
        }
      ]
    },
    {
      "cell_type": "code",
      "metadata": {
        "colab": {
          "base_uri": "https://localhost:8080/",
          "height": 35
        },
        "id": "HyqBrYZIXCPa",
        "outputId": "291bfdd7-5535-4775-da39-92a27d4fe2ea"
      },
      "source": [
        "# \"F strings\" > Permite combinar sentencias de texto con valores que tenemos en otras variable\n",
        "\n",
        "nombre = \"Thor\"\n",
        "edad = 30\n",
        "\n",
        "saludo = f\"Hola {nombre}, tu edad es {edad}\"\n",
        "saludo"
      ],
      "execution_count": null,
      "outputs": [
        {
          "output_type": "execute_result",
          "data": {
            "application/vnd.google.colaboratory.intrinsic+json": {
              "type": "string"
            },
            "text/plain": [
              "'Hola Thor, tu edad es 30'"
            ]
          },
          "metadata": {
            "tags": []
          },
          "execution_count": 33
        }
      ]
    },
    {
      "cell_type": "markdown",
      "metadata": {
        "id": "EbEkcJfUYpEb"
      },
      "source": [
        "> ..:: Operadores de strings ::.."
      ]
    },
    {
      "cell_type": "code",
      "metadata": {
        "colab": {
          "base_uri": "https://localhost:8080/",
          "height": 35
        },
        "id": "_ZcGc_DkYYeo",
        "outputId": "27f40127-9dcb-465f-e5cd-515ec90d990e"
      },
      "source": [
        "cadena = \"Thor\"\n",
        "\n",
        "cadena + \", hijo de Odin\""
      ],
      "execution_count": null,
      "outputs": [
        {
          "output_type": "execute_result",
          "data": {
            "application/vnd.google.colaboratory.intrinsic+json": {
              "type": "string"
            },
            "text/plain": [
              "'Thor, hijo de Odin'"
            ]
          },
          "metadata": {
            "tags": []
          },
          "execution_count": 34
        }
      ]
    },
    {
      "cell_type": "code",
      "metadata": {
        "colab": {
          "base_uri": "https://localhost:8080/",
          "height": 35
        },
        "id": "WyWn5RqgZNcb",
        "outputId": "346ba02c-7ec4-4d6e-8f0e-da1dbbd19fed"
      },
      "source": [
        "# Cuidado con los operadores\n",
        "\n",
        "cadena * 5"
      ],
      "execution_count": null,
      "outputs": [
        {
          "output_type": "execute_result",
          "data": {
            "application/vnd.google.colaboratory.intrinsic+json": {
              "type": "string"
            },
            "text/plain": [
              "'ThorThorThorThorThor'"
            ]
          },
          "metadata": {
            "tags": []
          },
          "execution_count": 35
        }
      ]
    },
    {
      "cell_type": "code",
      "metadata": {
        "id": "zrwkQNXMZlz9"
      },
      "source": [
        "#cadena / 5  # Para ver Error descomentar"
      ],
      "execution_count": null,
      "outputs": []
    },
    {
      "cell_type": "markdown",
      "metadata": {
        "id": "OL0QutlEZ5hZ"
      },
      "source": [
        "> ..:: Otros operadores de Strings ::.."
      ]
    },
    {
      "cell_type": "code",
      "metadata": {
        "id": "Vw4LQHmjZvMc"
      },
      "source": [
        "x = \"Real Madrid\"\n",
        "y = \"Barcelona\""
      ],
      "execution_count": null,
      "outputs": []
    },
    {
      "cell_type": "code",
      "metadata": {
        "colab": {
          "base_uri": "https://localhost:8080/"
        },
        "id": "yTTJ9FOnagMi",
        "outputId": "aeee4ace-9a5b-41a2-9dff-68819c1af4d3"
      },
      "source": [
        "x < y"
      ],
      "execution_count": null,
      "outputs": [
        {
          "output_type": "execute_result",
          "data": {
            "text/plain": [
              "False"
            ]
          },
          "metadata": {
            "tags": []
          },
          "execution_count": 38
        }
      ]
    },
    {
      "cell_type": "code",
      "metadata": {
        "colab": {
          "base_uri": "https://localhost:8080/"
        },
        "id": "VyFwYn95aiSK",
        "outputId": "f87fa922-943b-4f14-8e23-4370c6ef2698"
      },
      "source": [
        "\"a\" < \"b\""
      ],
      "execution_count": null,
      "outputs": [
        {
          "output_type": "execute_result",
          "data": {
            "text/plain": [
              "True"
            ]
          },
          "metadata": {
            "tags": []
          },
          "execution_count": 39
        }
      ]
    },
    {
      "cell_type": "code",
      "metadata": {
        "colab": {
          "base_uri": "https://localhost:8080/"
        },
        "id": "zs9GkNw6al78",
        "outputId": "82200d63-9e3f-4672-8fd7-f7a7d7750e3e"
      },
      "source": [
        "\"Brasil\" == \"brasil\""
      ],
      "execution_count": null,
      "outputs": [
        {
          "output_type": "execute_result",
          "data": {
            "text/plain": [
              "False"
            ]
          },
          "metadata": {
            "tags": []
          },
          "execution_count": 40
        }
      ]
    },
    {
      "cell_type": "code",
      "metadata": {
        "colab": {
          "base_uri": "https://localhost:8080/"
        },
        "id": "zAnqTOMWbAB4",
        "outputId": "ea9eb8c7-5da9-4d05-c53f-1e5e2d636e73"
      },
      "source": [
        "\"brasil\" == \"brasil\""
      ],
      "execution_count": null,
      "outputs": [
        {
          "output_type": "execute_result",
          "data": {
            "text/plain": [
              "True"
            ]
          },
          "metadata": {
            "tags": []
          },
          "execution_count": 41
        }
      ]
    },
    {
      "cell_type": "code",
      "metadata": {
        "colab": {
          "base_uri": "https://localhost:8080/",
          "height": 35
        },
        "id": "_12nyqV8bECL",
        "outputId": "1c4a24a5-4350-419a-99de-2a68a63e761f"
      },
      "source": [
        "# Caracteres a minúsculas > Utilizando el método \"lower()\"\n",
        "\n",
        "cadena = 'Jota Villacis'\n",
        "\n",
        "cadena.lower()"
      ],
      "execution_count": null,
      "outputs": [
        {
          "output_type": "execute_result",
          "data": {
            "application/vnd.google.colaboratory.intrinsic+json": {
              "type": "string"
            },
            "text/plain": [
              "'jimmy villacis'"
            ]
          },
          "metadata": {
            "tags": []
          },
          "execution_count": 42
        }
      ]
    },
    {
      "cell_type": "code",
      "metadata": {
        "colab": {
          "base_uri": "https://localhost:8080/",
          "height": 35
        },
        "id": "6OQ7s0ZlbQQc",
        "outputId": "f98657df-7411-4dbd-b42b-3a38425f1f3d"
      },
      "source": [
        "# Caracteres a mayúsculas > Utilizando el método \"upper()\"\n",
        "\n",
        "cadena.upper()"
      ],
      "execution_count": null,
      "outputs": [
        {
          "output_type": "execute_result",
          "data": {
            "application/vnd.google.colaboratory.intrinsic+json": {
              "type": "string"
            },
            "text/plain": [
              "'JIMMY VILLACIS'"
            ]
          },
          "metadata": {
            "tags": []
          },
          "execution_count": 43
        }
      ]
    },
    {
      "cell_type": "markdown",
      "metadata": {
        "id": "WjpJv7OOcRCH"
      },
      "source": [
        "> ..:: Ingreso de valores por el usuario ::.."
      ]
    },
    {
      "cell_type": "code",
      "metadata": {
        "id": "0rz-TtUNbgAL"
      },
      "source": [
        "# Si queremos que el usuario ingrese valores para ejecutar en el código, lo realizamo con \"input()\"\n",
        "\n",
        "# input()     #Descomentar para utilizar"
      ],
      "execution_count": null,
      "outputs": []
    },
    {
      "cell_type": "code",
      "metadata": {
        "colab": {
          "background_save": true
        },
        "id": "pkDCj3Ntcl20"
      },
      "source": [
        "nombre = input(\"Ingresa tu numbre: \")"
      ],
      "execution_count": null,
      "outputs": []
    },
    {
      "cell_type": "code",
      "metadata": {
        "colab": {
          "background_save": true
        },
        "id": "ii7jmre6cvsf"
      },
      "source": [
        "nombre"
      ],
      "execution_count": null,
      "outputs": []
    },
    {
      "cell_type": "code",
      "metadata": {
        "colab": {
          "background_save": true
        },
        "id": "9pqWYx_jdI-a"
      },
      "source": [
        "edad = input(\"Ingresa tu edad: \")"
      ],
      "execution_count": null,
      "outputs": []
    },
    {
      "cell_type": "code",
      "metadata": {
        "colab": {
          "background_save": true
        },
        "id": "iZkwR0xadP5M"
      },
      "source": [
        "type(edad)"
      ],
      "execution_count": null,
      "outputs": []
    },
    {
      "cell_type": "code",
      "metadata": {
        "colab": {
          "background_save": true
        },
        "id": "X9_Pa48RdUTq"
      },
      "source": [
        "# Se debe tener cuidado con el tratamiento de la variable ya que cuando ingresa un valor en input, se ingresa como string y si queremos utilizar un valor de input como valor numerico(int) para realizar operaciones, debemos casterlo \"edad = int(edad)\"\n",
        "\n",
        "edad = int(edad)\n",
        "type(edad)"
      ],
      "execution_count": null,
      "outputs": []
    },
    {
      "cell_type": "code",
      "metadata": {
        "colab": {
          "background_save": true
        },
        "id": "k1CeClK8dZhU"
      },
      "source": [
        "edad * 10\n"
      ],
      "execution_count": null,
      "outputs": []
    },
    {
      "cell_type": "markdown",
      "metadata": {
        "id": "z9D87uEGesE3"
      },
      "source": [
        "# Ejercicio 1: Monto por préstamo"
      ]
    },
    {
      "cell_type": "markdown",
      "metadata": {
        "id": "l7hHynWWe6jM"
      },
      "source": [
        "> ..:: Calcular el monto a pagar por un préstamo ::.."
      ]
    },
    {
      "cell_type": "markdown",
      "metadata": {
        "id": "qP1OxAQUfEyg"
      },
      "source": [
        "Las variable de entrada son:\n",
        "\n",
        "m: monto prestado\n",
        "\n",
        "n: números de meses que dura el préstamo\n",
        "\n",
        "El monto final a pagar por el préstamo se calcula multiplicando el monto prestado por uno más el interés elevado a la cantidad de meses que dura el préstamo\n",
        "\n",
        "M = m * ( 1 + i )^n\n"
      ]
    },
    {
      "cell_type": "code",
      "metadata": {
        "id": "996vLTs7fyZa"
      },
      "source": [
        "m = 1000000\n",
        "i = 0.05    #5%\n",
        "n = 12"
      ],
      "execution_count": null,
      "outputs": []
    },
    {
      "cell_type": "code",
      "metadata": {
        "colab": {
          "base_uri": "https://localhost:8080/"
        },
        "id": "nQ8RUAYnfH-M",
        "outputId": "547f27de-3d7c-4701-9586-02e4cea4b9a5"
      },
      "source": [
        "monto_pago = m * (1 + i) ** n\n",
        "monto_pago"
      ],
      "execution_count": null,
      "outputs": [
        {
          "output_type": "execute_result",
          "data": {
            "text/plain": [
              "1795856.32602213"
            ]
          },
          "metadata": {
            "tags": []
          },
          "execution_count": 148
        }
      ]
    },
    {
      "cell_type": "markdown",
      "metadata": {
        "id": "RSURllXshtji"
      },
      "source": [
        "# Ejercicio 2: Segundo por Semana"
      ]
    },
    {
      "cell_type": "markdown",
      "metadata": {
        "id": "1AgoLSeciU9F"
      },
      "source": [
        "> ..:: ¿Cuántos segundos hay en un día? ::..\n",
        "\n"
      ]
    },
    {
      "cell_type": "markdown",
      "metadata": {
        "id": "vif1Rb_Bihy6"
      },
      "source": [
        "- 1 minuto tiene 60 segundos\n",
        "- 1 hora tiene 60 minutos\n",
        "- 1 día tiene 24 horas"
      ]
    },
    {
      "cell_type": "code",
      "metadata": {
        "colab": {
          "base_uri": "https://localhost:8080/"
        },
        "id": "onKWElBgi1FN",
        "outputId": "eeb42e18-b771-4db5-a9ed-6684cd6b0b7e"
      },
      "source": [
        "segundos_por_dia = 24 * 60 * 60\n",
        "segundos_por_dia"
      ],
      "execution_count": null,
      "outputs": [
        {
          "output_type": "execute_result",
          "data": {
            "text/plain": [
              "86400"
            ]
          },
          "metadata": {
            "tags": []
          },
          "execution_count": 149
        }
      ]
    },
    {
      "cell_type": "code",
      "metadata": {
        "colab": {
          "base_uri": "https://localhost:8080/"
        },
        "id": "bbqgkJLHi8FB",
        "outputId": "fc161120-2f0d-4628-9073-eca8e15df9e9"
      },
      "source": [
        "segundos_por_semana = segundos_por_dia * 7\n",
        "segundos_por_semana"
      ],
      "execution_count": null,
      "outputs": [
        {
          "output_type": "execute_result",
          "data": {
            "text/plain": [
              "604800"
            ]
          },
          "metadata": {
            "tags": []
          },
          "execution_count": 150
        }
      ]
    },
    {
      "cell_type": "code",
      "metadata": {
        "colab": {
          "base_uri": "https://localhost:8080/"
        },
        "id": "5SakoctgjG2d",
        "outputId": "4b33d83c-9872-4ebf-f4e4-a4806edb2df4"
      },
      "source": [
        "# Considerando 1 mes de 30 días\n",
        "\n",
        "segundos_por_mes = segundos_por_semana * 30\n",
        "segundos_por_mes"
      ],
      "execution_count": null,
      "outputs": [
        {
          "output_type": "execute_result",
          "data": {
            "text/plain": [
              "18144000"
            ]
          },
          "metadata": {
            "tags": []
          },
          "execution_count": 152
        }
      ]
    },
    {
      "cell_type": "code",
      "metadata": {
        "colab": {
          "base_uri": "https://localhost:8080/"
        },
        "id": "OF8NpzMFjP9M",
        "outputId": "c16afafa-11b8-4477-d857-48356895e977"
      },
      "source": [
        "segundos_por_año = segundos_por_mes * 12\n",
        "segundos_por_año"
      ],
      "execution_count": null,
      "outputs": [
        {
          "output_type": "execute_result",
          "data": {
            "text/plain": [
              "217728000"
            ]
          },
          "metadata": {
            "tags": []
          },
          "execution_count": 153
        }
      ]
    },
    {
      "cell_type": "markdown",
      "metadata": {
        "id": "6YNWRbKIQoxA"
      },
      "source": [
        "# Manejo de Listas"
      ]
    },
    {
      "cell_type": "markdown",
      "metadata": {
        "id": "oEjAXJkAIPRf"
      },
      "source": [
        "Listas > Son un tipo de variable, la cual permite contener varios valores dentro de si misma"
      ]
    },
    {
      "cell_type": "code",
      "metadata": {
        "id": "9vZRwGkoJPsR"
      },
      "source": [
        "lista = [3, 3.34,'Nombre', True]"
      ],
      "execution_count": 1,
      "outputs": []
    },
    {
      "cell_type": "code",
      "metadata": {
        "colab": {
          "base_uri": "https://localhost:8080/"
        },
        "id": "GuznywGsJXlT",
        "outputId": "0edf15ac-1f88-4bf5-9ab3-c2cab1d10857"
      },
      "source": [
        "lista"
      ],
      "execution_count": 2,
      "outputs": [
        {
          "output_type": "execute_result",
          "data": {
            "text/plain": [
              "[3, 3.34, 'Nombre', True]"
            ]
          },
          "metadata": {
            "tags": []
          },
          "execution_count": 2
        }
      ]
    },
    {
      "cell_type": "markdown",
      "metadata": {
        "id": "dilQdo43JsMa"
      },
      "source": [
        "> ..:: INDICES ::.."
      ]
    },
    {
      "cell_type": "markdown",
      "metadata": {
        "id": "2IJ5YRsEKB1F"
      },
      "source": [
        "A los elementos de una lista se puede acceder mediante los indices los cuales comienzan desde \"0\""
      ]
    },
    {
      "cell_type": "code",
      "metadata": {
        "colab": {
          "base_uri": "https://localhost:8080/"
        },
        "id": "uY3qx4GEJeXb",
        "outputId": "1fba716e-57a5-45af-fcd9-75d808a37644"
      },
      "source": [
        "# Accediendo al segundo elemento de la lista\n",
        "\n",
        "lista[1]"
      ],
      "execution_count": 3,
      "outputs": [
        {
          "output_type": "execute_result",
          "data": {
            "text/plain": [
              "3.34"
            ]
          },
          "metadata": {
            "tags": []
          },
          "execution_count": 3
        }
      ]
    },
    {
      "cell_type": "code",
      "metadata": {
        "id": "NOaDPM7cKixU"
      },
      "source": [
        "# Si se accede a un valor fuera del rango nos indica un error \n",
        "\n",
        "# lista[5]      #Descomentar para utilizar"
      ],
      "execution_count": 5,
      "outputs": []
    },
    {
      "cell_type": "code",
      "metadata": {
        "colab": {
          "base_uri": "https://localhost:8080/",
          "height": 35
        },
        "id": "olh1O_GDK4Ev",
        "outputId": "04fb37aa-9dce-4666-b2f2-7b0f3c69c016"
      },
      "source": [
        " # También puedo acceder a los elemetos desde el final (derecha a izquierda) y eso se logra utilizando índices negativos\n",
        "\n",
        "lista[-2]"
      ],
      "execution_count": null,
      "outputs": [
        {
          "output_type": "execute_result",
          "data": {
            "application/vnd.google.colaboratory.intrinsic+json": {
              "type": "string"
            },
            "text/plain": [
              "'Nombre'"
            ]
          },
          "metadata": {
            "tags": []
          },
          "execution_count": 11
        }
      ]
    },
    {
      "cell_type": "code",
      "metadata": {
        "colab": {
          "base_uri": "https://localhost:8080/",
          "height": 35
        },
        "id": "VYBO0Y9CMLvy",
        "outputId": "62a1c589-6092-47ac-a100-c797b28526b0"
      },
      "source": [
        "# Comparativa con indice positivo\n",
        "\n",
        "lista[2]"
      ],
      "execution_count": null,
      "outputs": [
        {
          "output_type": "execute_result",
          "data": {
            "application/vnd.google.colaboratory.intrinsic+json": {
              "type": "string"
            },
            "text/plain": [
              "'Nombre'"
            ]
          },
          "metadata": {
            "tags": []
          },
          "execution_count": 13
        }
      ]
    },
    {
      "cell_type": "markdown",
      "metadata": {
        "id": "YCl8xHVKNigj"
      },
      "source": [
        "Con esto podemos entener que tenemos 2 maneras de acceder con índices positivos y negativos "
      ]
    },
    {
      "cell_type": "markdown",
      "metadata": {
        "id": "14Sd5MgJOaPW"
      },
      "source": [
        "> ..:: Slicing de listas ::.."
      ]
    },
    {
      "cell_type": "code",
      "metadata": {
        "id": "iBxhvcoBMhNL"
      },
      "source": [
        "lista = [10,20,30,40,50,60,70,80,90,100]"
      ],
      "execution_count": null,
      "outputs": []
    },
    {
      "cell_type": "code",
      "metadata": {
        "colab": {
          "base_uri": "https://localhost:8080/"
        },
        "id": "1lIXPFpoPKws",
        "outputId": "a421f705-cb87-4b02-800a-8216ea3bd568"
      },
      "source": [
        "# utilizar un rango para acceder a una lista > Ejemplo comenzar en el índice 2 y terminar en el índice 5, esto ocasiona que se seleccionen todos los elementos desde 2 hasta 7, sin embargo esto nos devuelve todo el rango de los elementos a excepción del último  \n",
        "\n",
        "lista[2:5]"
      ],
      "execution_count": null,
      "outputs": [
        {
          "output_type": "execute_result",
          "data": {
            "text/plain": [
              "[30, 40, 50]"
            ]
          },
          "metadata": {
            "tags": []
          },
          "execution_count": 19
        }
      ]
    },
    {
      "cell_type": "code",
      "metadata": {
        "colab": {
          "base_uri": "https://localhost:8080/"
        },
        "id": "Xt7xGXLAP111",
        "outputId": "db1a8b8f-db7e-4d49-e950-d0c1fa334b44"
      },
      "source": [
        "# Utilizando rango con índices negativos, nuevamente vemos que no se considera el segundo indice \n",
        "\n",
        "lista[2:-2]"
      ],
      "execution_count": null,
      "outputs": [
        {
          "output_type": "execute_result",
          "data": {
            "text/plain": [
              "[30, 40, 50, 60, 70, 80]"
            ]
          },
          "metadata": {
            "tags": []
          },
          "execution_count": 20
        }
      ]
    },
    {
      "cell_type": "code",
      "metadata": {
        "colab": {
          "base_uri": "https://localhost:8080/"
        },
        "id": "ywVsWSSlbNKq",
        "outputId": "380bc915-d8d0-4f21-a497-535bee94613e"
      },
      "source": [
        "# Se debe tener en consideración que el resultado que se obtiene también es una lista, para verificarlo lo podemos asignar a una variable y verificar el tipo de esta variable\n",
        "\n",
        "variable = lista[2:-2]\n",
        "type(variable)\n"
      ],
      "execution_count": null,
      "outputs": [
        {
          "output_type": "execute_result",
          "data": {
            "text/plain": [
              "list"
            ]
          },
          "metadata": {
            "tags": []
          },
          "execution_count": 22
        }
      ]
    },
    {
      "cell_type": "markdown",
      "metadata": {
        "id": "AxuoZs-DRklj"
      },
      "source": [
        "> ..:: Operaciones con Listas ::.."
      ]
    },
    {
      "cell_type": "code",
      "metadata": {
        "id": "hdT5ZV6qRrVi"
      },
      "source": [
        "lista = [10,20,30,40,50,60,70,80,90,100]\n",
        "lista2 = [1,2,3,4,5]"
      ],
      "execution_count": null,
      "outputs": []
    },
    {
      "cell_type": "code",
      "metadata": {
        "colab": {
          "base_uri": "https://localhost:8080/"
        },
        "id": "C1ZlO7DqSOre",
        "outputId": "6325b527-b3dc-40a8-8b19-8f953fbe9f68"
      },
      "source": [
        "# Concatenar listas usando \"+\"\n",
        "\n",
        "lista + lista2"
      ],
      "execution_count": null,
      "outputs": [
        {
          "output_type": "execute_result",
          "data": {
            "text/plain": [
              "[10, 20, 30, 40, 50, 60, 70, 80, 90, 100, 1, 2, 3, 4, 5]"
            ]
          },
          "metadata": {
            "tags": []
          },
          "execution_count": 3
        }
      ]
    },
    {
      "cell_type": "code",
      "metadata": {
        "colab": {
          "base_uri": "https://localhost:8080/"
        },
        "id": "lMlUMdotSeR-",
        "outputId": "20d7df59-e22f-4752-8f91-a53ed201a1a0"
      },
      "source": [
        "# Es importante el orden en que se ingresan los datos, ya que determina el orden en que son agregados, como se demuestra a continuación inviertiendo el orden de la operación anterior\n",
        "\n",
        "lista2 + lista"
      ],
      "execution_count": null,
      "outputs": [
        {
          "output_type": "execute_result",
          "data": {
            "text/plain": [
              "[1, 2, 3, 4, 5, 10, 20, 30, 40, 50, 60, 70, 80, 90, 100]"
            ]
          },
          "metadata": {
            "tags": []
          },
          "execution_count": 4
        }
      ]
    },
    {
      "cell_type": "code",
      "metadata": {
        "colab": {
          "base_uri": "https://localhost:8080/"
        },
        "id": "jgsy1x-OS0WO",
        "outputId": "241aa691-a27b-4f9f-db19-c75b0ee1a9d9"
      },
      "source": [
        "# Al utilizar el \"*\" generamos que me multiplique el contenido de nuestra lista\n",
        "\n",
        "lista2 * 3"
      ],
      "execution_count": null,
      "outputs": [
        {
          "output_type": "execute_result",
          "data": {
            "text/plain": [
              "[1, 2, 3, 4, 5, 1, 2, 3, 4, 5, 1, 2, 3, 4, 5]"
            ]
          },
          "metadata": {
            "tags": []
          },
          "execution_count": 8
        }
      ]
    },
    {
      "cell_type": "code",
      "metadata": {
        "id": "_jcCB-5eTqge"
      },
      "source": [
        "# Se debe tener consideración con ciertos símbolos matematicos que generan error\n",
        "\n",
        "# lista2 / 5     #Descomentar para probar"
      ],
      "execution_count": null,
      "outputs": []
    },
    {
      "cell_type": "code",
      "metadata": {
        "id": "xxA-TXxfVNZh"
      },
      "source": [
        "# Intentar multiplicar 2 listas también nos da error ya que no esta esta soportado por python porque no está definida para los operadores\n",
        "\n",
        "# lista * lista2      #Descomentar para utilizar"
      ],
      "execution_count": null,
      "outputs": []
    },
    {
      "cell_type": "markdown",
      "metadata": {
        "id": "6xEeWRivV7Ko"
      },
      "source": [
        "> ..:: Funciones (len - append - insert) ::.."
      ]
    },
    {
      "cell_type": "code",
      "metadata": {
        "id": "VJlVZwCyWt41"
      },
      "source": [
        "lista = [10,20,30,40,50,60,70,80,90,100]"
      ],
      "execution_count": null,
      "outputs": []
    },
    {
      "cell_type": "code",
      "metadata": {
        "colab": {
          "base_uri": "https://localhost:8080/"
        },
        "id": "JObV3HSwWNFh",
        "outputId": "7da428f2-bf34-423b-e159-d38238de4043"
      },
      "source": [
        "# Función \"len()\"(length) > Permite obtener la cantidad de elementos dentro de una lista\n",
        "\n",
        "len(lista)"
      ],
      "execution_count": null,
      "outputs": [
        {
          "output_type": "execute_result",
          "data": {
            "text/plain": [
              "10"
            ]
          },
          "metadata": {
            "tags": []
          },
          "execution_count": 22
        }
      ]
    },
    {
      "cell_type": "code",
      "metadata": {
        "colab": {
          "base_uri": "https://localhost:8080/"
        },
        "id": "Dus3EL2dXDmJ",
        "outputId": "feec4e5e-4a90-45f6-81ad-8cda413f51df"
      },
      "source": [
        "# Función \"append()\" > Permite agregar un elemento al final de una lista\n",
        "\n",
        "lista.append(110)\n",
        "\n",
        "lista"
      ],
      "execution_count": null,
      "outputs": [
        {
          "output_type": "execute_result",
          "data": {
            "text/plain": [
              "[10, 20, 30, 40, 50, 60, 70, 80, 90, 100, 110]"
            ]
          },
          "metadata": {
            "tags": []
          },
          "execution_count": 23
        }
      ]
    },
    {
      "cell_type": "code",
      "metadata": {
        "colab": {
          "base_uri": "https://localhost:8080/"
        },
        "id": "fFQDNLoyYCe1",
        "outputId": "9e0b7bd9-b498-41a0-8477-7f126e09b722"
      },
      "source": [
        "# Función \"insert()\" > Permite insertar un objeto en cualquier posición de la lista, especificandole el índice\n",
        "\n",
        "lista.insert(3, 999)\n",
        "lista"
      ],
      "execution_count": null,
      "outputs": [
        {
          "output_type": "execute_result",
          "data": {
            "text/plain": [
              "[10, 20, 30, 999, 40, 50, 60, 70, 80, 90, 100, 110]"
            ]
          },
          "metadata": {
            "tags": []
          },
          "execution_count": 24
        }
      ]
    },
    {
      "cell_type": "markdown",
      "metadata": {
        "id": "f14efsKxZu3b"
      },
      "source": [
        "> ..:: Funciones (pop - remove) ::.."
      ]
    },
    {
      "cell_type": "code",
      "metadata": {
        "colab": {
          "base_uri": "https://localhost:8080/"
        },
        "id": "ozoWQ35YZ53L",
        "outputId": "6b729097-9d7d-4163-90e4-770fadb1d490"
      },
      "source": [
        "# Función \"pop()\" > Permite eliminar un elemento con un indice específico\n",
        "\n",
        "lista.pop(0)"
      ],
      "execution_count": null,
      "outputs": [
        {
          "output_type": "execute_result",
          "data": {
            "text/plain": [
              "10"
            ]
          },
          "metadata": {
            "tags": []
          },
          "execution_count": 25
        }
      ]
    },
    {
      "cell_type": "code",
      "metadata": {
        "colab": {
          "base_uri": "https://localhost:8080/"
        },
        "id": "qz37X8rwaVWE",
        "outputId": "3774f1ed-2fa3-40ad-e4b3-bb935dbcd6f9"
      },
      "source": [
        "lista"
      ],
      "execution_count": null,
      "outputs": [
        {
          "output_type": "execute_result",
          "data": {
            "text/plain": [
              "[20, 30, 999, 40, 50, 60, 70, 80, 90, 100, 110]"
            ]
          },
          "metadata": {
            "tags": []
          },
          "execution_count": 26
        }
      ]
    },
    {
      "cell_type": "code",
      "metadata": {
        "id": "ZVg8iVXCaYJw"
      },
      "source": [
        "# Eliminar un elemento y asignarlo a una variable\n",
        "\n",
        "variable = lista.pop(2) "
      ],
      "execution_count": null,
      "outputs": []
    },
    {
      "cell_type": "code",
      "metadata": {
        "colab": {
          "base_uri": "https://localhost:8080/"
        },
        "id": "oL1GsrEeanKO",
        "outputId": "25a944f1-4374-4b9e-a5c7-dc1eab7b0f42"
      },
      "source": [
        "variable"
      ],
      "execution_count": null,
      "outputs": [
        {
          "output_type": "execute_result",
          "data": {
            "text/plain": [
              "999"
            ]
          },
          "metadata": {
            "tags": []
          },
          "execution_count": 29
        }
      ]
    },
    {
      "cell_type": "code",
      "metadata": {
        "colab": {
          "base_uri": "https://localhost:8080/"
        },
        "id": "gBpwrJIpa5eK",
        "outputId": "7941ffa8-37ad-430c-b1e3-f8f507f6671a"
      },
      "source": [
        "lista"
      ],
      "execution_count": null,
      "outputs": [
        {
          "output_type": "execute_result",
          "data": {
            "text/plain": [
              "[20, 30, 40, 50, 60, 70, 80, 90, 100, 110]"
            ]
          },
          "metadata": {
            "tags": []
          },
          "execution_count": 30
        }
      ]
    },
    {
      "cell_type": "code",
      "metadata": {
        "id": "I6fzEUy4a62a"
      },
      "source": [
        "# Eliminar un elemento, según su valor con la función \"remove()\"\n",
        "\n",
        "lista.remove(110)"
      ],
      "execution_count": null,
      "outputs": []
    },
    {
      "cell_type": "code",
      "metadata": {
        "colab": {
          "base_uri": "https://localhost:8080/"
        },
        "id": "Txr0dxxLbSWw",
        "outputId": "60b07664-a439-40a8-b4a0-aa1077233287"
      },
      "source": [
        "lista"
      ],
      "execution_count": null,
      "outputs": [
        {
          "output_type": "execute_result",
          "data": {
            "text/plain": [
              "[20, 30, 40, 50, 60, 70, 80, 90, 100]"
            ]
          },
          "metadata": {
            "tags": []
          },
          "execution_count": 32
        }
      ]
    },
    {
      "cell_type": "markdown",
      "metadata": {
        "id": "FLuZPpZiboHe"
      },
      "source": [
        "> ..:: Ordenar y remplazar elementos (sort - reverse) ::.."
      ]
    },
    {
      "cell_type": "code",
      "metadata": {
        "id": "pqwF1hu5byCC"
      },
      "source": [
        "# Modificar un elemento utilizando su índice \n",
        "\n",
        "lista[8] = 200"
      ],
      "execution_count": null,
      "outputs": []
    },
    {
      "cell_type": "code",
      "metadata": {
        "colab": {
          "base_uri": "https://localhost:8080/"
        },
        "id": "Cs8GhQGOc1Xr",
        "outputId": "7a528abc-6c13-4cc5-91b1-37bd52fb9bb2"
      },
      "source": [
        "lista"
      ],
      "execution_count": null,
      "outputs": [
        {
          "output_type": "execute_result",
          "data": {
            "text/plain": [
              "[20, 30, 40, 50, 60, 70, 80, 90, 200]"
            ]
          },
          "metadata": {
            "tags": []
          },
          "execution_count": 35
        }
      ]
    },
    {
      "cell_type": "code",
      "metadata": {
        "id": "tCfOTXthc-M2"
      },
      "source": [
        "# Ordenar los elementos de una lista de manera ascendente con el método \"sort()\"\n",
        "\n",
        "lista2 = [-10,30,55,200,150,-900]"
      ],
      "execution_count": null,
      "outputs": []
    },
    {
      "cell_type": "code",
      "metadata": {
        "id": "TuaCG7Updl9_"
      },
      "source": [
        "lista2.sort()"
      ],
      "execution_count": null,
      "outputs": []
    },
    {
      "cell_type": "code",
      "metadata": {
        "colab": {
          "base_uri": "https://localhost:8080/"
        },
        "id": "DQ-3CNajdqcs",
        "outputId": "dffdff4c-0afe-4e17-997d-37ef4e162661"
      },
      "source": [
        "lista2"
      ],
      "execution_count": null,
      "outputs": [
        {
          "output_type": "execute_result",
          "data": {
            "text/plain": [
              "[-900, -10, 30, 55, 150, 200]"
            ]
          },
          "metadata": {
            "tags": []
          },
          "execution_count": 38
        }
      ]
    },
    {
      "cell_type": "code",
      "metadata": {
        "id": "QaDT96cIdsm2"
      },
      "source": [
        "# Para ordenar una lista de manera inversa usamos el método \"reverse()\"\n",
        "\n",
        "lista2.reverse()"
      ],
      "execution_count": null,
      "outputs": []
    },
    {
      "cell_type": "code",
      "metadata": {
        "colab": {
          "base_uri": "https://localhost:8080/"
        },
        "id": "egZHR1yHeVW7",
        "outputId": "a7b9ce7e-fbff-49b4-c3d2-b71f68478ac7"
      },
      "source": [
        "lista2"
      ],
      "execution_count": null,
      "outputs": [
        {
          "output_type": "execute_result",
          "data": {
            "text/plain": [
              "[200, 150, 55, 30, -10, -900]"
            ]
          },
          "metadata": {
            "tags": []
          },
          "execution_count": 40
        }
      ]
    },
    {
      "cell_type": "code",
      "metadata": {
        "id": "xGBJd3z6eW1K"
      },
      "source": [
        "# Tener en consideración que realiza un orden según su posición no su valor\n",
        "\n",
        "lista3 = [2,5,8,11,100,-200,1000]"
      ],
      "execution_count": null,
      "outputs": []
    },
    {
      "cell_type": "code",
      "metadata": {
        "id": "hX4s3_NxfXVo"
      },
      "source": [
        "lista3.reverse()"
      ],
      "execution_count": null,
      "outputs": []
    },
    {
      "cell_type": "code",
      "metadata": {
        "colab": {
          "base_uri": "https://localhost:8080/"
        },
        "id": "kPWQrfXbfZ2m",
        "outputId": "ef5a4fbf-8906-49df-a504-3c9e3229b9ca"
      },
      "source": [
        "lista3"
      ],
      "execution_count": null,
      "outputs": [
        {
          "output_type": "execute_result",
          "data": {
            "text/plain": [
              "[1000, -200, 100, 11, 8, 5, 2]"
            ]
          },
          "metadata": {
            "tags": []
          },
          "execution_count": 44
        }
      ]
    },
    {
      "cell_type": "markdown",
      "metadata": {
        "id": "-RyKKJsNfpZm"
      },
      "source": [
        "> ..:: Operaciones (sum - min - max) ::.."
      ]
    },
    {
      "cell_type": "code",
      "metadata": {
        "id": "ImQyDdOQfpFB"
      },
      "source": [
        "# Realizar la suma de una lista con valores numericos utilizando la función \"sum()\"\n",
        "\n",
        "lista = [2,4,6,8]"
      ],
      "execution_count": null,
      "outputs": []
    },
    {
      "cell_type": "code",
      "metadata": {
        "colab": {
          "base_uri": "https://localhost:8080/"
        },
        "id": "gaz000qrfbJY",
        "outputId": "60c6bd77-e6ed-48b2-8d47-89eed8ab874f"
      },
      "source": [
        "sum(lista)"
      ],
      "execution_count": null,
      "outputs": [
        {
          "output_type": "execute_result",
          "data": {
            "text/plain": [
              "20"
            ]
          },
          "metadata": {
            "tags": []
          },
          "execution_count": 49
        }
      ]
    },
    {
      "cell_type": "code",
      "metadata": {
        "colab": {
          "base_uri": "https://localhost:8080/"
        },
        "id": "ZbF7o275gOqX",
        "outputId": "45ab956e-7d59-4d99-8ffa-64eed33762e8"
      },
      "source": [
        "# Obtener el valor máximo de una lista con la función \"max()\"\n",
        "\n",
        "max(lista)"
      ],
      "execution_count": null,
      "outputs": [
        {
          "output_type": "execute_result",
          "data": {
            "text/plain": [
              "8"
            ]
          },
          "metadata": {
            "tags": []
          },
          "execution_count": 51
        }
      ]
    },
    {
      "cell_type": "code",
      "metadata": {
        "colab": {
          "base_uri": "https://localhost:8080/"
        },
        "id": "RR_E-4FigmBv",
        "outputId": "6c91fdb0-2ee5-4e6e-8413-55dc72578615"
      },
      "source": [
        "# Obtener el valor mínimo de una lista con la función \"min()\"\n",
        "\n",
        "min(lista)"
      ],
      "execution_count": null,
      "outputs": [
        {
          "output_type": "execute_result",
          "data": {
            "text/plain": [
              "2"
            ]
          },
          "metadata": {
            "tags": []
          },
          "execution_count": 52
        }
      ]
    },
    {
      "cell_type": "markdown",
      "metadata": {
        "id": "9LPsjLPlhRAu"
      },
      "source": [
        "> ..:: Listas y Strings ::.."
      ]
    },
    {
      "cell_type": "code",
      "metadata": {
        "id": "5JUrFHwlhPUo"
      },
      "source": [
        "lista = [20,50,-10,200,-100,2]\n",
        "\n",
        "saludo = \"Hello World\""
      ],
      "execution_count": null,
      "outputs": []
    },
    {
      "cell_type": "code",
      "metadata": {
        "colab": {
          "base_uri": "https://localhost:8080/"
        },
        "id": "K0_ACwZJiATv",
        "outputId": "8ec95f7e-90ff-4f76-e66e-c886c84ac4f4"
      },
      "source": [
        "# Accediendo a un valor de la lista por su índice\n",
        "\n",
        "lista[2]"
      ],
      "execution_count": null,
      "outputs": [
        {
          "output_type": "execute_result",
          "data": {
            "text/plain": [
              "-10"
            ]
          },
          "metadata": {
            "tags": []
          },
          "execution_count": 55
        }
      ]
    },
    {
      "cell_type": "code",
      "metadata": {
        "colab": {
          "base_uri": "https://localhost:8080/",
          "height": 35
        },
        "id": "Og7e-4l7iEH3",
        "outputId": "8a6c913f-944c-4900-894b-b8c9190e8553"
      },
      "source": [
        "# Accediendo al valor de un \"string\" utilizando los índices\n",
        "\n",
        "saludo[0]"
      ],
      "execution_count": null,
      "outputs": [
        {
          "output_type": "execute_result",
          "data": {
            "application/vnd.google.colaboratory.intrinsic+json": {
              "type": "string"
            },
            "text/plain": [
              "'H'"
            ]
          },
          "metadata": {
            "tags": []
          },
          "execution_count": 56
        }
      ]
    },
    {
      "cell_type": "code",
      "metadata": {
        "colab": {
          "base_uri": "https://localhost:8080/",
          "height": 35
        },
        "id": "kp-KXTzBiH8B",
        "outputId": "a6f56d5e-ba79-4029-f249-427586cbfa40"
      },
      "source": [
        "# Accediendo a una conjunto de valores en un \"string\" utilizando un rango\n",
        "\n",
        "saludo[0:5]"
      ],
      "execution_count": null,
      "outputs": [
        {
          "output_type": "execute_result",
          "data": {
            "application/vnd.google.colaboratory.intrinsic+json": {
              "type": "string"
            },
            "text/plain": [
              "'Hello'"
            ]
          },
          "metadata": {
            "tags": []
          },
          "execution_count": 57
        }
      ]
    },
    {
      "cell_type": "markdown",
      "metadata": {
        "id": "ccw4RDf-jSzu"
      },
      "source": [
        "> ..:: Listas y Strings: Mutabilidad ::.."
      ]
    },
    {
      "cell_type": "code",
      "metadata": {
        "id": "SGsqu-p6iN1Q"
      },
      "source": [
        "lista = [20,50,-10,200,-100,2]\n",
        "\n",
        "saludo = \"Hello World\""
      ],
      "execution_count": null,
      "outputs": []
    },
    {
      "cell_type": "code",
      "metadata": {
        "id": "Ry4djkjsjt3r"
      },
      "source": [
        "# Reemplazar los elementos de una lista indicandolo el índice correspondiente por un nuevo valor\n",
        "\n",
        "lista[4] = 1234"
      ],
      "execution_count": null,
      "outputs": []
    },
    {
      "cell_type": "code",
      "metadata": {
        "colab": {
          "base_uri": "https://localhost:8080/"
        },
        "id": "_6CY3RVdj5xe",
        "outputId": "d67fff19-c817-45f3-cd58-91e103fc45b5"
      },
      "source": [
        "lista"
      ],
      "execution_count": null,
      "outputs": [
        {
          "output_type": "execute_result",
          "data": {
            "text/plain": [
              "[20, 50, -10, 200, 1234, 2]"
            ]
          },
          "metadata": {
            "tags": []
          },
          "execution_count": 61
        }
      ]
    },
    {
      "cell_type": "code",
      "metadata": {
        "id": "E9RY1gLkkBYH"
      },
      "source": [
        "# Se debe tener en consideración que tratar de realizar la misma operación con un \"string\" nos va a dar un error\n",
        "\n",
        "# saludo[4] = \"F\"    #Descomentar para utilizar"
      ],
      "execution_count": null,
      "outputs": []
    },
    {
      "cell_type": "code",
      "metadata": {
        "id": "s35lt_rekzoB"
      },
      "source": [
        "# Se debe considerar que un \"string\" nos permite acceder a sus elementos por su índice pero no permite la asignación, esto se conoce como \"inmutabilidad\""
      ],
      "execution_count": null,
      "outputs": []
    },
    {
      "cell_type": "markdown",
      "metadata": {
        "id": "BuMoTe-NuA5s"
      },
      "source": [
        "> ..:: Cuestionario ::.."
      ]
    },
    {
      "cell_type": "markdown",
      "metadata": {
        "id": "dBNugeHzxDs4"
      },
      "source": [
        "Pregunta 1:\n",
        "\n",
        "1)Se de declarar una variable y su tipo antes de poder utilizarla?\n",
        "\n",
        "a)si\n",
        "\n",
        "b)no"
      ]
    },
    {
      "cell_type": "markdown",
      "metadata": {
        "id": "O9HH1R1qxot0"
      },
      "source": [
        "2)¿Cuál es el resultado de la siguiente operación?\n",
        "\n",
        "10//4==10/4\n",
        "\n",
        "a)true\n",
        "\n",
        "b)false"
      ]
    },
    {
      "cell_type": "markdown",
      "metadata": {
        "id": "QuOERUlv0Tsg"
      },
      "source": [
        "3)¿Cuál es el resultado de la siguiente operación?\n",
        "\n",
        "10/2*5+2**2\n",
        "\n",
        "a)5\n",
        "\n",
        "b)29\n",
        "\n",
        "c)579"
      ]
    },
    {
      "cell_type": "markdown",
      "metadata": {
        "id": "da-DNNAe1fxp"
      },
      "source": [
        "4)El siguiente programa calcula el promedio de los elementos de una lista. Completar el código faltante\n",
        "\n",
        "lista = [10,20,30,40,50,60]\n",
        "\n",
        "promedio = sum(lista)/_(lista)\n",
        "\n",
        "a)length\n",
        "\n",
        "b)len\n",
        "\n",
        "c)size"
      ]
    },
    {
      "cell_type": "markdown",
      "metadata": {
        "id": "p5pHGhjT2jG-"
      },
      "source": [
        "5) ¿Cuál es el resultado de los siguientes comandos?\n",
        "\n",
        "lista = [10, 20, 30, 40, 50, 60]\n",
        "\n",
        "lista[-4:]\n",
        "\n",
        "a)[30,40,50,60]\n",
        "\n",
        "b)30\n",
        "\n",
        "c)[30]"
      ]
    },
    {
      "cell_type": "markdown",
      "metadata": {
        "id": "DijpnpWaFseu"
      },
      "source": [
        "6)¿Cuál es el resultado de la siguiente sentencia?\n",
        "\n",
        "\"Python para todos\" == \"python para todos\"\n",
        "\n",
        "a)true\n",
        "\n",
        "b)false"
      ]
    },
    {
      "cell_type": "markdown",
      "metadata": {
        "id": "2AyWAp80HWwG"
      },
      "source": [
        "7)¿Cuáles de los siguientes comandos se pueden ejecutar para obtener como resultado la lista [10, 20, 30, 40, 50]\n",
        "\n",
        "lista = [10, 20, 30, 40]\n",
        "\n",
        "a)lista.append(50)\n",
        "\n",
        "b)lista = lista + 50\n",
        "\n",
        "c)lista[-1] = 50\n",
        "\n",
        "d)lista.append(50) y/o lista = lista + [50]"
      ]
    },
    {
      "cell_type": "markdown",
      "metadata": {
        "id": "bTg7IvOaIvPV"
      },
      "source": [
        "8)¿Cuál es el valor de \"a\" luego de ejecutar las sifuientes sentencias?\n",
        "\n",
        "lista = [10, 20, 30, 40, 50, 60]\n",
        "\n",
        "a = lista.pop(3)\n",
        "\n",
        "a)[10,20,30,50,60]\n",
        "\n",
        "b)40\n",
        "\n",
        "c)30\n",
        "\n",
        "d)[40]"
      ]
    },
    {
      "cell_type": "markdown",
      "metadata": {
        "id": "zdxZag1OLjxq"
      },
      "source": [
        "9)¿Cuál es el resultado de la siguiente sentencia?\n",
        "\n",
        "nombre = \"gaseosa\"\n",
        "\n",
        "nombre[1] == nombre[-1]\n",
        "\n",
        "a)true\n",
        "\n",
        "b)false"
      ]
    },
    {
      "cell_type": "markdown",
      "metadata": {
        "id": "udpUp6ORNLuH"
      },
      "source": [
        "10)¿Cuál es el resultado de ejecutar la siguiente sentencia?\n",
        "\n",
        "nombre = \"Renato\"\n",
        "\n",
        "print(f'Hola,{nombre})\n",
        "\n",
        "a)Error\n",
        "\n",
        "b)Hola, nombre\n",
        "\n",
        "c)Hola, Renato"
      ]
    },
    {
      "cell_type": "code",
      "metadata": {
        "id": "_iCtGqXNMue4"
      },
      "source": [
        ""
      ],
      "execution_count": 13,
      "outputs": []
    }
  ]
}